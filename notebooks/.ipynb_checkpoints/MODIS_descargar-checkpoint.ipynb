{
 "cells": [
  {
   "cell_type": "markdown",
   "metadata": {},
   "source": [
    "_Autor:_    __Jesús Casado__ <br> _Revisión:_ __20/11/2019__ <br>\n",
    "\n",
    "__Introducción__<br>\n",
    "Código para descargar datos MODIS del [servidor USGS](https://e4ftl01.cr.usgs.gov/). En dicho enlace se pueden ver las misiones, productos y fechas disponibles.\n",
    "\n",
    "Para poder descargar datos del servidor, es necesario estar registrado en https://urs.earthdata.nasa.gov/.\n",
    "\n",
    "__Cosas que arreglar__ <br>\n",
    "\n",
    "***\n",
    "\n",
    "__Índice__<br>\n",
    "__[Evapotranspiración](#Evapotranspiración)__<br>\n",
    "__[FPAR/LAI](#FPAR/LAI)__<br>\n",
    "__[Índices de vegetación](#Índices-de-vegetación)__<br>\n",
    "__[Cobertura del suelo](#Cobertura-del-suelo)__<br>\n",
    "***"
   ]
  },
  {
   "cell_type": "code",
   "execution_count": 1,
   "metadata": {},
   "outputs": [],
   "source": [
    "import os\n",
    "import requests\n",
    "import urllib\n",
    "from http.cookiejar import CookieJar\n",
    "from bs4 import BeautifulSoup\n",
    "from datetime import datetime"
   ]
  },
  {
   "cell_type": "code",
   "execution_count": 2,
   "metadata": {},
   "outputs": [],
   "source": [
    "%run funciones_MODIS.ipynb"
   ]
  },
  {
   "cell_type": "code",
   "execution_count": 4,
   "metadata": {},
   "outputs": [],
   "source": [
    "# ruta donde guardar las descargas\n",
    "rutaMODIS = 'F:/OneDrive - Universidad de Cantabria/Cartografia/MODIS/'\n",
    "rutaMODIS = 'C:/Users/jcr693/OneDrive - UNICAN - Estudiantes/Cartografia/Cartografia/MODIS/'"
   ]
  },
  {
   "cell_type": "markdown",
   "metadata": {},
   "source": [
    "### Evapotranspiración"
   ]
  },
  {
   "cell_type": "code",
   "execution_count": 19,
   "metadata": {},
   "outputs": [
    {
     "name": "stdout",
     "output_type": "stream",
     "text": [
      "Fecha  797 de  797; archivo   1 de   1\r"
     ]
    }
   ],
   "source": [
    "# Evapotranspiración (8 días, 500 m) de Aqua\n",
    "descarga_MODIS('casadoj', 'Chomolungma1619', rutaMODIS, 'MYD16A2.006', tiles=['h17v0'])"
   ]
  },
  {
   "cell_type": "code",
   "execution_count": 6,
   "metadata": {},
   "outputs": [
    {
     "name": "stdout",
     "output_type": "stream",
     "text": [
      "Fecha  866 de  866; archivo   1 de   1\r"
     ]
    }
   ],
   "source": [
    "# Evapotranspiración (8 días, 500 m) de Terra\n",
    "descarga_MODIS('casadoj', 'Chomolungma1619', rutaMODIS, 'MOD16A2.006', tiles=['h17v04'])"
   ]
  },
  {
   "cell_type": "markdown",
   "metadata": {},
   "source": [
    "### FPAR/LAI"
   ]
  },
  {
   "cell_type": "code",
   "execution_count": 8,
   "metadata": {},
   "outputs": [
    {
     "name": "stdout",
     "output_type": "stream",
     "text": [
      "Fecha  905 de  905; archivo   1 de   1\r"
     ]
    }
   ],
   "source": [
    "# FPAR/LAI de Terra \n",
    "descarga_MODIS('casadoj', 'Chomolungma1619', rutaMODIS, 'MOD15A2H.006', tiles=['h17v04'])"
   ]
  },
  {
   "cell_type": "code",
   "execution_count": 9,
   "metadata": {},
   "outputs": [
    {
     "name": "stdout",
     "output_type": "stream",
     "text": [
      "Fecha  799 de  799; archivo   1 de   1\r"
     ]
    }
   ],
   "source": [
    "# FPAR/LAI de Aqua\n",
    "descarga_MODIS('casadoj', 'Chomolungma1619', rutaMODIS, 'MYD15A2H.006', tiles=['h17v04'])"
   ]
  },
  {
   "cell_type": "markdown",
   "metadata": {},
   "source": [
    "### Índices de vegetación"
   ]
  },
  {
   "cell_type": "code",
   "execution_count": 5,
   "metadata": {},
   "outputs": [
    {
     "name": "stdout",
     "output_type": "stream",
     "text": [
      "Fecha  457 de  457; archivo   1 de   1\r"
     ]
    }
   ],
   "source": [
    "# Vegetation indexes NDVI/EVI (16 días, 500m) de Terra ¡hay también a 250 m (MOD13Q1)!\n",
    "descarga_MODIS('casadoj', 'Chomolungma1619', rutaMODIS, 'MOD13A1.006', tiles=['h17v05'])"
   ]
  },
  {
   "cell_type": "code",
   "execution_count": 6,
   "metadata": {},
   "outputs": [
    {
     "name": "stdout",
     "output_type": "stream",
     "text": [
      "Fecha  403 de  403; archivo   2 de   2\r"
     ]
    }
   ],
   "source": [
    "# Vegetation indexes NDVI/EVI (16 días, 500m) de Aqua ¡hay también a 250 m (MYD13Q1)!\n",
    "descarga_MODIS('casadoj', 'Chomolungma1619', rutaMODIS, 'MYD13A1.006', tiles=['h17v05'])"
   ]
  },
  {
   "cell_type": "markdown",
   "metadata": {},
   "source": [
    "### Cobertura del suelo"
   ]
  },
  {
   "cell_type": "code",
   "execution_count": 12,
   "metadata": {},
   "outputs": [
    {
     "name": "stdout",
     "output_type": "stream",
     "text": [
      "Fecha   18 de   18; archivo   1 de   1\r"
     ]
    }
   ],
   "source": [
    "# Land cover type (anual, 500 m) combinado Aqua y Terra\n",
    "descarga_MODIS('casadoj', 'Chomolungma1619', rutaMODIS, 'MCD12Q1.006', tiles=['h17v04'])"
   ]
  },
  {
   "cell_type": "code",
   "execution_count": 13,
   "metadata": {},
   "outputs": [
    {
     "name": "stdout",
     "output_type": "stream",
     "text": [
      "Fecha   17 de   17; archivo   1 de   1\r"
     ]
    }
   ],
   "source": [
    "# Land cover dynamics (anual, 500 m) combinado Aqua y Terra\n",
    "descarga_MODIS('casadoj', 'Chomolungma1619', rutaMODIS, 'MCD12Q2.006', tiles=['h17v04'])"
   ]
  },
  {
   "cell_type": "markdown",
   "metadata": {},
   "source": [
    "### Nieve"
   ]
  },
  {
   "cell_type": "code",
   "execution_count": 5,
   "metadata": {},
   "outputs": [
    {
     "ename": "UnboundLocalError",
     "evalue": "local variable 'urlproduct' referenced before assignment",
     "output_type": "error",
     "traceback": [
      "\u001b[1;31m---------------------------------------------------------------------------\u001b[0m",
      "\u001b[1;31mUnboundLocalError\u001b[0m                         Traceback (most recent call last)",
      "\u001b[1;32m<ipython-input-5-2fe8dd328413>\u001b[0m in \u001b[0;36m<module>\u001b[1;34m\u001b[0m\n\u001b[0;32m      1\u001b[0m \u001b[1;31m# Land cover type (anual, 500 m) combinado Aqua y Terra\u001b[0m\u001b[1;33m\u001b[0m\u001b[1;33m\u001b[0m\u001b[1;33m\u001b[0m\u001b[0m\n\u001b[1;32m----> 2\u001b[1;33m \u001b[0mdescarga_MODIS\u001b[0m\u001b[1;33m(\u001b[0m\u001b[1;34m'casadoj'\u001b[0m\u001b[1;33m,\u001b[0m \u001b[1;34m'Chomolungma1619'\u001b[0m\u001b[1;33m,\u001b[0m \u001b[0mrutaMODIS\u001b[0m\u001b[1;33m,\u001b[0m \u001b[1;34m'MOD10A2.006'\u001b[0m\u001b[1;33m,\u001b[0m \u001b[0mtiles\u001b[0m\u001b[1;33m=\u001b[0m\u001b[1;33m[\u001b[0m\u001b[1;34m'h17v04'\u001b[0m\u001b[1;33m]\u001b[0m\u001b[1;33m)\u001b[0m\u001b[1;33m\u001b[0m\u001b[1;33m\u001b[0m\u001b[0m\n\u001b[0m",
      "\u001b[1;32m<ipython-input-2-650ed6248d41>\u001b[0m in \u001b[0;36mdescarga_MODIS\u001b[1;34m(username, password, path, product, start, end, tiles, url, format)\u001b[0m\n\u001b[0;32m     57\u001b[0m     \u001b[1;31m# seleccionar fechas dentro del periodo de interés\u001b[0m\u001b[1;33m\u001b[0m\u001b[1;33m\u001b[0m\u001b[1;33m\u001b[0m\u001b[0m\n\u001b[0;32m     58\u001b[0m     \u001b[0murldates\u001b[0m \u001b[1;33m=\u001b[0m \u001b[1;33m[\u001b[0m\u001b[1;33m]\u001b[0m\u001b[1;33m\u001b[0m\u001b[1;33m\u001b[0m\u001b[0m\n\u001b[1;32m---> 59\u001b[1;33m     \u001b[1;32mfor\u001b[0m \u001b[0mfd\u001b[0m \u001b[1;32min\u001b[0m \u001b[0mextract_dir\u001b[0m\u001b[1;33m(\u001b[0m\u001b[0murlproduct\u001b[0m\u001b[1;33m)\u001b[0m\u001b[1;33m[\u001b[0m\u001b[1;36m1\u001b[0m\u001b[1;33m:\u001b[0m\u001b[1;33m]\u001b[0m\u001b[1;33m:\u001b[0m\u001b[1;33m\u001b[0m\u001b[1;33m\u001b[0m\u001b[0m\n\u001b[0m\u001b[0;32m     60\u001b[0m         \u001b[0mdate\u001b[0m \u001b[1;33m=\u001b[0m \u001b[0mdatetime\u001b[0m\u001b[1;33m.\u001b[0m\u001b[0mstrptime\u001b[0m\u001b[1;33m(\u001b[0m\u001b[0mfd\u001b[0m\u001b[1;33m.\u001b[0m\u001b[0msplit\u001b[0m\u001b[1;33m(\u001b[0m\u001b[1;34m'/'\u001b[0m\u001b[1;33m)\u001b[0m\u001b[1;33m[\u001b[0m\u001b[1;33m-\u001b[0m\u001b[1;36m2\u001b[0m\u001b[1;33m]\u001b[0m\u001b[1;33m,\u001b[0m \u001b[1;34m'%Y.%m.%d'\u001b[0m\u001b[1;33m)\u001b[0m\u001b[1;33m.\u001b[0m\u001b[0mdate\u001b[0m\u001b[1;33m(\u001b[0m\u001b[1;33m)\u001b[0m\u001b[1;33m\u001b[0m\u001b[1;33m\u001b[0m\u001b[0m\n\u001b[0;32m     61\u001b[0m         \u001b[1;32mif\u001b[0m \u001b[1;33m(\u001b[0m\u001b[0mstart\u001b[0m \u001b[1;33m<=\u001b[0m \u001b[0mdate\u001b[0m\u001b[1;33m)\u001b[0m \u001b[1;33m&\u001b[0m \u001b[1;33m(\u001b[0m\u001b[0mend\u001b[0m \u001b[1;33m>=\u001b[0m \u001b[0mdate\u001b[0m\u001b[1;33m)\u001b[0m\u001b[1;33m:\u001b[0m\u001b[1;33m\u001b[0m\u001b[1;33m\u001b[0m\u001b[0m\n",
      "\u001b[1;31mUnboundLocalError\u001b[0m: local variable 'urlproduct' referenced before assignment"
     ]
    }
   ],
   "source": [
    "# Land cover type (anual, 500 m) combinado Aqua y Terra\n",
    "descarga_MODIS('casadoj', 'Chomolungma1619', rutaMODIS, 'MOD10A2.006',\n",
    "               tiles=['h17v04'])"
   ]
  },
  {
   "cell_type": "code",
   "execution_count": null,
   "metadata": {},
   "outputs": [],
   "source": []
  }
 ],
 "metadata": {
  "kernelspec": {
   "display_name": "Python 3",
   "language": "python",
   "name": "python3"
  },
  "language_info": {
   "codemirror_mode": {
    "name": "ipython",
    "version": 3
   },
   "file_extension": ".py",
   "mimetype": "text/x-python",
   "name": "python",
   "nbconvert_exporter": "python",
   "pygments_lexer": "ipython3",
   "version": "3.7.7"
  },
  "varInspector": {
   "cols": {
    "lenName": 16,
    "lenType": 16,
    "lenVar": 40
   },
   "kernels_config": {
    "python": {
     "delete_cmd_postfix": "",
     "delete_cmd_prefix": "del ",
     "library": "var_list.py",
     "varRefreshCmd": "print(var_dic_list())"
    },
    "r": {
     "delete_cmd_postfix": ") ",
     "delete_cmd_prefix": "rm(",
     "library": "var_list.r",
     "varRefreshCmd": "cat(var_dic_list()) "
    }
   },
   "types_to_exclude": [
    "module",
    "function",
    "builtin_function_or_method",
    "instance",
    "_Feature"
   ],
   "window_display": false
  }
 },
 "nbformat": 4,
 "nbformat_minor": 4
}
