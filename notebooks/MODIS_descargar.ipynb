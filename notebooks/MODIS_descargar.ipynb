{
 "cells": [
  {
   "cell_type": "markdown",
   "metadata": {},
   "source": [
    "_Autor:_    __Jesús Casado__ <br> _Revisión:_ __20/11/2019__ <br>\n",
    "\n",
    "__Introducción__<br>\n",
    "Código para descargar datos MODIS del [servidor USGS](https://e4ftl01.cr.usgs.gov/). En dicho enlace se pueden ver las misiones, productos y fechas disponibles.\n",
    "\n",
    "Para poder descargar datos del servidor, es necesario estar registrado en https://urs.earthdata.nasa.gov/.\n",
    "\n",
    "__Cosas que arreglar__ <br>\n",
    "\n",
    "***\n",
    "\n",
    "__Índice__<br>\n",
    "__[Evapotranspiración](#Evapotranspiración)__<br>\n",
    "__[FPAR/LAI](#FPAR/LAI)__<br>\n",
    "__[Índices de vegetación](#Índices-de-vegetación)__<br>\n",
    "__[Cobertura del suelo](#Cobertura-del-suelo)__<br>\n",
    "***"
   ]
  },
  {
   "cell_type": "code",
   "execution_count": 1,
   "metadata": {},
   "outputs": [],
   "source": [
    "import os\n",
    "import requests\n",
    "import urllib\n",
    "from http.cookiejar import CookieJar\n",
    "from bs4 import BeautifulSoup\n",
    "from datetime import datetime"
   ]
  },
  {
   "cell_type": "code",
   "execution_count": 2,
   "metadata": {},
   "outputs": [
    {
     "ename": "SyntaxError",
     "evalue": "illegal target for annotation (<string>, line 1)",
     "output_type": "error",
     "traceback": [
      "Traceback \u001b[1;36m(most recent call last)\u001b[0m:\n",
      "  File \u001b[0;32m\"C:\\ProgramFiles\\Anaconda3\\envs\\geo_env\\lib\\site-packages\\IPython\\core\\interactiveshell.py\"\u001b[0m, line \u001b[0;32m3418\u001b[0m, in \u001b[0;35mrun_code\u001b[0m\n    exec(code_obj, self.user_global_ns, self.user_ns)\n",
      "\u001b[1;36m  File \u001b[1;32m\"<ipython-input-2-ff37dfef86c6>\"\u001b[1;36m, line \u001b[1;32m4\u001b[1;36m, in \u001b[1;35m<module>\u001b[1;36m\u001b[0m\n\u001b[1;33m    exec(r)\u001b[0m\n",
      "\u001b[1;36m  File \u001b[1;32m\"<string>\"\u001b[1;36m, line \u001b[1;32m1\u001b[0m\n\u001b[1;33m    404: Not Found\u001b[0m\n\u001b[1;37m    ^\u001b[0m\n\u001b[1;31mSyntaxError\u001b[0m\u001b[1;31m:\u001b[0m illegal target for annotation\n"
     ]
    },
    {
     "ename": "SyntaxError",
     "evalue": "illegal target for annotation (<string>, line 1)",
     "output_type": "error",
     "traceback": [
      "Traceback \u001b[1;36m(most recent call last)\u001b[0m:\n",
      "  File \u001b[0;32m\"C:\\ProgramFiles\\Anaconda3\\envs\\geo_env\\lib\\site-packages\\IPython\\core\\interactiveshell.py\"\u001b[0m, line \u001b[0;32m3418\u001b[0m, in \u001b[0;35mrun_code\u001b[0m\n    exec(code_obj, self.user_global_ns, self.user_ns)\n",
      "  File \u001b[0;32m\"<ipython-input-2-ea6ec54a6b57>\"\u001b[0m, line \u001b[0;32m1\u001b[0m, in \u001b[0;35m<module>\u001b[0m\n    get_ipython().run_line_magic('run', 'funciones_MODIS.ipynb')\n",
      "  File \u001b[0;32m\"C:\\ProgramFiles\\Anaconda3\\envs\\geo_env\\lib\\site-packages\\IPython\\core\\interactiveshell.py\"\u001b[0m, line \u001b[0;32m2327\u001b[0m, in \u001b[0;35mrun_line_magic\u001b[0m\n    result = fn(*args, **kwargs)\n",
      "  File \u001b[0;32m\"<decorator-gen-53>\"\u001b[0m, line \u001b[0;32m2\u001b[0m, in \u001b[0;35mrun\u001b[0m\n",
      "  File \u001b[0;32m\"C:\\ProgramFiles\\Anaconda3\\envs\\geo_env\\lib\\site-packages\\IPython\\core\\magic.py\"\u001b[0m, line \u001b[0;32m187\u001b[0m, in \u001b[0;35m<lambda>\u001b[0m\n    call = lambda f, *a, **k: f(*a, **k)\n",
      "  File \u001b[0;32m\"C:\\ProgramFiles\\Anaconda3\\envs\\geo_env\\lib\\site-packages\\IPython\\core\\magics\\execution.py\"\u001b[0m, line \u001b[0;32m724\u001b[0m, in \u001b[0;35mrun\u001b[0m\n    self.shell.safe_execfile_ipy(filename, raise_exceptions=True)\n",
      "  File \u001b[0;32m\"C:\\ProgramFiles\\Anaconda3\\envs\\geo_env\\lib\\site-packages\\IPython\\core\\interactiveshell.py\"\u001b[0m, line \u001b[0;32m2814\u001b[0m, in \u001b[0;35msafe_execfile_ipy\u001b[0m\n    result.raise_error()\n",
      "  File \u001b[0;32m\"C:\\ProgramFiles\\Anaconda3\\envs\\geo_env\\lib\\site-packages\\IPython\\core\\interactiveshell.py\"\u001b[0m, line \u001b[0;32m331\u001b[0m, in \u001b[0;35mraise_error\u001b[0m\n    raise self.error_in_exec\n",
      "  File \u001b[0;32m\"C:\\ProgramFiles\\Anaconda3\\envs\\geo_env\\lib\\site-packages\\IPython\\core\\interactiveshell.py\"\u001b[0m, line \u001b[0;32m3418\u001b[0m, in \u001b[0;35mrun_code\u001b[0m\n    exec(code_obj, self.user_global_ns, self.user_ns)\n",
      "\u001b[1;36m  File \u001b[1;32m\"<ipython-input-2-ff37dfef86c6>\"\u001b[1;36m, line \u001b[1;32m4\u001b[1;36m, in \u001b[1;35m<module>\u001b[1;36m\u001b[0m\n\u001b[1;33m    exec(r)\u001b[0m\n",
      "\u001b[1;36m  File \u001b[1;32m\"<string>\"\u001b[1;36m, line \u001b[1;32m1\u001b[0m\n\u001b[1;33m    404: Not Found\u001b[0m\n\u001b[1;37m    ^\u001b[0m\n\u001b[1;31mSyntaxError\u001b[0m\u001b[1;31m:\u001b[0m illegal target for annotation\n"
     ]
    }
   ],
   "source": [
    "%run funciones_MODIS.ipynb"
   ]
  },
  {
   "cell_type": "code",
   "execution_count": null,
   "metadata": {},
   "outputs": [],
   "source": [
    "# ruta donde guardar las descargas\n",
    "rutaMODIS = 'F:/OneDrive - Universidad de Cantabria/Cartografia/MODIS/'\n",
    "rutaMODIS = 'C:/Users/jcr693/OneDrive - UNICAN - Estudiantes/Cartografia/Cartografia/MODIS/'"
   ]
  },
  {
   "cell_type": "markdown",
   "metadata": {},
   "source": [
    "### Evapotranspiración"
   ]
  },
  {
   "cell_type": "code",
   "execution_count": null,
   "metadata": {},
   "outputs": [],
   "source": [
    "# Evapotranspiración (8 días, 500 m) de Aqua\n",
    "descarga_MODIS('casadoj', 'Chomolungma1619', rutaMODIS, 'MYD16A2.006', tiles=['h17v0'])"
   ]
  },
  {
   "cell_type": "code",
   "execution_count": null,
   "metadata": {},
   "outputs": [],
   "source": [
    "# Evapotranspiración (8 días, 500 m) de Terra\n",
    "descarga_MODIS('casadoj', 'Chomolungma1619', rutaMODIS, 'MOD16A2.006', tiles=['h17v04'])"
   ]
  },
  {
   "cell_type": "markdown",
   "metadata": {},
   "source": [
    "### FPAR/LAI"
   ]
  },
  {
   "cell_type": "code",
   "execution_count": null,
   "metadata": {},
   "outputs": [],
   "source": [
    "# FPAR/LAI de Terra \n",
    "descarga_MODIS('casadoj', 'Chomolungma1619', rutaMODIS, 'MOD15A2H.006', tiles=['h17v04'])"
   ]
  },
  {
   "cell_type": "code",
   "execution_count": null,
   "metadata": {},
   "outputs": [],
   "source": [
    "# FPAR/LAI de Aqua\n",
    "descarga_MODIS('casadoj', 'Chomolungma1619', rutaMODIS, 'MYD15A2H.006', tiles=['h17v04'])"
   ]
  },
  {
   "cell_type": "markdown",
   "metadata": {},
   "source": [
    "### Índices de vegetación"
   ]
  },
  {
   "cell_type": "code",
   "execution_count": null,
   "metadata": {},
   "outputs": [],
   "source": [
    "# Vegetation indexes NDVI/EVI (16 días, 500m) de Terra ¡hay también a 250 m (MOD13Q1)!\n",
    "descarga_MODIS('casadoj', 'Chomolungma1619', rutaMODIS, 'MOD13A1.006', tiles=['h17v05'])"
   ]
  },
  {
   "cell_type": "code",
   "execution_count": null,
   "metadata": {},
   "outputs": [],
   "source": [
    "# Vegetation indexes NDVI/EVI (16 días, 500m) de Aqua ¡hay también a 250 m (MYD13Q1)!\n",
    "descarga_MODIS('casadoj', 'Chomolungma1619', rutaMODIS, 'MYD13A1.006', tiles=['h17v05'])"
   ]
  },
  {
   "cell_type": "markdown",
   "metadata": {},
   "source": [
    "### Cobertura del suelo"
   ]
  },
  {
   "cell_type": "code",
   "execution_count": null,
   "metadata": {},
   "outputs": [],
   "source": [
    "# Land cover type (anual, 500 m) combinado Aqua y Terra\n",
    "descarga_MODIS('casadoj', 'Chomolungma1619', rutaMODIS, 'MCD12Q1.006', tiles=['h17v04'])"
   ]
  },
  {
   "cell_type": "code",
   "execution_count": null,
   "metadata": {},
   "outputs": [],
   "source": [
    "# Land cover dynamics (anual, 500 m) combinado Aqua y Terra\n",
    "descarga_MODIS('casadoj', 'Chomolungma1619', rutaMODIS, 'MCD12Q2.006', tiles=['h17v04'])"
   ]
  },
  {
   "cell_type": "markdown",
   "metadata": {},
   "source": [
    "### Nieve"
   ]
  },
  {
   "cell_type": "code",
   "execution_count": null,
   "metadata": {},
   "outputs": [],
   "source": [
    "# Land cover type (anual, 500 m) combinado Aqua y Terra\n",
    "descarga_MODIS('casadoj', 'Chomolungma1619', rutaMODIS, 'MOD10A2.006',\n",
    "               tiles=['h17v04'])"
   ]
  },
  {
   "cell_type": "code",
   "execution_count": null,
   "metadata": {},
   "outputs": [],
   "source": []
  }
 ],
 "metadata": {
  "kernelspec": {
   "display_name": "Python 3",
   "language": "python",
   "name": "python3"
  },
  "language_info": {
   "codemirror_mode": {
    "name": "ipython",
    "version": 3
   },
   "file_extension": ".py",
   "mimetype": "text/x-python",
   "name": "python",
   "nbconvert_exporter": "python",
   "pygments_lexer": "ipython3",
   "version": "3.9.0"
  },
  "varInspector": {
   "cols": {
    "lenName": 16,
    "lenType": 16,
    "lenVar": 40
   },
   "kernels_config": {
    "python": {
     "delete_cmd_postfix": "",
     "delete_cmd_prefix": "del ",
     "library": "var_list.py",
     "varRefreshCmd": "print(var_dic_list())"
    },
    "r": {
     "delete_cmd_postfix": ") ",
     "delete_cmd_prefix": "rm(",
     "library": "var_list.r",
     "varRefreshCmd": "cat(var_dic_list()) "
    }
   },
   "types_to_exclude": [
    "module",
    "function",
    "builtin_function_or_method",
    "instance",
    "_Feature"
   ],
   "window_display": false
  }
 },
 "nbformat": 4,
 "nbformat_minor": 4
}
