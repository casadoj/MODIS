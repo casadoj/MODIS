{
 "cells": [
  {
   "cell_type": "markdown",
   "metadata": {},
   "source": [
    "_Autor:_    __Jesús Casado__ <br> _Revisión:_ __21/01/2020__ <br>\n",
    "\n",
    "__Introducción__<br>\n",
    "Aprender a trabajar con datos de MODIS.\n",
    "\n",
    "__Cosas que arreglar__ <br>\n",
    "Cómo leer atributos del archivo _hdf_ de MODIS.\n",
    "\n",
    "***\n",
    "\n",
    "__Índice__ <br>\n",
    "__[Datos](#Datos)__<br>\n",
    "[DEM de la cuenca](#DEM-de-la-cuenca-(ETRS89-UTM30N))<br>\n",
    "[Evapotranspiración MODIS](#Evapotranspiración-MODIS)<br>\n",
    "\n",
    "__[Análisis](#Análisis)__<br>\n",
    "[8 diario](#8-diario)<br>\n",
    "[Mensual](#Mensual)<br>\n",
    "[Anual](#Anual)<br>\n",
    "[EOF](#EOF)<br>"
   ]
  },
  {
   "cell_type": "code",
   "execution_count": 1,
   "metadata": {},
   "outputs": [],
   "source": [
    "import numpy as np\n",
    "import pandas as pd\n",
    "import matplotlib.pyplot as plt\n",
    "#plt.style.use('seaborn-whitegrid')\n",
    "plt.style.use('dark_background')\n",
    "%matplotlib inline\n",
    "from mpl_toolkits.axes_grid1 import make_axes_locatable\n",
    "from matplotlib.gridspec import GridSpec\n",
    "from netCDF4 import Dataset, num2date, date2num\n",
    "#import h5py\n",
    "from datetime import datetime\n",
    "from calendar import monthrange\n",
    "import time\n",
    "\n",
    "import os\n",
    "rutaBase = os.getcwd().replace('\\\\', '/') + '/'\n",
    "\n",
    "import geopandas as gpd\n",
    "import earthpy as et\n",
    "\n",
    "from eofs.standard import Eof\n",
    "\n",
    "import matplotlib.animation as animation\n",
    "from IPython.display import HTML"
   ]
  },
  {
   "cell_type": "code",
   "execution_count": 2,
   "metadata": {},
   "outputs": [],
   "source": [
    "from pyproj import Proj, transform, CRS\n",
    "os.environ['PROJ_LIB'] = r'C:\\Anaconda3\\pkgs\\proj4-4.9.3-vc14_5\\Library\\share'"
   ]
  },
  {
   "cell_type": "code",
   "execution_count": 3,
   "metadata": {},
   "outputs": [],
   "source": [
    "# import MODIS functions\n",
    "os.chdir(rutaBase)\n",
    "%run funciones_MODIS.ipynb"
   ]
  },
  {
   "cell_type": "markdown",
   "metadata": {},
   "source": [
    "### Mapa provincial de España"
   ]
  },
  {
   "cell_type": "markdown",
   "metadata": {},
   "source": [
    "#### geopandas + earthpy\n",
    "[Enlace earthdatascience.org](https://www.earthdatascience.org/workshops/gis-open-source-python/intro-vector-data-python/)"
   ]
  },
  {
   "cell_type": "code",
   "execution_count": 6,
   "metadata": {},
   "outputs": [
    {
     "data": {
      "image/png": "[encoded data removed]",
      "text/plain": [
       "<Figure size 432x432 with 1 Axes>"
      ]
     },
     "metadata": {
      "needs_background": "dark"
     },
     "output_type": "display_data"
    }
   ],
   "source": [
    "# cargar shapefile\n",
    "rutaCarto = 'F:/OneDrive - Universidad de Cantabria/Cartografia/Politico/Espana/'\n",
    "ESP = gpd.read_file(rutaCarto + 'Provincias_ETRS89_30N.shp')\n",
    "\n",
    "# gráfico\n",
    "fig, ax = plt.subplots(figsize=(6, 6))\n",
    "ESP.geometry.boundary.plot(ax=ax, edgecolor='gold', lw=.8);"
   ]
  },
  {
   "cell_type": "code",
   "execution_count": 7,
   "metadata": {},
   "outputs": [
    {
     "data": {
      "text/plain": [
       "0         Polygon\n",
       "1         Polygon\n",
       "2    MultiPolygon\n",
       "3    MultiPolygon\n",
       "4         Polygon\n",
       "dtype: object"
      ]
     },
     "execution_count": 7,
     "metadata": {},
     "output_type": "execute_result"
    }
   ],
   "source": [
    "# tipo de datos\n",
    "type(ESP)\n",
    "# extensión espacial\n",
    "ESP.total_bounds\n",
    "# sistema de coordenadas\n",
    "ESP.crs\n",
    "# tipo de geometría\n",
    "ESP.geom_type.head()"
   ]
  },
  {
   "cell_type": "markdown",
   "metadata": {},
   "source": [
    "#### maplotlib + shapefile\n",
    "\n",
    "[Enlace Stack Overflow](https://stackoverflow.com/questions/15968762/shapefile-and-matplotlib-plot-polygon-collection-of-shapefile-coordinates#comment57339296_15972203)"
   ]
  },
  {
   "cell_type": "code",
   "execution_count": null,
   "metadata": {},
   "outputs": [],
   "source": [
    "# import shapefile\n",
    "# # from descartes import PolygonPatch\n",
    "# import matplotlib.patches as patches\n",
    "# from matplotlib.patches import Polygon\n",
    "# from matplotlib.collections import PatchCollection"
   ]
  },
  {
   "cell_type": "code",
   "execution_count": null,
   "metadata": {},
   "outputs": [],
   "source": [
    "# ESP = shapefile.Reader(rutaCarto + 'Provincias_ETRS89_30N.shp', encoding='latin-1')"
   ]
  },
  {
   "cell_type": "code",
   "execution_count": null,
   "metadata": {
    "scrolled": true
   },
   "outputs": [],
   "source": [
    "# # tabla de atributos\n",
    "# recs = ESP.records()\n",
    "# # geometría\n",
    "# shapes = ESP.shapes()\n",
    "# Nshp = len(shapes)\n",
    "# # nombre de cada polígono\n",
    "# labels = np.array([recs[nshp][1] for nshp in range(Nshp)])\n",
    "# # colores\n",
    "# cmap = plt.cm.get_cmap('viridis')\n",
    "# colors = cmap(1. * np.arange(Nshp) / Nshp)"
   ]
  },
  {
   "cell_type": "code",
   "execution_count": null,
   "metadata": {},
   "outputs": [],
   "source": [
    "# fig, ax = plt.subplots(figsize=(8, 8))\n",
    "# n = 2\n",
    "# for n in range(Nshp):\n",
    "#     points = np.array(shapes[n].points)\n",
    "#     parts = shapes[n].parts\n",
    "#     par = list(parts) + [points.shape[0]]\n",
    "#     #     for p in range(len(parts)):\n",
    "#     polygons = [Polygon(points[par[p]:par[p + 1]]) for p in range(len(parts))]\n",
    "\n",
    "# ax.add_collection(PatchCollection(polygons, facecolor='r', edgecolor='k', linewidths=.1));"
   ]
  },
  {
   "cell_type": "markdown",
   "metadata": {},
   "source": [
    "#### Basemap\n",
    "[Basemap tutorial](https://basemaptutorial.readthedocs.io/en/latest/shapefile.html)"
   ]
  },
  {
   "cell_type": "code",
   "execution_count": null,
   "metadata": {},
   "outputs": [],
   "source": [
    "# from mpl_toolkits.basemap import Basemap"
   ]
  },
  {
   "cell_type": "code",
   "execution_count": null,
   "metadata": {},
   "outputs": [],
   "source": [
    "# mapa = Basemap(llcrnrlon=-0.5,llcrnrlat=39.8,urcrnrlon=4.,urcrnrlat=43.,\n",
    "#              resolution='i', projection='tmerc', lat_0 = 39.5, lon_0 = 1)\n",
    "\n",
    "# mapa.drawmapboundary(fill_color='aqua')\n",
    "# mapa.fillcontinents(color='#ddaa66',lake_color='aqua')\n",
    "# mapa.drawcoastlines()"
   ]
  },
  {
   "cell_type": "code",
   "execution_count": null,
   "metadata": {},
   "outputs": [],
   "source": []
  },
  {
   "cell_type": "code",
   "execution_count": null,
   "metadata": {},
   "outputs": [],
   "source": []
  },
  {
   "cell_type": "code",
   "execution_count": null,
   "metadata": {
    "scrolled": true
   },
   "outputs": [],
   "source": [
    "# fig = plt.figure() \n",
    "# ax = fig.gca() \n",
    "# ax.add_patch(PolygonPatch(ESP, fc=None, ec='k', alpha=0.5, zorder=2 ))\n",
    "# ax.axis('scaled')\n",
    "# plt.show()"
   ]
  },
  {
   "cell_type": "code",
   "execution_count": null,
   "metadata": {},
   "outputs": [],
   "source": [
    "# plt.figure()\n",
    "# for shape in ESP.shapeRecords():\n",
    "#     x = [i[0] for i in shape.shape.points[:]]\n",
    "#     y = [i[1] for i in shape.shape.points[:]]\n",
    "#     plt.plot(x,y, 'k', lw=.5)\n",
    "# plt.show()"
   ]
  },
  {
   "cell_type": "markdown",
   "metadata": {},
   "source": [
    "### DEM de la cuenca (ETRS89-UTM30N)"
   ]
  },
  {
   "cell_type": "code",
   "execution_count": 8,
   "metadata": {},
   "outputs": [],
   "source": [
    "#rutaTETIS = 'F:/Proyectos/GESDIVAH/SDM/TETIS/PdE/Actual/'\n",
    "\n",
    "dem = ascii2df('../data/dem.asc')\n",
    "XXdem = dem.columns\n",
    "YYdem = dem.index"
   ]
  },
  {
   "cell_type": "code",
   "execution_count": 9,
   "metadata": {},
   "outputs": [
    {
     "data": {
      "image/png": "[encoded data removed]",
      "text/plain": [
       "<Figure size 432x432 with 1 Axes>"
      ]
     },
     "metadata": {
      "needs_background": "dark"
     },
     "output_type": "display_data"
    }
   ],
   "source": [
    "fig, ax = plt.subplots(figsize=(6, 6))\n",
    "ESP.geometry.boundary.plot(ax=ax, edgecolor='dimgrey', lw=1)\n",
    "ax.imshow(dem, cmap='pink', extent=[XXdem[0], XXdem[-1], YYdem[-1], YYdem[0]])\n",
    "ax.set(xlim=(XXdem[0], XXdem[-1]), ylim=(YYdem[-1], YYdem[0]))\n",
    "# ax.axis('equal');\n",
    "ax.set_title('DEM cuenca del DEVA-1265', fontsize=13, fontweight='bold')\n",
    "ax.axis('off');"
   ]
  },
  {
   "cell_type": "markdown",
   "metadata": {},
   "source": [
    "## Evapotranspiración MODIS\n",
    "### Cargar o importar datos"
   ]
  },
  {
   "cell_type": "code",
   "execution_count": null,
   "metadata": {},
   "outputs": [],
   "source": [
    "import onedrivesdk"
   ]
  },
  {
   "cell_type": "code",
   "execution_count": null,
   "metadata": {},
   "outputs": [],
   "source": []
  },
  {
   "cell_type": "code",
   "execution_count": null,
   "metadata": {},
   "outputs": [],
   "source": []
  },
  {
   "cell_type": "code",
   "execution_count": null,
   "metadata": {},
   "outputs": [],
   "source": []
  },
  {
   "cell_type": "code",
   "execution_count": null,
   "metadata": {},
   "outputs": [],
   "source": []
  },
  {
   "cell_type": "code",
   "execution_count": 12,
   "metadata": {},
   "outputs": [],
   "source": [
    "rutaMODIS = 'F:/OneDrive - Universidad de Cantabria/Cartografia/MODIS/'\n",
    "#rutaExport = 'F:/Proyectos/GESDIVAH/SDM/Data/PdE/MODIS/'\n",
    "rutaExport = rutaBase + '../output/'"
   ]
  },
  {
   "cell_type": "code",
   "execution_count": null,
   "metadata": {},
   "outputs": [],
   "source": [
    "products = {'Terra': 'MOD16A2', 'Aqua': 'MYD16A2'}\n",
    "var = 'ET_500m'\n",
    "filename = 'MODIS_' + var + '.nc'"
   ]
  },
  {
   "cell_type": "code",
   "execution_count": 14,
   "metadata": {},
   "outputs": [
    {
     "name": "stdout",
     "output_type": "stream",
     "text": [
      "nº filas:  48\tnº columnas:  49\n",
      "nº filas:  48\tnº columnas:  49\n",
      "Archivo 864 de 864\r"
     ]
    }
   ],
   "source": [
    "if filename not in os.listdir(rutaExport):\n",
    "    \n",
    "    ##########################\n",
    "    ### CARGAR DATOS BRUTOS###\n",
    "    ##########################\n",
    "\n",
    "    # ascii con el que recortar los mapas\n",
    "#     clip = 'F:/Proyectos/GESDIVAH/SDM/TETIS/PdE/Actual/dem.asc'\n",
    "    clip = rutaBase + '../data/dem.asc'\n",
    "\n",
    "    # AQUA: MYD16A2\n",
    "    # -------------\n",
    "\n",
    "    product = 'MYD16A2'\n",
    "    var = 'ET_500m'\n",
    "    # dateslim = ['2002-01-01', '2003-12-31']\n",
    "    atributes = [2400, 2400, -1111950.519667, 5559752.598333, 0., 4447802.078667]\n",
    "    coordsOut = 'epsg:25830'\n",
    "\n",
    "    MODIS_extract(rutaMODIS, product, var, atributes, dateslim=None, clip=clip, coordsClip='epsg:25830')\n",
    "\n",
    "    # extraer datos, coordenadas y fechas\n",
    "    ETa = MODIS_extract.data\n",
    "    XXa, YYa, datesa = MODIS_extract.Xcoords, MODIS_extract.Ycoords, MODIS_extract.dates\n",
    "\n",
    "    # TERRA: MOD16A2\n",
    "    # -------------\n",
    "    \n",
    "    product = 'MOD16A2'\n",
    "    # dateslim = ['2002-01-01', '2003-12-31']\n",
    "\n",
    "    MODIS_extract(rutaMODIS, product, var, atributes, dateslim=None, clip=clip, coordsClip='epsg:25830')\n",
    "\n",
    "    # extraer datos, coordenadas y fechas\n",
    "    ETt = MODIS_extract.data\n",
    "    XXt, YYt, datest = MODIS_extract.Xcoords, MODIS_extract.Ycoords, MODIS_extract.dates\n",
    "\n",
    "    # Unir datos de Terra y Aqua\n",
    "    ET = {'Terra': {'ET': ETt, 'XX': XXt, 'YY': YYt, 'dates': datest},\n",
    "          'Aqua': {'ET': ETa, 'XX': XXa, 'YY': YYa, 'dates': datesa}}\n",
    "\n",
    "    ######################\n",
    "    ### EXPORTAR DATOS ###\n",
    "    ######################\n",
    "    \n",
    "    # definir el netcdf\n",
    "    ncMODIS = Dataset(rutaExport + 'MODIS_ET500_2.nc', 'w', format='NETCDF4')\n",
    "    # print(ncMODIS.data_model)\n",
    "\n",
    "    # crear grupos\n",
    "    terra = ncMODIS.createGroup('Terra')\n",
    "    aqua = ncMODIS.createGroup('Aqua')\n",
    "    # print(ncMODIS.groups)\n",
    "\n",
    "    # crear atributos\n",
    "    ncMODIS.description = 'Serie temporal de mapas de evapotranspiración de la cuenca del Deva obtenidos a partir de MODIS'\n",
    "    ncMODIS.history = 'Creado el ' + datetime.now().date().strftime('%Y-%m-%d')\n",
    "    ncMODIS.source = 'https://e4ftl01.cr.usgs.gov/'\n",
    "    ncMODIS.coordinateSystem = 'epsg:25830' # 'SINUSOIDAL'\n",
    "\n",
    "    for group, sat, product in zip([terra, aqua], ['Terra', 'Aqua'], ['MOD16A2', 'MYD16A2']):\n",
    "        # crear las dimensiones\n",
    "        time = group.createDimension('time', len(ET[sat]['dates']))\n",
    "        Y = group.createDimension('Y', ET[sat]['YY'].shape[0])\n",
    "        X = group.createDimension('X', ET[sat]['YY'].shape[1])\n",
    "        # print(group.dimensions)\n",
    "\n",
    "        # crear variables\n",
    "        et = group.createVariable(product, 'f4', ('time', 'Y', 'X'))\n",
    "        et.units = 'mm/8days'\n",
    "        # print(eta)\n",
    "        times = group.createVariable('time', 'f8', ('time',))\n",
    "        times.units = 'días desde el 0001-01-01'\n",
    "        times.calendar = 'Gregoriano'\n",
    "        Xs = group.createVariable('X', 'u4', ('X',))\n",
    "        Xs.units = 'm'\n",
    "        Ys = group.createVariable('Y', 'u4', ('Y',))\n",
    "        Ys.units = 'm'\n",
    "\n",
    "        # variable ET\n",
    "        for ki in range(ET[sat]['ET'].shape[2]):\n",
    "            et[ki,:,:] = ET[sat]['ET'][:,:,ki]\n",
    "        # variable 'time'\n",
    "        deltas = [date - datetime(1, 1, 1).date() for date in ET[sat]['dates']]\n",
    "        times[:] = [delta.days for delta in deltas]\n",
    "        # variable 'X'\n",
    "        x = ET[sat]['XX'].mean(axis=0)\n",
    "        pos = int(len(x) / 2)\n",
    "        cellsize = np.mean(x[1:] - x[:-1])\n",
    "        Xs[:] = [x[pos] + (i - pos) * cellsize for i in range(len(x))]\n",
    "        # variable 'Y'\n",
    "        y = ET[sat]['YY'].mean(axis=1)\n",
    "        pos = int(len(y) / 2)\n",
    "        cellsize = np.mean(y[1:] - y[:-1])\n",
    "        Ys[:] = [y[pos] + (i - pos) * cellsize for i in range(len(y))]\n",
    "\n",
    "    ncMODIS.close()\n",
    "    \n",
    "else:\n",
    "    \n",
    "    ###############################\n",
    "    ### IMPORTAR DATOS TRATADOS ###\n",
    "    ###############################\n",
    "    \n",
    "    # Cargar netcdf con los datos MODIS\n",
    "    ncRead = Dataset(rutaExport + filename, 'r', format='NETCDF4')\n",
    "\n",
    "    # extraer datos en un diccionario\n",
    "    ET = {'Terra': {}, 'Aqua': {}}\n",
    "    for sat, product in zip(['Terra', 'Aqua'], ['MOD16A2', 'MYD16A2']):\n",
    "        # evapotranspiración\n",
    "        ET[sat]['ET'] = ncRead[sat][product][::]\n",
    "        # fechas\n",
    "        ET[sat]['dates'] = [datetime(1, 1, 1) + timedelta(time) for time in ncRead[sat]['time'][:]]\n",
    "        # coordenadas\n",
    "        ET[sat]['X'] = ncRead[sat]['X'][:]\n",
    "        ET[sat]['Y'] = ncRead[sat]['Y'][:]\n",
    "\n",
    "    ncRead.close()"
   ]
  },
  {
   "cell_type": "markdown",
   "metadata": {},
   "source": [
    "### Análisis\n",
    "#### Serie original 8 diaria"
   ]
  },
  {
   "cell_type": "code",
   "execution_count": null,
   "metadata": {},
   "outputs": [],
   "source": [
    "plotMODISseries(ET, 'ET', 'dates', r=20, ylabel='ET acumulada 8 días (mm)')"
   ]
  },
  {
   "cell_type": "code",
   "execution_count": null,
   "metadata": {},
   "outputs": [],
   "source": [
    "def animate3Darray(data, dates, minmax, cblabel='', fps=2, dpi=100, pathfile=None):\n",
    "    \"\"\"\n",
    "    \"\"\"\n",
    "    \n",
    "    # definir configuración del gráfico en blanco\n",
    "    fig, ax = plt.subplots(figsize=(5,5))\n",
    "    im = ax.imshow(np.zeros(data.shape[1:]), animated=True,\n",
    "                   cmap='summer_r', vmin=minmax[0], vmax=minmax[1])\n",
    "    plt.axis('off')\n",
    "    cb = plt.colorbar(im, shrink=.7)\n",
    "    cb.set_label(cblabel, fontsize=12)\n",
    "    title = ax.text(.5, 1.05, '', fontsize=13, fontweight='bold',\n",
    "                    transform=ax.transAxes, horizontalalignment='center')\n",
    "\n",
    "    def updatefig(i, *args):\n",
    "        \"\"\"Función que define los datos a mostrar  el título en cada iteración\"\"\"\n",
    "        title.set_text(dates[i].date())\n",
    "        im.set_array(data[i,:,:])\n",
    "        return im,\n",
    "\n",
    "    # genera la animación iterando sobre 'updatefig' un número 'frames' de veces\n",
    "    ani = animation.FuncAnimation(fig, updatefig, frames=data.shape[0], interval=1000/fps,\n",
    "                                  blit=True)\n",
    "    # guardar vídeo\n",
    "    if pathfile is not None:\n",
    "        ani.save(pathfile, fps=fps, extra_args=['-vcodec', 'libx264'], dpi=dpi)\n",
    "    # plt.show()\n",
    "\n",
    "    # ver vídeo en el 'notebook'\n",
    "    return HTML(ani.to_html5_video())"
   ]
  },
  {
   "cell_type": "code",
   "execution_count": null,
   "metadata": {},
   "outputs": [],
   "source": [
    "animate3Darray(ET['Terra']['ET'], ET['Terra']['dates'], minmax=[0, 60],\n",
    "               cblabel='ET 8 días (mm)', fps=8, pathfile=rutaExport + 'ETdeva_MODIS-Terra.mp4')"
   ]
  },
  {
   "cell_type": "code",
   "execution_count": null,
   "metadata": {},
   "outputs": [],
   "source": [
    "animate3Darray(ET['Aqua']['ET'], ET['Aqua']['dates'], minmax=[0, 60],\n",
    "               cblabel='ET 8 días (mm)', fps=8, pathfile=rutaExport + 'ETdeva_MODIS-Aqua.mp4')"
   ]
  },
  {
   "cell_type": "markdown",
   "metadata": {},
   "source": [
    "#### ET mensual\n",
    "__Medias mensuales__"
   ]
  },
  {
   "cell_type": "code",
   "execution_count": null,
   "metadata": {},
   "outputs": [],
   "source": [
    "def mediaMensual(dates, ET):\n",
    "    \"\"\"\n",
    "    \"\"\"\n",
    "    \n",
    "    # medias mensuales\n",
    "    meanMET = np.zeros((12, ET.shape[1], ET.shape[2])) * np.nan\n",
    "    for m, month in enumerate(range(1, 13)):\n",
    "        ks = [k for k, date in enumerate(dates) if date.month == month]\n",
    "        meanMET[m,:,:] = np.nanmean(ET[ks,:,:], axis=0)\n",
    "        \n",
    "    return meanMET"
   ]
  },
  {
   "cell_type": "code",
   "execution_count": null,
   "metadata": {},
   "outputs": [],
   "source": [
    "# generar medias mensuales de ET\n",
    "for sat in ET.keys():\n",
    "    ET[sat]['meanMET'] = mediaMensual(ET[sat]['dates'], ET[sat]['ET'])"
   ]
  },
  {
   "cell_type": "code",
   "execution_count": null,
   "metadata": {},
   "outputs": [],
   "source": [
    "ncols = 6\n",
    "nrows = int(np.ceil(12 / ncols)) * 2\n",
    "fig, ax = plt.subplots(nrows=nrows, ncols=ncols, figsize=(2.75*ncols, 2.75*nrows))\n",
    "fig.subplots_adjust(right=0.9)\n",
    "\n",
    "r = 10\n",
    "vmin = np.floor(min([np.nanmin(ET[sat]['meanMET']) for sat in ET.keys()]) / r) * r\n",
    "vmax = np.ceil(max([np.nanmax(ET[sat]['meanMET']) for sat in ET.keys()]) / r) * r\n",
    "cmaps = ['summer_r', 'Blues']\n",
    "\n",
    "for s, (sat, cmap) in enumerate(zip(ET.keys(), cmaps)):\n",
    "    for k, month in enumerate(range(1, 13)):\n",
    "        f, c = int(k / ncols) + s * 2, k % ncols\n",
    "        im = ax[f,c].imshow(ET[sat]['meanMET'][k,:,:], cmap=cmap, vmin=vmin, vmax=vmax)\n",
    "        ax[f,c].set_title(datetime(1900, month, 1).strftime('%b'), fontsize=13)\n",
    "        ax[f,c].axis('off')\n",
    "    \n",
    "    cbar_ax = fig.add_axes([0.925, 0.6 - 0.4 * s, 0.01, 0.2])\n",
    "    cbar_ax.tick_params(labelsize=12)\n",
    "    cb = plt.colorbar(im, cax=cbar_ax, orientation='vertical')\n",
    "    cb.set_label('mm/mes', fontsize=14)\n",
    "    fig.text(0.1, 0.7  - 0.4 * s, sat, fontsize=14, fontweight='bold', rotation=90,\n",
    "             verticalalignment='center')\n",
    "fig.text(0.5, .92, 'ET mensual', fontsize=15, fontweight='bold', horizontalalignment='center');"
   ]
  },
  {
   "cell_type": "code",
   "execution_count": null,
   "metadata": {},
   "outputs": [],
   "source": [
    "# mostrar la media mensual para cada celda y la media de la cuenca\n",
    "fig, axes = plt.subplots(ncols=2, figsize=(15, 3.5), sharey=True)\n",
    "\n",
    "r = 10\n",
    "ymax = np.ceil(max([np.nanmax(ET[sat]['meanMET']) for sat in ET.keys()]) / r) * r\n",
    "colors = [['yellowgreen', 'darkolivegreen'], ['lightsteelblue', 'steelblue']]\n",
    "\n",
    "for c, (ax, sat) in enumerate(zip(axes, ET.keys())):\n",
    "    meanMETx = ET[sat]['meanMET']\n",
    "    for i in range(meanMETx.shape[1]):\n",
    "        for j in range(meanMETx.shape[2]):\n",
    "            if np.isnan(meanMETx[:,i,j]).sum() == meanMETx.shape[0]: # celda vacía\n",
    "                continue\n",
    "            else:\n",
    "                ax.plot(meanMETx[:,i,j], lw=.25, c=colors[c][0], alpha=.25)\n",
    "    ax.plot(np.nanmean(meanMETx, axis=(1, 2)), c=colors[c][1], lw=1.2)\n",
    "    ax.tick_params(labelsize=11)\n",
    "    ax.set(xlim=(0, 11), ylim=(0, ymax))\n",
    "    if c == 0:\n",
    "        ax.set_ylabel('ET mensual (mm)', fontsize=13);\n",
    "    monthnames = [datetime(1900, m, 1).strftime('%b') for m in range(1, 13)]\n",
    "    ax.set_xticklabels(monthnames[::2])\n",
    "    ax.set_title(sat, fontsize=13, fontweight='bold')"
   ]
  },
  {
   "cell_type": "markdown",
   "metadata": {},
   "source": [
    "#### Serie de ET mensual"
   ]
  },
  {
   "cell_type": "code",
   "execution_count": null,
   "metadata": {},
   "outputs": [],
   "source": [
    "def serieMensual(dates, ET):\n",
    "    \"\"\"\n",
    "    \"\"\"\n",
    "    \n",
    "    start = datetime(dates[0].year, dates[0].month, 1).date()\n",
    "    end = dates[-1] + timedelta(8)\n",
    "    end = datetime(end.year, end.month, monthrange(end.year, end.month)[1]).date()\n",
    "    days = pd.date_range(start, end)\n",
    "    months = pd.date_range(start, end, freq='M')\n",
    "    len(days), len(months)\n",
    "\n",
    "    # serie mensuales\n",
    "    serieMET = np.zeros((len(months), ET.shape[1], ET.shape[2])) * np.nan\n",
    "    for i in range(ET.shape[1]):\n",
    "        for j in range(ET.shape[2]):\n",
    "            print('celda {0:>5} de {1:>5}'.format(i * ET.shape[2] + j + 1,\n",
    "                                                  ET.shape[1] * ET.shape[2]), end='\\r')\n",
    "            if np.isnan(ET[:,i,j]).sum() == ET.shape[0]: # ningún dato en toda la serie\n",
    "                continue\n",
    "            else:\n",
    "                # generar serie diaria\n",
    "                auxd = pd.Series(index=days)\n",
    "                for k, (st, et) in enumerate(zip(dates, ET[:,i,j])):\n",
    "                    if np.isnan(et):\n",
    "                        continue\n",
    "                    else:\n",
    "                        if st != dates[-1]:\n",
    "                            en = dates[k+1]\n",
    "                        else:\n",
    "                            en = st + timedelta(8)\n",
    "                        auxd[st:en - timedelta(1)] = et / (en - st).days\n",
    "                # generar serie mensual\n",
    "                auxm = auxd.groupby([auxd.index.year, auxd.index.month]).agg(np.nanmean)\n",
    "                auxm.index = [datetime(idx[0], idx[1], monthrange(idx[0], idx[1])[1]).date() for idx in auxm.index]\n",
    "                # asignar serie mensual a su celda en el array 3D\n",
    "                serieMET[:,i,j] = auxm.iloc[:serieMET.shape[0]].copy()\n",
    "                del auxd, auxm\n",
    "    return serieMET, months"
   ]
  },
  {
   "cell_type": "code",
   "execution_count": null,
   "metadata": {},
   "outputs": [],
   "source": [
    "# generar series de ET mensual\n",
    "for sat in ET.keys():\n",
    "    ET[sat]['serieMET'], ET[sat]['months'] = serieMensual(ET[sat]['dates'], ET[sat]['ET'])"
   ]
  },
  {
   "cell_type": "code",
   "execution_count": null,
   "metadata": {},
   "outputs": [],
   "source": [
    "plotMODISseries(ET, 'serieMET', 'months', r=2, ylabel='ET mensual (mm/d)')"
   ]
  },
  {
   "cell_type": "code",
   "execution_count": null,
   "metadata": {},
   "outputs": [],
   "source": [
    "animate3Darray(ET['Terra']['serieMET'], ET['Terra']['months'], minmax=[0, 10],\n",
    "               cblabel='ET (mm)', fps=2, dpi=200,\n",
    "               pathfile=rutaExport + 'ETdeva_MODIS-Terra.mp4')"
   ]
  },
  {
   "cell_type": "code",
   "execution_count": null,
   "metadata": {},
   "outputs": [],
   "source": [
    "animate3Darray(ET['Aqua']['serieMET'], ET['Aqua']['months'], minmax=[0, 10],\n",
    "               cblabel='ET (mm)', fps=2, dpi=200,\n",
    "               pathfile=rutaExport + 'ETdeva_MODIS-Aqua.mp4')"
   ]
  },
  {
   "cell_type": "markdown",
   "metadata": {},
   "source": [
    "#### ET anual\n",
    "__Media anual__"
   ]
  },
  {
   "cell_type": "code",
   "execution_count": null,
   "metadata": {},
   "outputs": [],
   "source": [
    "for sat in ET.keys():\n",
    "    ET[sat]['meanAET'] = np.nanmean(ET[sat]['ET'], axis=0) * 365 / 8"
   ]
  },
  {
   "cell_type": "code",
   "execution_count": null,
   "metadata": {},
   "outputs": [],
   "source": [
    "# mapa de ET media anual\n",
    "fig, axes = plt.subplots(ncols=2, figsize=(8, 4))\n",
    "\n",
    "r = 100\n",
    "vmin = np.floor(min([np.nanmin(ET[sat]['meanAET']) for sat in ET.keys()]) / r) * r\n",
    "vmax = np.ceil(max([np.nanmax(ET[sat]['meanAET']) for sat in ET.keys()]) / r) * r\n",
    "\n",
    "cmaps = ['summer_r', 'Blues']\n",
    "\n",
    "for c, (ax, sat) in enumerate(zip(axes, ET.keys())):\n",
    "    im = ax.imshow(ET[sat]['meanAET'], cmap=cmaps[c], vmin=vmin, vmax=vmax)\n",
    "    divider = make_axes_locatable(ax)\n",
    "    cax = divider.append_axes('right', size='5%', pad=0.05)\n",
    "    fig.colorbar(im, cax=cax, orientation='vertical')\n",
    "    ax.set_title(sat, fontsize=13, fontweight='bold')\n",
    "    ax.axis('off');"
   ]
  },
  {
   "cell_type": "markdown",
   "metadata": {},
   "source": [
    "__Serie anual__"
   ]
  },
  {
   "cell_type": "code",
   "execution_count": null,
   "metadata": {},
   "outputs": [],
   "source": [
    "def serieAnual(dates, ET):\n",
    "    \n",
    "    # años con datos suficientes\n",
    "    years = np.unique(np.array([date.year for date in dates]))\n",
    "    ksyear = {}\n",
    "    for year in years:\n",
    "        ks = [k for k, date in enumerate(dates) if date.year == year]\n",
    "        if len(ks) < 40: # si faltan más de 5 mapas en un año \n",
    "            years = years[years != year]\n",
    "            continue\n",
    "        else:\n",
    "            ksyear[year] = ks\n",
    "\n",
    "    # medias anuales        \n",
    "    serieAET = np.zeros((len(years), ET.shape[1], ET.shape[2])) * np.nan\n",
    "    for y, year in enumerate(years):\n",
    "        serieAET[y,:,:] = np.nanmean(ET[ksyear[year],:,:], axis=0) * 365 / 8\n",
    "        \n",
    "    return serieAET, years"
   ]
  },
  {
   "cell_type": "code",
   "execution_count": null,
   "metadata": {},
   "outputs": [],
   "source": [
    "# generar series de ET anual\n",
    "for sat in ET.keys():\n",
    "    ET[sat]['serieAET'], ET[sat]['years'] = serieAnual(ET[sat]['dates'], ET[sat]['ET'])"
   ]
  },
  {
   "cell_type": "code",
   "execution_count": null,
   "metadata": {},
   "outputs": [],
   "source": [
    "plotMODISseries(ET, 'serieAET', 'years', r=100, ylabel='ET anual (mm)', lw=.25, alpha=.25)"
   ]
  },
  {
   "cell_type": "code",
   "execution_count": null,
   "metadata": {},
   "outputs": [],
   "source": [
    "ymin = min([np.min(ET[sat]['years']) for sat in ET.keys()])\n",
    "ymax = max([np.max(ET[sat]['years']) for sat in ET.keys()])\n",
    "years = np.arange(ymin, ymax + 1)\n",
    "\n",
    "ncols = 6\n",
    "nrows = int(np.ceil(len(years) / ncols)) * 2\n",
    "fig, ax = plt.subplots(nrows=nrows, ncols=ncols, figsize=(2.75*ncols, 2.75*nrows))\n",
    "fig.subplots_adjust(bottom=0.1)\n",
    "\n",
    "r = 100\n",
    "vmin = np.floor(min([np.nanmin(ET[sat]['serieAET']) for sat in ET.keys()]) / r) * r\n",
    "vmax = np.ceil(max([np.nanmax(ET[sat]['serieAET']) for sat in ET.keys()]) / r) * r\n",
    "cmaps = ['summer_r', 'Blues']\n",
    "\n",
    "for s, (sat, cmap) in enumerate(zip(ET.keys(), cmaps)):\n",
    "    for y, year in enumerate(years):\n",
    "        f, c = int(y / ncols + s * (nrows / 2)), y % ncols\n",
    "        if year in ET[sat]['years']:\n",
    "            k = np.where(year == ET[sat]['years'])[0][0]\n",
    "            im = ax[f,c].imshow(ET[sat]['serieAET'][k,:,:], cmap=cmap, vmin=vmin, vmax=vmax)\n",
    "            ax[f,c].set_title(year, fontsize=13)\n",
    "            ax[f,c].axis('off')\n",
    "        else:\n",
    "            ax[f,c].axis('off')\n",
    "    \n",
    "    cbar_ax = fig.add_axes([0.92, 0.6  - .4 * s, 0.01, 0.2])\n",
    "    cbar_ax.tick_params(labelsize=12)\n",
    "    cb = plt.colorbar(im, cax=cbar_ax, orientation='vertical')\n",
    "    cb.set_label('mm/año', fontsize=13)\n",
    "    fig.text(.1, .7 - .4 * s, sat, fontsize=14, fontweight='bold', rotation=90,\n",
    "             verticalalignment='center')\n",
    "fig.text(.5, .92, 'ET anual', fontsize=15, fontweight='bold',\n",
    "         horizontalalignment='center');"
   ]
  },
  {
   "cell_type": "markdown",
   "metadata": {},
   "source": [
    "### EOF"
   ]
  },
  {
   "cell_type": "code",
   "execution_count": null,
   "metadata": {},
   "outputs": [],
   "source": [
    "eofMODIS(ET['Terra']['serieAET'], ET['Terra']['Y'], nmodes=4, coordsIn='epsg:25830',\n",
    "         lons=ET['Terra']['X'], plot='corr')\n",
    "\n",
    "eofs = eofMODIS.eofs\n",
    "pcs = eofMODIS.pcs\n",
    "corr = eofMODIS.correlation\n",
    "var = eofMODIS.explainedVariance"
   ]
  },
  {
   "cell_type": "code",
   "execution_count": null,
   "metadata": {},
   "outputs": [],
   "source": [
    "eofMODIS(ET['Aqua']['serieAET'], ET['Aqua']['Y'], nmodes=4, coordsIn='epsg:25830',\n",
    "         lons=ET['Aqua']['X'], plot='corr')\n",
    "\n",
    "eofs = eofMODIS.eofs\n",
    "pcs = eofMODIS.pcs\n",
    "corr = eofMODIS.correlation\n",
    "var = eofMODIS.explainedVariance"
   ]
  },
  {
   "cell_type": "markdown",
   "metadata": {},
   "source": [
    "<font color='indianred'>__¡Hay que completar los datos!__ El paquete `eof` elimina las celdas en las que hay algún NaN."
   ]
  },
  {
   "cell_type": "code",
   "execution_count": null,
   "metadata": {},
   "outputs": [],
   "source": [
    "# At · A = Lambda\n",
    "AtA = np.matrix(pcs) * np.matrix(np.transpose(pcs))\n",
    "Lambda = np.diag(lambdas)"
   ]
  },
  {
   "cell_type": "code",
   "execution_count": null,
   "metadata": {},
   "outputs": [],
   "source": [
    "reconstructed_data = solver.reconstructedField(4)\n",
    "pseudo_pcs = solver.projectField(other_field)"
   ]
  },
  {
   "cell_type": "code",
   "execution_count": null,
   "metadata": {},
   "outputs": [],
   "source": [
    "# 'SOLVERS' multivariable\n",
    "from eofs.multivariate.standard import MultivariateEof\n",
    "msolver = MultivariateEof([data1, data2, data3])\n",
    "eofs_data1, eofs_data2, eofs_data3 = msolver.eofs()\n",
    "pcs = msolver.pcs()"
   ]
  },
  {
   "cell_type": "markdown",
   "metadata": {},
   "source": [
    "### EOF"
   ]
  },
  {
   "cell_type": "code",
   "execution_count": null,
   "metadata": {},
   "outputs": [],
   "source": [
    "data[0,:,:].flatten()"
   ]
  },
  {
   "cell_type": "code",
   "execution_count": null,
   "metadata": {},
   "outputs": [],
   "source": [
    "# matriz F: filas, pasos temporales; columnas, puntos en el espacio\n",
    "F = data.reshape((data.shape[0], data.shape[1] * data.shape[2]))\n",
    "F.shape"
   ]
  },
  {
   "cell_type": "code",
   "execution_count": null,
   "metadata": {},
   "outputs": [],
   "source": [
    "# # eliminar filas sin ningún dato\n",
    "# F = F[np.nansum(np.isnan(F), axis=1) == 0]"
   ]
  },
  {
   "cell_type": "code",
   "execution_count": null,
   "metadata": {},
   "outputs": [],
   "source": [
    "# eliminar la media de cada columna\n",
    "F_ = F - np.nanmean(F, axis=0)"
   ]
  },
  {
   "cell_type": "code",
   "execution_count": null,
   "metadata": {},
   "outputs": [],
   "source": [
    "# matriz de covarianza\n",
    "np.transpose(F)"
   ]
  },
  {
   "cell_type": "code",
   "execution_count": null,
   "metadata": {},
   "outputs": [],
   "source": [
    "plt.imshow(np.cov(F_))"
   ]
  },
  {
   "cell_type": "code",
   "execution_count": null,
   "metadata": {},
   "outputs": [],
   "source": [
    "# calcular anomalías \n",
    "anomETx = ETx - meanAETx\n",
    "plt.imshow(np.nanmin(anomETx, axis=0), cmap='coolwarm');"
   ]
  },
  {
   "cell_type": "code",
   "execution_count": null,
   "metadata": {},
   "outputs": [],
   "source": [
    "# Create an EOF solver to do the EOF analysis. Square-root of cosine of\n",
    "# latitude weights are applied before the computation of EOFs.\n",
    "coslat = np.cos(np.deg2rad(lats)).clip(0., 1.)\n",
    "wgts = np.sqrt(coslat)[..., np.newaxis]\n",
    "solver = Eof(z_djf, weights=wgts)"
   ]
  },
  {
   "cell_type": "code",
   "execution_count": null,
   "metadata": {},
   "outputs": [],
   "source": []
  },
  {
   "cell_type": "code",
   "execution_count": null,
   "metadata": {},
   "outputs": [],
   "source": []
  },
  {
   "cell_type": "code",
   "execution_count": null,
   "metadata": {},
   "outputs": [],
   "source": []
  },
  {
   "cell_type": "code",
   "execution_count": null,
   "metadata": {},
   "outputs": [],
   "source": []
  },
  {
   "cell_type": "code",
   "execution_count": null,
   "metadata": {},
   "outputs": [],
   "source": [
    "import iris\n",
    "from eofs.iris import Eof"
   ]
  },
  {
   "cell_type": "code",
   "execution_count": null,
   "metadata": {
    "scrolled": true
   },
   "outputs": [],
   "source": [
    "# # read a spatial-temporal field, time must be the first dimension\n",
    "sst = iris.load_cube(test)\n",
    "# sst"
   ]
  },
  {
   "cell_type": "code",
   "execution_count": null,
   "metadata": {},
   "outputs": [],
   "source": [
    "# create a solver class, taking advantage of built-in weighting\n",
    "solver = Eof(test, weights='coslat')"
   ]
  },
  {
   "cell_type": "code",
   "execution_count": null,
   "metadata": {},
   "outputs": [],
   "source": []
  },
  {
   "cell_type": "code",
   "execution_count": null,
   "metadata": {},
   "outputs": [],
   "source": []
  },
  {
   "cell_type": "markdown",
   "metadata": {},
   "source": [
    "##### Toda la hoja MODIS"
   ]
  },
  {
   "cell_type": "code",
   "execution_count": null,
   "metadata": {},
   "outputs": [],
   "source": [
    "# Mapas de ET de la cuenca del Deva\n",
    "MODIS_maps(rutaMODIS, files, var='ET_500m', coordsOut='epsg:25830')\n",
    "data = MODIS_maps.data\n",
    "XX, YY = MODIS_maps.Xcoords, MODIS_maps.Ycoords\n",
    "\n",
    "print('filas: {0:>3}\\tcolumnas: {1:>3}\\tfechas: {2:>3}'.format(*data.shape))"
   ]
  },
  {
   "cell_type": "code",
   "execution_count": null,
   "metadata": {},
   "outputs": [],
   "source": [
    "# ET media en el periodo\n",
    "datamean = np.nanmean(data, axis=2)"
   ]
  },
  {
   "cell_type": "code",
   "execution_count": null,
   "metadata": {},
   "outputs": [],
   "source": [
    "fig, ax = plt.subplots(figsize=(8, 8))\n",
    "\n",
    "# provincias\n",
    "ESP.geometry.boundary.plot(ax=ax, edgecolor='k', lw=.8, zorder=3)\n",
    "# ET\n",
    "ETmap = ax.scatter(XX, YY, marker='s', c=datamean, cmap='summer_r', s=1, zorder=1)\n",
    "cb = plt.colorbar(ETmap, shrink=.5)\n",
    "cb.set_label('mm', fontsize=12)\n",
    "\n",
    "\n",
    "# configuración\n",
    "ax.set(xlim=(-20000, 600000), ylim=(4500000, 4900000))\n",
    "ax.set_title('ET media', fontsize=13, fontweight='bold');\n",
    "ax.set_axis_off();"
   ]
  },
  {
   "cell_type": "markdown",
   "metadata": {},
   "source": [
    "##### Cuenca del Deva"
   ]
  },
  {
   "cell_type": "code",
   "execution_count": null,
   "metadata": {},
   "outputs": [],
   "source": [
    "# Mapas de ET de la cuenca del Deva\n",
    "MODIS_maps(rutaMODIS, files, var='ET_500m', coordsOut='epsg:25830', basin=dem)\n",
    "datab = MODIS_maps.data\n",
    "XXb, YYb, datesb = MODIS_maps.Xcoords, MODIS_maps.Ycoords, MODIS_maps.dates\n",
    "\n",
    "print('filas: {0:>3}\\tcolumnas: {1:>3}\\tfechas: {2:>3}'.format(*datab.shape))"
   ]
  },
  {
   "cell_type": "code",
   "execution_count": null,
   "metadata": {
    "scrolled": true
   },
   "outputs": [],
   "source": [
    "# años con datos\n",
    "years = np.unique(np.array([date.year for date in datesb]))\n",
    "years"
   ]
  },
  {
   "cell_type": "code",
   "execution_count": null,
   "metadata": {
    "scrolled": true
   },
   "outputs": [],
   "source": [
    "# medias anuales\n",
    "databyear = np.zeros((datab.shape[0], datab.shape[1], len(years))) * np.nan\n",
    "for y, year in enumerate(years):\n",
    "    ks = [k for k, date in enumerate(datesb) if date.year == year]\n",
    "    if len(ks) < 40:\n",
    "        years.remove(year)\n",
    "        continue\n",
    "    else:\n",
    "        print(year)\n",
    "        databyear[:,:,y] = np.nanmean(datab[:,:,ks], axis=2)"
   ]
  },
  {
   "cell_type": "code",
   "execution_count": null,
   "metadata": {},
   "outputs": [],
   "source": [
    "if 'databyear' in locals():\n",
    "    np.dstack((databyear, np.nanmean(datab[:,:,ks], axis=2)))\n",
    "else:\n",
    "    databyear = np.nanmean(datab[:,:,ks], axis=2)"
   ]
  },
  {
   "cell_type": "code",
   "execution_count": null,
   "metadata": {},
   "outputs": [],
   "source": []
  },
  {
   "cell_type": "code",
   "execution_count": null,
   "metadata": {},
   "outputs": [],
   "source": []
  },
  {
   "cell_type": "code",
   "execution_count": null,
   "metadata": {},
   "outputs": [],
   "source": []
  },
  {
   "cell_type": "code",
   "execution_count": null,
   "metadata": {},
   "outputs": [],
   "source": []
  },
  {
   "cell_type": "code",
   "execution_count": null,
   "metadata": {},
   "outputs": [],
   "source": [
    "tyear = 2002"
   ]
  },
  {
   "cell_type": "code",
   "execution_count": null,
   "metadata": {},
   "outputs": [],
   "source": [
    "# ET amedia en el periodo\n",
    "databmean = np.nanmean(datab, axis=2)"
   ]
  },
  {
   "cell_type": "raw",
   "metadata": {},
   "source": []
  },
  {
   "cell_type": "code",
   "execution_count": null,
   "metadata": {},
   "outputs": [],
   "source": [
    "fig, ax = plt.subplots(figsize=(8, 8))\n",
    "\n",
    "# provincias\n",
    "ESP.geometry.boundary.plot(ax=ax, edgecolor='k', lw=1, ls='--', zorder=2)\n",
    "# ET\n",
    "ETmap = ax.scatter(ET['Terra']['XX'], ET['Terra']['YY'], marker='s', c=ET['Terra']['meanAET'],\n",
    "                   cmap='YlGn', s=20, zorder=2)\n",
    "cb = plt.colorbar(ETmap, shrink=.5)\n",
    "cb.set_label('mm', fontsize=12)\n",
    "# mdt\n",
    "ax.imshow(dem, cmap='pink', extent=[XXdem[0], XXdem[-1], YYdem[-1], YYdem[0]], zorder=1)\n",
    "\n",
    "# configuración\n",
    "ax.set_title('ET media', fontsize=13, fontweight='bold')\n",
    "ax.axis('off');"
   ]
  },
  {
   "cell_type": "code",
   "execution_count": null,
   "metadata": {},
   "outputs": [],
   "source": [
    "plt.figure(figsize=(8, 8))\n",
    "plt.imshow(dem, cmap='pink', extent=[XXdem[0], XXdem[-1], YYdem[-1], YYdem[0]], zorder=1)\n",
    "plt.imshow(ET['Terra']['meanAET'], extent=[XXa[0,0], XXa[-1,-1], YYa[-1,-1], YYa[0,0]])"
   ]
  },
  {
   "cell_type": "code",
   "execution_count": null,
   "metadata": {},
   "outputs": [],
   "source": [
    "[XXa[0,0], XXa[-1,-1], YYa[-1,-1], YYa[0,0]]"
   ]
  },
  {
   "cell_type": "code",
   "execution_count": null,
   "metadata": {},
   "outputs": [],
   "source": []
  }
 ],
 "metadata": {
  "kernelspec": {
   "display_name": "Python 3",
   "language": "python",
   "name": "python3"
  },
  "language_info": {
   "codemirror_mode": {
    "name": "ipython",
    "version": 3
   },
   "file_extension": ".py",
   "mimetype": "text/x-python",
   "name": "python",
   "nbconvert_exporter": "python",
   "pygments_lexer": "ipython3",
   "version": "3.7.3"
  },
  "varInspector": {
   "cols": {
    "lenName": 16,
    "lenType": 16,
    "lenVar": 40
   },
   "kernels_config": {
    "python": {
     "delete_cmd_postfix": "",
     "delete_cmd_prefix": "del ",
     "library": "var_list.py",
     "varRefreshCmd": "print(var_dic_list())"
    },
    "r": {
     "delete_cmd_postfix": ") ",
     "delete_cmd_prefix": "rm(",
     "library": "var_list.r",
     "varRefreshCmd": "cat(var_dic_list()) "
    }
   },
   "types_to_exclude": [
    "module",
    "function",
    "builtin_function_or_method",
    "instance",
    "_Feature"
   ],
   "window_display": false
  }
 },
 "nbformat": 4,
 "nbformat_minor": 4
}
