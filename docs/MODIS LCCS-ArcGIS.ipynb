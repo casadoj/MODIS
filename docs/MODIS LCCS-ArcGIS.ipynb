{
 "cells": [
  {
   "cell_type": "markdown",
   "metadata": {},
   "source": [
    "# Cobertura del suelo MODIS\n",
    "_Autor:_    __Jesús Casado__ <br> _Revisión:_ __04/0/2020__ <br>\n",
    "\n",
    "__Introducción__<br>\n",
    "Datos de MODIS sobre clasificación de la cobertur adel suelo:\n",
    "1. Se cargan los datos originales (anual). Los datos se muestran en mapas y series.\n",
    "\n",
    "__Cosas que arreglar__ <br>\n",
    "\n",
    "\n",
    "__Fuentes__<br>\n",
    "[Clasificación de usos: MCD12Q1](https://lpdaac.usgs.gov/products/mcd12q1v006/)<br>\n",
    "[Fenología: MCD12Q2](https://lpdaac.usgs.gov/products/mcd12q2v006/)<br>\n",
    "[Explicación productos y unidades](https://lpdaac.usgs.gov/documents/101/MCD12_User_Guide_V6.pdf)<br>\n",
    "***\n",
    "\n",
    "__Índice__ <br>\n",
    "__[Datos](#Datos)__<br>\n",
    "[DEM de la cuenca](#DEM-de-la-cuenca-(ETRS89-UTM30N))<br>\n",
    "[Evapotranspiración MODIS](#Evapotranspiración-MODIS)<br>\n",
    "\n",
    "__[Análisis](#Análisis)__<br>\n",
    "[8 diario](#8-diario)<br>\n",
    "[Mensual](#Mensual)<br>\n",
    "[Anual](#Anual)<br>\n",
    "[EOF](#EOF)<br>"
   ]
  },
  {
   "cell_type": "code",
   "execution_count": 1,
   "metadata": {},
   "outputs": [],
   "source": [
    "import numpy as np\n",
    "import pandas as pd\n",
    "\n",
    "from netCDF4 import Dataset, num2date, date2num\n",
    "#import h5py\n",
    "from datetime import datetime\n",
    "from calendar import monthrange\n",
    "import time\n",
    "\n",
    "import os\n",
    "rutaBase = os.getcwd().replace('\\\\', '/') + '/'\n",
    "\n",
    "import geopandas as gpd\n",
    "import earthpy as et\n",
    "\n",
    "from eofs.standard import Eof\n",
    "\n",
    "import matplotlib.animation as animation\n",
    "from IPython.display import HTML"
   ]
  },
  {
   "cell_type": "code",
   "execution_count": 2,
   "metadata": {},
   "outputs": [],
   "source": [
    "from pyproj import Proj, transform, CRS\n",
    "os.environ['PROJ_LIB'] = r'C:\\Anaconda3\\pkgs\\proj4-4.9.3-vc14_5\\Library\\share'"
   ]
  },
  {
   "cell_type": "code",
   "execution_count": 3,
   "metadata": {},
   "outputs": [],
   "source": [
    "os.chdir(rutaBase + '../src/')\n",
    "from funciones_MODIS import *\n",
    "from funciones_EOF import *\n",
    "os.chdir(rutaBase)"
   ]
  },
  {
   "cell_type": "code",
   "execution_count": 4,
   "metadata": {},
   "outputs": [],
   "source": [
    "import matplotlib.pyplot as plt\n",
    "plt.style.use('seaborn-whitegrid')\n",
    "plt.style.use('dark_background')\n",
    "%matplotlib inline\n",
    "from mpl_toolkits.axes_grid1 import make_axes_locatable\n",
    "from matplotlib.gridspec import GridSpec\n",
    "\n",
    "import seaborn as sns\n",
    "sns.set()\n",
    "custom_style = {'axes.facecolor': 'k',\n",
    "                'axes.edgecolor': 'gray',\n",
    "                'axes.labelcolor': 'white',\n",
    "                'figure.facecolor': 'k',\n",
    "                'grid.color': 'gray',\n",
    "                'text.color': 'white',\n",
    "                'xtick.color': 'white',\n",
    "                'ytick.color': 'white',\n",
    "                \"xtick.major.size\": 0,\n",
    "                \"ytick.major.size\": 0}\n",
    "sns.set_style(style='darkgrid', rc=custom_style)"
   ]
  },
  {
   "cell_type": "markdown",
   "metadata": {},
   "source": [
    "***"
   ]
  },
  {
   "cell_type": "markdown",
   "metadata": {},
   "source": [
    "## Datos\n",
    "### MODIS\n",
    "#### Configuración"
   ]
  },
  {
   "cell_type": "code",
   "execution_count": 5,
   "metadata": {},
   "outputs": [],
   "source": [
    "# satélites, productos, variable, unidades, valor correspondiente a NaN y\n",
    "# factor multiplicativo\n",
    "satellites = ['MODIS']\n",
    "products = ['MCD12Q1']\n",
    "var = 'PFT'\n",
    "units = '-'\n",
    "fillValue = [255]\n",
    "factor = None"
   ]
  },
  {
   "cell_type": "code",
   "execution_count": 6,
   "metadata": {},
   "outputs": [],
   "source": [
    "# coberturas del suelo definidas en la clasificación PFT (plant functional types)\n",
    "MODISclass = {0: 'Water bodies',\n",
    "              1: 'Evergreen needleleaf trees',\n",
    "              2: 'Evergreen broadleaf trees',\n",
    "              3: 'Deciduous needleleaf trees',\n",
    "              4: 'Deciduous broadleaf trees',\n",
    "              5: 'Shrub',\n",
    "              6: 'Grass',\n",
    "              7: 'Cereal croplands',\n",
    "              8: 'Broadleaf croplands',\n",
    "              9: 'Urban and built-up lands',\n",
    "              10: 'Permanent snow and ice',\n",
    "              11: 'Barren',\n",
    "              255: 'Unclassified'}"
   ]
  },
  {
   "cell_type": "code",
   "execution_count": 7,
   "metadata": {},
   "outputs": [],
   "source": [
    "# ruta y nombre del archivo\n",
    "rutaExport = rutaBase + '../output/' + var + '/'\n",
    "if os.path.exists(rutaExport) == False:\n",
    "    os.makedirs(rutaExport)\n",
    "filename = 'MODIS_' + var + '_Deva.nc'"
   ]
  },
  {
   "cell_type": "code",
   "execution_count": 8,
   "metadata": {},
   "outputs": [],
   "source": [
    "if os.path.exists(rutaExport + filename) == False:\n",
    "    # EXTRAER DATOS\n",
    "    # -------------\n",
    "    Data = {sat: {} for sat in satellites}\n",
    "    for sat, product in zip(satellites, products):\n",
    "        print('{0}: {1}'.format(sat, product))\n",
    "        rutaAsc = 'F:/Cartografia/MODIS/' + product + '/'\n",
    "        MODISfromASC(rutaAsc, product, factor, fillValue)\n",
    "        Data[sat][var] = MODISfromASC.data\n",
    "        Data[sat]['dates'] = MODISfromASC.dates\n",
    "        Data[sat]['Y'] = MODISfromASC.Y\n",
    "        Data[sat]['X'] = MODISfromASC.X\n",
    "        print()\n",
    "        \n",
    "\n",
    "    # GUARDAR NETCDF\n",
    "    # --------------\n",
    "    MODISnc(rutaExport + filename, Data, var, units, sats=satellites)"
   ]
  },
  {
   "cell_type": "code",
   "execution_count": 9,
   "metadata": {},
   "outputs": [],
   "source": [
    "# IMPORTAR NETCDF\n",
    "# ---------------\n",
    "# Cargar netcdf con los datos MODIS\n",
    "ncRead = Dataset(rutaExport + filename, 'r', format='NETCDF4')\n",
    "\n",
    "# extraer datos en un diccionario\n",
    "Data = {sat: {} for sat in satellites}\n",
    "for sat, product in zip(satellites, products):\n",
    "    # evapotranspiración\n",
    "    Data[sat][var] = ncRead[sat][var][::]\n",
    "    # fechas\n",
    "    Data[sat]['dates'] = [datetime(1, 1, 1) + timedelta(time) for time in ncRead[sat]['time'][:]]\n",
    "    # coordenadas\n",
    "    Data[sat]['X'] = ncRead[sat]['X'][:]\n",
    "    Data[sat]['Y'] = ncRead[sat]['Y'][:]\n",
    "\n",
    "ncRead.close()"
   ]
  },
  {
   "cell_type": "markdown",
   "metadata": {},
   "source": [
    "### Mapa único\n",
    "Se extrae un único mapa como representativo de todo el periodo para su comparación con el mapa de IVERCAM."
   ]
  },
  {
   "cell_type": "code",
   "execution_count": 12,
   "metadata": {},
   "outputs": [],
   "source": [
    "Data['MODIS_'] = {}\n",
    "\n",
    "# land cover MODIS\n",
    "Data['MODIS_'][var] = np.ones((Data['MODIS'][var].shape[1], Data['MODIS'][var].shape[2])) * np.nan\n",
    "for i in range(Data['MODIS_'][var].shape[0]):\n",
    "    for j in range(Data['MODIS_'][var].shape[1]):\n",
    "        # extraer valores anuales para la celda del mapa\n",
    "        aux = Data['MODIS'][var][:,i,j]\n",
    "        # continuar si la celda no pertenece a la cuenca\n",
    "        if np.all(np.isnan(aux)):\n",
    "            continue\n",
    "        # valores existentes y conteo\n",
    "        unq, cnt = np.unique(aux, return_counts=True)\n",
    "        # asignar el valor más frecuente\n",
    "        Data['MODIS_'][var][i,j] = unq[np.argmax(cnt)]\n",
    "del aux"
   ]
  },
  {
   "cell_type": "markdown",
   "metadata": {},
   "source": [
    "#### Acomodar a las clases de TETIS\n",
    "Para poder comparar la clasificación de usos de MODIS con la usada en TETIS, es necesario que ambos mapas tengan las mismas clases. Se opta por modificar las clases de MODIS para que repliquen las de TETIS, dado que esta última tiene menos clases."
   ]
  },
  {
   "cell_type": "code",
   "execution_count": 13,
   "metadata": {},
   "outputs": [],
   "source": [
    "# conversión de clases de MODIS a TETIS\n",
    "MODIS2TETIS = {0: 7, 1: 3, 2: 3, 3: 1, 4: 1, 5: 3, 6: 4,\n",
    "               7: 4, 8: 1, 9: 6, 10: 7, 11: 5, 255: np.nan}"
   ]
  },
  {
   "cell_type": "code",
   "execution_count": 15,
   "metadata": {},
   "outputs": [],
   "source": [
    "# array auxiliar en el que modificar las clases\n",
    "aux = Data['MODIS_'][var].copy()\n",
    "for c in MODIS2TETIS:\n",
    "    aux[Data['MODIS_'][var] == c] = MODIS2TETIS[c]\n",
    "# asignar el array modificado\n",
    "Data['MODIS_'][var] = aux \n",
    "del aux"
   ]
  },
  {
   "cell_type": "markdown",
   "metadata": {},
   "source": [
    "### IVERCAM-TETIS\n",
    "Clasificación de los usos del suelo hecha a partir de imágenes LANDSAT."
   ]
  },
  {
   "cell_type": "code",
   "execution_count": 16,
   "metadata": {},
   "outputs": [],
   "source": [
    "# coberturas del suelo definidas para IVERCAM:\n",
    "TETISclass = {1: 'BLF', 2: 'CNF', 3: 'SSH', 4: 'PAST', 5: 'DEN', 6: 'UHD', 7: 'WAE'}"
   ]
  },
  {
   "cell_type": "code",
   "execution_count": 17,
   "metadata": {},
   "outputs": [],
   "source": [
    "rutaTETIS = 'F:/Proyectos/GESDIVAH/SDM/TETIS/PdE/Actual/'"
   ]
  },
  {
   "cell_type": "code",
   "execution_count": 18,
   "metadata": {},
   "outputs": [
    {
     "data": {
      "image/png": "[encoded data removed]",
      "text/plain": [
       "<Figure size 432x288 with 1 Axes>"
      ]
     },
     "metadata": {},
     "output_type": "display_data"
    }
   ],
   "source": [
    "Data['TETIS'] = {}\n",
    "# leer ascii\n",
    "read_ascii(rutaTETIS + 'cobveg.asc', datatype='int')\n",
    "# extraer y recortar datos\n",
    "cobveg = read_ascii.data.astype('float')\n",
    "cobveg[cobveg.mask] = np.nan\n",
    "cobveg = cobveg.data\n",
    "maskrows = ~np.all(np.isnan(cobveg), axis=1)\n",
    "maskcols = ~np.all(np.isnan(cobveg), axis=0)\n",
    "cobveg = cobveg[maskrows,:][:,maskcols]\n",
    "Data['TETIS'][var] = cobveg.copy()\n",
    "del cobveg\n",
    "\n",
    "# extraer atributos\n",
    "attrs = read_ascii.attributes\n",
    "# coordenadas\n",
    "x = np.arange(attrs[2], attrs[2] + attrs[0] * attrs[4], attrs[4])\n",
    "Data['TETIS']['X'] = x[maskcols]\n",
    "y = np.arange(attrs[3], attrs[3] + attrs[1] * attrs[4], attrs[4])\n",
    "Data['TETIS']['Y'] = y[maskrows]\n",
    "\n",
    "plt.imshow(Data['TETIS'][var], cmap='summer')\n",
    "plt.axis('off');"
   ]
  },
  {
   "cell_type": "markdown",
   "metadata": {},
   "source": [
    "#### Unificar resolución de los mapas"
   ]
  },
  {
   "cell_type": "code",
   "execution_count": 19,
   "metadata": {},
   "outputs": [],
   "source": [
    "# resolución de MODIS\n",
    "resMODIS = 463.3127165275"
   ]
  },
  {
   "cell_type": "code",
   "execution_count": 20,
   "metadata": {},
   "outputs": [],
   "source": [
    "Data['TETIS_'] = {}\n",
    "\n",
    "# 'array' de clases de cobertura\n",
    "n, m = Data['MODIS'][var].shape[1], Data['MODIS'][var].shape[2]\n",
    "Data['TETIS_'][var] = np.ones((n, m)) * np.nan\n",
    "# escoger la clase más frecuente ventana móvil de 5x5 celdas\n",
    "for i, y in enumerate(Data['MODIS']['Y']):\n",
    "    for j, x in enumerate(Data['MODIS']['X']):\n",
    "        maskY = np.where(abs(Data['TETIS']['Y'] - y) < resMODIS / 2)[0]\n",
    "        maskX = np.where(abs(Data['TETIS']['X'] - x) < resMODIS / 2)[0]\n",
    "#         print('i: {0}\\tj: {1}\\tdimensiones de la máscara: ({2},{3})'.format(i, j, len(maskY),\n",
    "#                                                                             len(maskX)), end='\\r')\n",
    "        aux = Data['TETIS'][var][maskY,:][:,maskX]\n",
    "        if np.all(np.isnan(aux)):\n",
    "            continue\n",
    "        else:\n",
    "            unq, cnt = np.unique(aux, return_counts=True)\n",
    "            Data['TETIS_'][var][i,j] = unq[np.argmax(cnt)] \n",
    "            \n",
    "# guardar resto de variables\n",
    "Data['TETIS_']['X'] = Data['MODIS']['X']\n",
    "Data['TETIS_']['Y'] = Data['MODIS']['Y']"
   ]
  },
  {
   "cell_type": "markdown",
   "metadata": {},
   "source": [
    "***\n",
    "## Análisis\n",
    "### MODIS"
   ]
  },
  {
   "cell_type": "code",
   "execution_count": null,
   "metadata": {},
   "outputs": [],
   "source": [
    "# video de la cobertura del suelo anual de MODIS\n",
    "animate3Darray(Data['MODIS'][var], Data['MODIS']['dates'], minmax=[1, 11],\n",
    "               cblabel=var + ' (' + units + ')', cmap='summer', fps=1,\n",
    "               pathfile=rutaExport + var + 'deva_MODIS.mp4')"
   ]
  },
  {
   "cell_type": "code",
   "execution_count": 23,
   "metadata": {},
   "outputs": [],
   "source": [
    "# 'Data frame' con la fracción de cuenca perteneciente a cada clase en ambos mapas\n",
    "LC = pd.DataFrame(index=TETISclass.keys())\n",
    "for src in ['MODIS_', 'TETIS_']:\n",
    "    unq, cnt = np.unique(Data[src][var], return_counts=True)\n",
    "    mask = ~np.isnan(unq)\n",
    "    unq, cnt = unq[mask], cnt[mask]\n",
    "    LC.loc[unq, src] = cnt / np.sum(cnt)\n",
    "LC.index = [TETISclass[c] for c in TETISclass]"
   ]
  },
  {
   "cell_type": "code",
   "execution_count": 24,
   "metadata": {},
   "outputs": [
    {
     "data": {
      "image/png": "[encoded data removed]",
      "text/plain": [
       "<Figure size 1008x288 with 3 Axes>"
      ]
     },
     "metadata": {},
     "output_type": "display_data"
    }
   ],
   "source": [
    "fig, axes = plt.subplots(ncols=3, figsize=(14, 4))\n",
    "\n",
    "for ax, src in zip(axes, ['MODIS_', 'TETIS_']):\n",
    "    ax.imshow(Data[src][var], cmap='summer')\n",
    "    ax.set_title(src[:-1], fontsize=13, fontweight='bold')\n",
    "    ax.axis('off');  \n",
    "    axes[2].bar(LC.index, LC[src], alpha=.5, label=src[:-1])\n",
    "\n",
    "axes[2].set_ylabel('fracción de cuenca (-)', fontsize=12)\n",
    "axes[2].set_ylim(0, 1)\n",
    "axes[2].legend(loc=1);\n",
    "\n",
    "plt.savefig(rutaExport + 'Comparativa usos del suelo MODISvsTETIS.png', dpi=300, tight_layout=True)"
   ]
  },
  {
   "cell_type": "markdown",
   "metadata": {},
   "source": [
    "Hay un __acuerdo relativamente pobre entre la clasificación de los usos del suelo de MODIS y TETIS__. En ambos casos la clase más frecuente es el basque caducifolio ($BLF$), pero la fracción de cuenca ocupada por esta clase es muy superior en MODIS ($66\\%$) que en TETIS ($44\\%$). La principal causa de esta sobrevaloración del bosque en MODIS es que asume una lína de bosque a mayor altitud que TETIS, de manera que buena parte de la cuenca considerada arbusto en TETIS es considerada como bosque en MODIS.\n",
    "\n",
    "A su vez, MODIS infravalora la superficie de terreno desnudo (prácticamente inexistente) y sobrevalora el pasto, considerando como pastos zonas consideradas como arbusto en TETIS."
   ]
  },
  {
   "cell_type": "code",
   "execution_count": null,
   "metadata": {},
   "outputs": [],
   "source": [
    "from sklearn.metrics import roc_auc_score"
   ]
  },
  {
   "cell_type": "code",
   "execution_count": null,
   "metadata": {},
   "outputs": [],
   "source": [
    "# convertir los dos mapas en una matriz de dos filas y n (nº celdas) conlumnas\n",
    "y = np.vstack((Data['MODIS_'][var].flatten(),\n",
    "               Data['TETIS_'][var].flatten()))\n",
    "# eliminar columnas con algún NaN\n",
    "y = y[:, ~np.any(np.isnan(y), axis=0)]\n",
    "# convertir en enteros y transponer\n",
    "y = y.astype('int').transpose()\n",
    "y.shape"
   ]
  },
  {
   "cell_type": "code",
   "execution_count": null,
   "metadata": {},
   "outputs": [],
   "source": [
    "# crear 'target arrays' para la función de sklearn\n",
    "y_true = np.zeros((y.shape[0], len(TETISclass)))\n",
    "y_score = y_true.copy()\n",
    "for i in range(y.shape[0]):\n",
    "    y_true[i,y[i,0] - 1] = 1\n",
    "    y_score[i,y[i,1] - 1] = 1"
   ]
  },
  {
   "cell_type": "code",
   "execution_count": null,
   "metadata": {},
   "outputs": [],
   "source": [
    "np.sum(y_true, axis=0)"
   ]
  },
  {
   "cell_type": "code",
   "execution_count": null,
   "metadata": {},
   "outputs": [],
   "source": [
    "np.sum(y_score, axis=0)"
   ]
  },
  {
   "cell_type": "code",
   "execution_count": null,
   "metadata": {},
   "outputs": [],
   "source": [
    "# calcuar ROC_AUC\n",
    "roc_auc_score(y_true, y_score, average='weighted')"
   ]
  },
  {
   "cell_type": "code",
   "execution_count": null,
   "metadata": {},
   "outputs": [],
   "source": [
    "y.transpose()"
   ]
  },
  {
   "cell_type": "code",
   "execution_count": null,
   "metadata": {},
   "outputs": [],
   "source": [
    "len(TETISclass)"
   ]
  },
  {
   "cell_type": "code",
   "execution_count": null,
   "metadata": {},
   "outputs": [],
   "source": []
  },
  {
   "cell_type": "code",
   "execution_count": null,
   "metadata": {},
   "outputs": [],
   "source": [
    "for j, c in enumerate(TETISclass):\n",
    "    for i in range(y.shape[0]):\n",
    "        "
   ]
  },
  {
   "cell_type": "code",
   "execution_count": null,
   "metadata": {},
   "outputs": [],
   "source": []
  },
  {
   "cell_type": "code",
   "execution_count": null,
   "metadata": {},
   "outputs": [],
   "source": [
    "y_true"
   ]
  },
  {
   "cell_type": "code",
   "execution_count": null,
   "metadata": {},
   "outputs": [],
   "source": []
  }
 ],
 "metadata": {
  "kernelspec": {
   "display_name": "Python 3",
   "language": "python",
   "name": "python3"
  },
  "language_info": {
   "codemirror_mode": {
    "name": "ipython",
    "version": 3
   },
   "file_extension": ".py",
   "mimetype": "text/x-python",
   "name": "python",
   "nbconvert_exporter": "python",
   "pygments_lexer": "ipython3",
   "version": "3.7.3"
  },
  "varInspector": {
   "cols": {
    "lenName": 16,
    "lenType": 16,
    "lenVar": 40
   },
   "kernels_config": {
    "python": {
     "delete_cmd_postfix": "",
     "delete_cmd_prefix": "del ",
     "library": "var_list.py",
     "varRefreshCmd": "print(var_dic_list())"
    },
    "r": {
     "delete_cmd_postfix": ") ",
     "delete_cmd_prefix": "rm(",
     "library": "var_list.r",
     "varRefreshCmd": "cat(var_dic_list()) "
    }
   },
   "types_to_exclude": [
    "module",
    "function",
    "builtin_function_or_method",
    "instance",
    "_Feature"
   ],
   "window_display": false
  }
 },
 "nbformat": 4,
 "nbformat_minor": 4
}
