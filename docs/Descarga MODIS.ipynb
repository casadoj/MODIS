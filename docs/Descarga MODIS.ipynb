{
 "cells": [
  {
   "cell_type": "markdown",
   "metadata": {},
   "source": [
    "__[Automated Bulk Downloads of Landsat-8 Data Products in Python](http://geologyandpython.com/get-landsat-8.html)__<br>\n",
    "\n",
    "__[espa-bulk-downloader](https://github.com/USGS-EROS/espa-bulk-downloader)__\n",
    "\n",
    "__[pyModis](http://www.pymodis.org/)__"
   ]
  },
  {
   "cell_type": "markdown",
   "metadata": {},
   "source": [
    "### pyModis"
   ]
  },
  {
   "cell_type": "code",
   "execution_count": 1,
   "metadata": {},
   "outputs": [
    {
     "name": "stdout",
     "output_type": "stream",
     "text": [
      "WARNING: Python GDAL library not found, please install it to check data downloaded with pyModis\n",
      "qualitymodis and convertmodis_gdal modules not enabled, maybe Python GDAL is missing\n",
      "WxPython missing, no GUI enabled\n"
     ]
    }
   ],
   "source": [
    "import pymodis"
   ]
  },
  {
   "cell_type": "code",
   "execution_count": null,
   "metadata": {},
   "outputs": [],
   "source": [
    "pymodis.__file__"
   ]
  },
  {
   "cell_type": "code",
   "execution_count": null,
   "metadata": {},
   "outputs": [],
   "source": [
    "pymodis."
   ]
  },
  {
   "cell_type": "code",
   "execution_count": null,
   "metadata": {},
   "outputs": [],
   "source": []
  },
  {
   "cell_type": "code",
   "execution_count": null,
   "metadata": {},
   "outputs": [],
   "source": []
  },
  {
   "cell_type": "code",
   "execution_count": null,
   "metadata": {},
   "outputs": [],
   "source": []
  },
  {
   "cell_type": "markdown",
   "metadata": {},
   "source": [
    "### earthdatascience\n",
    "[Work with MODIS remote sensing data in Python](https://www.earthdatascience.org/courses/earth-analytics-python/multispectral-remote-sensing-modis/modis-remote-sensing-data-in-python/)\n",
    "\n",
    "[Error instalando geopandas](https://stackoverflow.com/questions/54734667/error-installing-geopandas-a-gdal-api-version-must-be-specified-in-anaconda/54734864#54734864)"
   ]
  },
  {
   "cell_type": "code",
   "execution_count": null,
   "metadata": {},
   "outputs": [],
   "source": [
    "from glob import glob\n",
    "import os\n",
    "import numpy as np\n",
    "import numpy.ma as ma\n",
    "import matplotlib.pyplot as plt\n",
    "import geopandas as gpd\n",
    "import rasterio as rio\n",
    "import earthpy as et\n",
    "import earthpy.spatial as es\n",
    "import earthpy.plot as ep"
   ]
  },
  {
   "cell_type": "code",
   "execution_count": null,
   "metadata": {},
   "outputs": [],
   "source": [
    "data = et.data.get_data('cold-springs-fire')\n",
    "os.chdir(os.path.join(et.io.HOME, 'earth-analytics'))"
   ]
  },
  {
   "cell_type": "code",
   "execution_count": null,
   "metadata": {},
   "outputs": [],
   "source": [
    "# Create list of MODIS rasters for surface reflectance\n",
    "modis_bands_pre_list = glob('data/cold-springs-fire/modis/reflectance/07_july_2016/crop/*_sur_refl_b*.tif')\n",
    "\n",
    "# Sort the list of bands\n",
    "modis_bands_pre_list.sort()\n",
    "modis_bands_pre_list"
   ]
  },
  {
   "cell_type": "code",
   "execution_count": null,
   "metadata": {
    "scrolled": true
   },
   "outputs": [],
   "source": [
    "# Create raster stack\n",
    "modis_bands_pre_out = 'data/cold-springs-fire/outputs/modis_bands_pre.tif'\n",
    "es.stack(modis_bands_pre_list, modis_bands_pre_out)"
   ]
  },
  {
   "cell_type": "code",
   "execution_count": null,
   "metadata": {},
   "outputs": [],
   "source": [
    "# Open raster stack\n",
    "with rio.open(modis_bands_pre_out) as src_modis_bands:\n",
    "    modis_bands_pre = src_modis_bands.read(masked=True)\n",
    "    modis_bands_bounds = src_modis_bands.bounds\n",
    "    modis_bands_meta = src_modis_bands.profile\n",
    "    modis_bands_crs = src_modis_bands.crs"
   ]
  },
  {
   "cell_type": "code",
   "execution_count": null,
   "metadata": {},
   "outputs": [],
   "source": [
    "# Plot MODIS RGB\n",
    "ep.plot_rgb(modis_bands_pre, rgb=[0, 3, 2], title='Surgace Reflectance \\n MODIS RGB Bands')\n",
    "plt.show()"
   ]
  },
  {
   "cell_type": "code",
   "execution_count": null,
   "metadata": {},
   "outputs": [],
   "source": [
    "# Identify minimum and maximum values of band 1 (red)\n",
    "print(modis_bands_pre[1].min(), modis_bands_pre[1].max())"
   ]
  },
  {
   "cell_type": "code",
   "execution_count": null,
   "metadata": {},
   "outputs": [],
   "source": [
    "# Open fire boundary\n",
    "fire_boundary_path = 'data/cold-springs-fire/vector_layers/fire-boundary-geomac/co_cold_springs_20160711_2200_dd83.shp'"
   ]
  },
  {
   "cell_type": "code",
   "execution_count": null,
   "metadata": {},
   "outputs": [],
   "source": [
    "fire_boundary = gpd.read_file(fire_boundary_path)\n",
    "fire_bound_sin = fire_boundary.to_crs(modis_bands_crs)\n",
    "output_path = os.path.join('data', 'cold-springs-fire', 'outputs', 'modis_pre_lsn3')\n",
    "if not os.path.exists(output_path):\n",
    "    os.mkdir(output_path)\n",
    "modis_pre_cropped_images = es.crop_all(modis_bands_pre_list, output_path, fire_bound_sin,\n",
    "                                       overwrite=True)\n",
    "modis_pre_crop, modis_pre_meta = es.stack(modis_pre_cropped_images)\n",
    "modis_bands_pre_data = ma.masked_where(modis_pre_crop == -28672, modis_pre_crop)"
   ]
  },
  {
   "cell_type": "code",
   "execution_count": null,
   "metadata": {},
   "outputs": [],
   "source": [
    "# Create a list of titles\n",
    "titles = ['Red band', 'Near infrared (NIR) band', 'Blue/Green band', 'Green band',\n",
    "          'Near infrared (NIR) band', 'Mid-infrared band', 'Mid-infrared band']\n",
    "\n",
    "# Plot all bands individually\n",
    "ep.plot_bands(modis_bands_pre_data, cols=3, title=titles, figsize=(10, 6))\n",
    "plt.show()"
   ]
  },
  {
   "cell_type": "code",
   "execution_count": null,
   "metadata": {},
   "outputs": [],
   "source": [
    "# Plot MODIS RGB\n",
    "ep.plot_rgb(modis_bands_pre_data, rgb=[0, 3, 2],\n",
    "            title='Cropped surface reflectance \\n MODIS RGB bands')\n",
    "plt.show()"
   ]
  },
  {
   "cell_type": "code",
   "execution_count": null,
   "metadata": {},
   "outputs": [],
   "source": [
    "# Create a colors and titles list to use in the histogram\n",
    "colors = ['r', 'k', 'b', 'g', 'k', 'y', 'y']\n",
    "titles = [\"Red Band\", \"Near Infrared (NIR) Band\", \"Blue/Green Band\",\n",
    "          \"Green Band\", \"Near Infrared (NIR) Band\",\n",
    "          \"Mid-infrared Band\", \"Mid-infrared Band\"]\n",
    "\n",
    "# Plot histogram\n",
    "ep.hist(modis_bands_pre_data, colors=colors, title=titles, cols=2)\n",
    "plt.show()"
   ]
  },
  {
   "cell_type": "code",
   "execution_count": null,
   "metadata": {},
   "outputs": [],
   "source": [
    "# Scale values of MODIS imagery stack\n",
    "modis_bands_pre_scaled = modis_bands_pre_data * 0.0001"
   ]
  },
  {
   "cell_type": "code",
   "execution_count": null,
   "metadata": {},
   "outputs": [],
   "source": [
    "# Identify minimum and maximum values of scaled band 1 (red)\n",
    "print(modis_bands_pre_scaled[1].min(), modis_bands_pre_scaled[1].max())"
   ]
  },
  {
   "cell_type": "code",
   "execution_count": null,
   "metadata": {},
   "outputs": [],
   "source": [
    "# Create a colors and titles list to use in the histogram\n",
    "colors = ['r', 'k', 'b', 'g', 'k', 'y', 'y']\n",
    "titles = [\"Red Band\", \"Near Infrared (NIR) Band\", \"Blue/Green Band\", \"Green Band\",\n",
    "          \"Near Infrared (NIR) Band\", \"Mid-infrared Band\", \"Mid-infrared Band\"]\n",
    "\n",
    "# Plot histogram\n",
    "ep.hist(modis_bands_pre_scaled, colors=colors, title=titles, cols=2)\n",
    "plt.show()\n"
   ]
  },
  {
   "cell_type": "code",
   "execution_count": null,
   "metadata": {},
   "outputs": [],
   "source": []
  }
 ],
 "metadata": {
  "kernelspec": {
   "display_name": "Python 3",
   "language": "python",
   "name": "python3"
  },
  "language_info": {
   "codemirror_mode": {
    "name": "ipython",
    "version": 3
   },
   "file_extension": ".py",
   "mimetype": "text/x-python",
   "name": "python",
   "nbconvert_exporter": "python",
   "pygments_lexer": "ipython3",
   "version": "3.7.3"
  },
  "varInspector": {
   "cols": {
    "lenName": 16,
    "lenType": 16,
    "lenVar": 40
   },
   "kernels_config": {
    "python": {
     "delete_cmd_postfix": "",
     "delete_cmd_prefix": "del ",
     "library": "var_list.py",
     "varRefreshCmd": "print(var_dic_list())"
    },
    "r": {
     "delete_cmd_postfix": ") ",
     "delete_cmd_prefix": "rm(",
     "library": "var_list.r",
     "varRefreshCmd": "cat(var_dic_list()) "
    }
   },
   "types_to_exclude": [
    "module",
    "function",
    "builtin_function_or_method",
    "instance",
    "_Feature"
   ],
   "window_display": false
  }
 },
 "nbformat": 4,
 "nbformat_minor": 2
}
