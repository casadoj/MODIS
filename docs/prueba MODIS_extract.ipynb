{
 "cells": [
  {
   "cell_type": "code",
   "execution_count": 1,
   "metadata": {},
   "outputs": [],
   "source": [
    "import os\n",
    "rutaBase = os.getcwd().replace('\\\\', '/') + '/'"
   ]
  },
  {
   "cell_type": "code",
   "execution_count": 2,
   "metadata": {},
   "outputs": [],
   "source": [
    "os.chdir(rutaBase + '../src/')\n",
    "from funciones_MODIS import *"
   ]
  },
  {
   "cell_type": "code",
   "execution_count": 3,
   "metadata": {},
   "outputs": [],
   "source": [
    "# rutas de entrada y salida\n",
    "rutaMODIS = 'F:/OneDrive - Universidad de Cantabria/Cartografia/MODIS/'\n",
    "# rutaExport = 'F:/Proyectos/GESDIVAH/SDM/Data/PdE/MODIS/'\n",
    "rutaExport = rutaBase + '../output/ET/'"
   ]
  },
  {
   "cell_type": "code",
   "execution_count": 4,
   "metadata": {},
   "outputs": [],
   "source": [
    "# parámetros de la extracción de datos de MODIS\n",
    "product = 'MOD13A1'\n",
    "var = '500m 16 days NDVI'\n",
    "# atributes = [2400, 2400, -1111950.519667, 5559752.598333, 0., 4447802.078667]\n",
    "tiles = ['h17v04', 'h17v05']\n",
    "dateslim=['2005-01-01', '2005-06-01']\n",
    "clip = rutaBase + '../data/dem.asc'\n",
    "coordsOut = 'epsg:25830'\n",
    "filename = 'MODIS_' + var + '.nc'"
   ]
  },
  {
   "cell_type": "code",
   "execution_count": 5,
   "metadata": {},
   "outputs": [
    {
     "name": "stdout",
     "output_type": "stream",
     "text": [
      "Generar atributos globales\n",
      "dimensión:\t\t(2400, 4800)\n",
      "esquina inf. izqda.:\t(-1111950.52, 3335851.56)\n",
      "esquina sup. dcha.:\t(      0.00, 5559752.60)\n",
      "\n",
      "Crear máscaras\n",
      "dimensión:\t\t(  47,   49)\n",
      "\n",
      "Importar datos\n",
      "Hoja  1 de  2: h17v04\n",
      "Archivo  10 de  10: MOD13A1.A2005145.h17v04.006.2015157052155.hdf\n",
      "Hoja  2 de  2: h17v05\n",
      "Archivo  10 de  10: MOD13A1.A2005145.h17v05.006.2015157052357.hdf\n"
     ]
    }
   ],
   "source": [
    "MODIS_extract(rutaMODIS, product, var, tiles, dateslim=dateslim, clip=clip,\n",
    "              coordsClip=coordsOut)"
   ]
  },
  {
   "cell_type": "code",
   "execution_count": null,
   "metadata": {},
   "outputs": [],
   "source": []
  }
 ],
 "metadata": {
  "kernelspec": {
   "display_name": "Python 3",
   "language": "python",
   "name": "python3"
  },
  "language_info": {
   "codemirror_mode": {
    "name": "ipython",
    "version": 3
   },
   "file_extension": ".py",
   "mimetype": "text/x-python",
   "name": "python",
   "nbconvert_exporter": "python",
   "pygments_lexer": "ipython3",
   "version": "3.7.3"
  }
 },
 "nbformat": 4,
 "nbformat_minor": 4
}
