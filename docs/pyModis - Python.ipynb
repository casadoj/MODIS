{
 "cells": [
  {
   "cell_type": "markdown",
   "metadata": {},
   "source": [
    "# pyModis notebook"
   ]
  },
  {
   "cell_type": "markdown",
   "metadata": {},
   "source": [
    "## Download data"
   ]
  },
  {
   "cell_type": "markdown",
   "metadata": {},
   "source": [
    "First we have to import pymodis library and set all the needed variables"
   ]
  },
  {
   "cell_type": "code",
   "execution_count": 1,
   "metadata": {},
   "outputs": [
    {
     "name": "stdout",
     "output_type": "stream",
     "text": [
      "WxPython missing, no GUI enabled\n"
     ]
    }
   ],
   "source": [
    "import os\n",
    "import glob\n",
    "from IPython.core.display import Image\n",
    "from pymodis import downmodis"
   ]
  },
  {
   "cell_type": "code",
   "execution_count": 2,
   "metadata": {},
   "outputs": [],
   "source": [
    "# product\n",
    "product = 'MOD16A2.006' # anual ET gap filled v6\n",
    "# destination folder\n",
    "dest = 'F:/OneDrive - Universidad de Cantabria/Cartografia/MODIS/' + product.split('.')[0] + '/'\n",
    "# tiles to download\n",
    "tiles = 'h17v04'#, 'h17v05']\n",
    "# starting day\n",
    "start = '2001.01.01'\n",
    "# ending day\n",
    "end = '2019.10.24'\n",
    "# number of day to download\n",
    "delta = 24"
   ]
  },
  {
   "cell_type": "code",
   "execution_count": 3,
   "metadata": {},
   "outputs": [],
   "source": [
    "modisDown = downmodis.downModis(destinationFolder=dest,\n",
    "                                password='Chomolungma1618', user='casadoj',\n",
    "                                url='https://e4ftl01.cr.usgs.gov', product=product, \n",
    "                                tiles=tiles, today=end, delta=0)"
   ]
  },
  {
   "cell_type": "code",
   "execution_count": 4,
   "metadata": {},
   "outputs": [],
   "source": [
    "modisDown.connect()"
   ]
  },
  {
   "cell_type": "code",
   "execution_count": 5,
   "metadata": {
    "scrolled": false
   },
   "outputs": [],
   "source": [
    "modisDown.downloadsAllDay()"
   ]
  },
  {
   "cell_type": "markdown",
   "metadata": {},
   "source": [
    "At this point we can initialize the downmodis object. We are going to download MODIS LST product, in the \"/tmp\" directory"
   ]
  },
  {
   "cell_type": "markdown",
   "metadata": {},
   "source": [
    "Hace falta tener en la carpeta `C:\\Users\\username\\` el archivo `.netrc`, que contiene lo siguiente:\n",
    "> machine urs.earthdata.nasa.gov<br>\n",
    "> login username<br>\n",
    "> password password<br>"
   ]
  },
  {
   "cell_type": "markdown",
   "metadata": {},
   "source": [
    "La url donde se encuentran los datos de MODIS es https://e4ftl01.cr.usgs.gov. Los datos del satélite Terra corresponden a _MOLT_ y los de Aqua a _MOLA_."
   ]
  },
  {
   "cell_type": "code",
   "execution_count": null,
   "metadata": {},
   "outputs": [],
   "source": [
    "import datetime"
   ]
  },
  {
   "cell_type": "code",
   "execution_count": null,
   "metadata": {
    "scrolled": true
   },
   "outputs": [],
   "source": [
    "dates = []\n",
    "for year in np.arange(2001, 2020):\n",
    "    for day in range(1, 366, 8):\n",
    "    #     print(day)\n",
    "        date = datetime.datetime(year - 1, 12, 31) + datetime.timedelta(day)\n",
    "        if date > datetime.datetime(2019, 11, 1):\n",
    "            break\n",
    "        dates.append(date.strftime(\"%Y.%m.%d\"))"
   ]
  },
  {
   "cell_type": "code",
   "execution_count": null,
   "metadata": {},
   "outputs": [],
   "source": [
    "dates"
   ]
  },
  {
   "cell_type": "code",
   "execution_count": null,
   "metadata": {},
   "outputs": [],
   "source": [
    "dates[-1] - dates[0]"
   ]
  },
  {
   "cell_type": "code",
   "execution_count": null,
   "metadata": {},
   "outputs": [],
   "source": [
    "for day in dates[:2]:\n",
    "    modisDown = downmodis.downModis(destinationFolder=dest,\n",
    "                                    password='Chomolungma1618', user='casadoj',\n",
    "                                    url='https://e4ftl01.cr.usgs.gov', tiles=tiles,\n",
    "                                    product=product, today=day, delta=0)\n",
    "    modisDown.connect()\n",
    "    modisDown.downloadsAllDay()"
   ]
  },
  {
   "cell_type": "markdown",
   "metadata": {},
   "source": [
    "At this point we start the download of files."
   ]
  },
  {
   "cell_type": "markdown",
   "metadata": {},
   "source": [
    "<div style=\"border: 1px solid red;\"><h6 style=\"color:#ff4040; margin: 0.5em;\">Warning</h6>\n",
    "<span style=\"margin: 0.5em;\">The next operation could take some minutes depending on your internet speed</span></div>"
   ]
  },
  {
   "cell_type": "code",
   "execution_count": null,
   "metadata": {
    "scrolled": false
   },
   "outputs": [],
   "source": [
    "modisDown.downloadsAllDay()"
   ]
  },
  {
   "cell_type": "code",
   "execution_count": null,
   "metadata": {},
   "outputs": [],
   "source": [
    "# create the list of files to use\n",
    "files = glob.glob(os.path.join(dest, product.split('.')[0] + '*.hdf'))\n",
    "print(files)"
   ]
  },
  {
   "cell_type": "code",
   "execution_count": null,
   "metadata": {},
   "outputs": [],
   "source": [
    "from topng import hdf2png\n",
    "pngfile = hdf2png(files[0])\n",
    "Image(filename=pngfile)"
   ]
  },
  {
   "cell_type": "markdown",
   "metadata": {},
   "source": [
    "## Parse the data"
   ]
  },
  {
   "cell_type": "markdown",
   "metadata": {},
   "source": [
    "We import the needed modules and after we obtain a list with the full path to the downloaded MODIS files"
   ]
  },
  {
   "cell_type": "code",
   "execution_count": null,
   "metadata": {},
   "outputs": [],
   "source": [
    "from pymodis import parsemodis"
   ]
  },
  {
   "cell_type": "markdown",
   "metadata": {},
   "source": [
    "#### Parse single data"
   ]
  },
  {
   "cell_type": "markdown",
   "metadata": {},
   "source": [
    "At this point we can parse one file (in this case the first one), creating a parseModis object"
   ]
  },
  {
   "cell_type": "code",
   "execution_count": null,
   "metadata": {},
   "outputs": [],
   "source": [
    "modisParse = parsemodis.parseModis(files[0])"
   ]
  },
  {
   "cell_type": "markdown",
   "metadata": {},
   "source": [
    "Now you can obtain several parameters from the MODIS metadata, we query only some values to show you:"
   ]
  },
  {
   "cell_type": "code",
   "execution_count": null,
   "metadata": {},
   "outputs": [],
   "source": [
    "# bounding box of the tiles\n",
    "modisParse.retBoundary()"
   ]
  },
  {
   "cell_type": "code",
   "execution_count": null,
   "metadata": {},
   "outputs": [],
   "source": [
    "# quality statistics\n",
    "modisParse.retMeasure()"
   ]
  },
  {
   "cell_type": "code",
   "execution_count": null,
   "metadata": {},
   "outputs": [],
   "source": [
    "modisParse.retRangeTime()"
   ]
  },
  {
   "cell_type": "markdown",
   "metadata": {},
   "source": [
    "Check parseModis class documentation for more info"
   ]
  },
  {
   "cell_type": "code",
   "execution_count": null,
   "metadata": {},
   "outputs": [],
   "source": [
    "parsemodis.parseModis?"
   ]
  },
  {
   "cell_type": "markdown",
   "metadata": {},
   "source": [
    "#### Parse multiple data"
   ]
  },
  {
   "cell_type": "markdown",
   "metadata": {},
   "source": [
    "After the test with only a MODIS file, we are going to test the parsing for multiple files"
   ]
  },
  {
   "cell_type": "code",
   "execution_count": null,
   "metadata": {},
   "outputs": [],
   "source": [
    "modisMultiParse = parsemodis.parseModisMulti(files)"
   ]
  },
  {
   "cell_type": "markdown",
   "metadata": {},
   "source": [
    "Now you can obtain the value of boundary"
   ]
  },
  {
   "cell_type": "code",
   "execution_count": null,
   "metadata": {},
   "outputs": [],
   "source": [
    "modisMultiParse.valBound()\n",
    "modisMultiParse.boundary"
   ]
  },
  {
   "cell_type": "markdown",
   "metadata": {},
   "source": [
    "or write a xml for a MODIS mosaic file"
   ]
  },
  {
   "cell_type": "code",
   "execution_count": null,
   "metadata": {},
   "outputs": [],
   "source": [
    "modisMultiParse.writexml(os.path.join(dest, 'modismultiparse.xml'))"
   ]
  },
  {
   "cell_type": "markdown",
   "metadata": {},
   "source": [
    "at the end you can read the created file and print the lines"
   ]
  },
  {
   "cell_type": "code",
   "execution_count": null,
   "metadata": {},
   "outputs": [],
   "source": [
    "f = open(os.path.join(dest, 'modismultiparse.xml'))\n",
    "lines = f.readlines()\n",
    "p = [l.strip() for l in lines]\n",
    "f.close()\n",
    "print \"\\n\".join(p)"
   ]
  },
  {
   "cell_type": "markdown",
   "metadata": {},
   "source": [
    "## Create a mosaic file"
   ]
  },
  {
   "cell_type": "markdown",
   "metadata": {},
   "source": [
    "We are going to use the GDAL library to create the mosaic. As subset we are going to use daily and nightly temperature and it's quality layer"
   ]
  },
  {
   "cell_type": "code",
   "execution_count": null,
   "metadata": {},
   "outputs": [],
   "source": [
    "from pymodis.convertmodis_gdal import createMosaicGDAL\n",
    "# [daily temp, quality for daily, not used, not used, nightly temp, quality for nightly]\n",
    "subset = [1,1,0,0,1,1]\n",
    "output_pref = os.path.join(dest, 'MOD11A1.A2014226.mosaic')\n",
    "output_tif = os.path.join(dest, 'MOD11A1.A2014226.mosaic.tif')"
   ]
  },
  {
   "cell_type": "markdown",
   "metadata": {},
   "source": [
    "First we'll initialize the mosaic object"
   ]
  },
  {
   "cell_type": "code",
   "execution_count": null,
   "metadata": {},
   "outputs": [],
   "source": [
    "# the first parameter is a list with the original tiles,\n",
    "# the second one is a list with the the subset to process,\n",
    "# the last is the output format, in this case GeoTiff\n",
    "mosaic = createMosaicGDAL(files, subset, 'GTiff')"
   ]
  },
  {
   "cell_type": "markdown",
   "metadata": {},
   "source": [
    "At this point we create the xml file with the information of input data, and a multilayr GeoTiff file containing the mosaic of the choosen band"
   ]
  },
  {
   "cell_type": "code",
   "execution_count": null,
   "metadata": {},
   "outputs": [],
   "source": [
    "mosaic.run(output_tif)"
   ]
  },
  {
   "cell_type": "markdown",
   "metadata": {},
   "source": [
    "Finally we can also create a GDAL VRT file, a XML file containing the information about input data. This is really powerfull if you want convert it in different format or projection system"
   ]
  },
  {
   "cell_type": "code",
   "execution_count": null,
   "metadata": {},
   "outputs": [],
   "source": [
    "mosaic.write_vrt(output_pref)"
   ]
  },
  {
   "cell_type": "markdown",
   "metadata": {},
   "source": [
    "## Convert data"
   ]
  },
  {
   "cell_type": "markdown",
   "metadata": {},
   "source": [
    "#### Single HDF file"
   ]
  },
  {
   "cell_type": "markdown",
   "metadata": {},
   "source": [
    "In this first example we are going to convert an original MODIS HDF file using GDAL library"
   ]
  },
  {
   "cell_type": "code",
   "execution_count": null,
   "metadata": {},
   "outputs": [],
   "source": [
    "from pymodis.convertmodis_gdal import convertModisGDAL\n",
    "output_pref = os.path.join(dest, 'MOD11A1.A2014226.h18v04')"
   ]
  },
  {
   "cell_type": "markdown",
   "metadata": {},
   "source": [
    "We are going to convert a single tile, with the 'subset' already used for mosaicking, the output resolution will be 1000 meters and the projection system will be EU-LAEA"
   ]
  },
  {
   "cell_type": "code",
   "execution_count": null,
   "metadata": {},
   "outputs": [],
   "source": [
    "convertsingle = convertModisGDAL(hdfname=files[0], prefix=output_pref, subset=subset, res=1000, epsg=3035)\n",
    "convertsingle.run()"
   ]
  },
  {
   "cell_type": "markdown",
   "metadata": {},
   "source": [
    "#### VRT mosaic file"
   ]
  },
  {
   "cell_type": "markdown",
   "metadata": {},
   "source": [
    "We created separated VRT file, one for each choosen subset. So first we collect the name of VRT files"
   ]
  },
  {
   "cell_type": "code",
   "execution_count": null,
   "metadata": {},
   "outputs": [],
   "source": [
    "vrtfiles = glob.glob(os.path.join(dest, 'MOD11A1.A2014*.vrt'))\n",
    "print vrtfiles"
   ]
  },
  {
   "cell_type": "markdown",
   "metadata": {},
   "source": [
    "Now we can convert all the VRT files in a *``for``* loop "
   ]
  },
  {
   "cell_type": "code",
   "execution_count": null,
   "metadata": {},
   "outputs": [],
   "source": [
    "for f in vrtfiles:\n",
    "    base = os.path.basename(f).replace('.vrt', '_vrt')\n",
    "    output = os.path.join(dest, base)\n",
    "    convertsingle = convertModisGDAL(hdfname=f, prefix=output, subset= [1,1,1,1], res=1000, epsg=3035, vrt=True)\n",
    "    convertsingle.run_vrt_separated()"
   ]
  },
  {
   "cell_type": "markdown",
   "metadata": {},
   "source": [
    "It will create 4 GeoTIFF files ready to be processed."
   ]
  },
  {
   "cell_type": "code",
   "execution_count": null,
   "metadata": {},
   "outputs": [],
   "source": [
    "vrttiffiles = glob.glob(os.path.join(dest, 'MOD11A1.A2014*_vrt.tif'))\n",
    "print vrttiffiles"
   ]
  },
  {
   "cell_type": "code",
   "execution_count": null,
   "metadata": {},
   "outputs": [],
   "source": [
    "from topng import tif2png\n",
    "pngfile = tif2png(vrttiffiles[1])\n",
    "Image(filename=pngfile)"
   ]
  },
  {
   "cell_type": "markdown",
   "metadata": {},
   "source": [
    "### The tutorial is finished, you can find more info at <a href=\"http://www.pymodis.org/\" targe=\"_blank\">pyModis website</a>"
   ]
  }
 ],
 "metadata": {
  "kernelspec": {
   "display_name": "Python 3",
   "language": "python",
   "name": "python3"
  },
  "language_info": {
   "codemirror_mode": {
    "name": "ipython",
    "version": 3
   },
   "file_extension": ".py",
   "mimetype": "text/x-python",
   "name": "python",
   "nbconvert_exporter": "python",
   "pygments_lexer": "ipython3",
   "version": "3.7.3"
  },
  "varInspector": {
   "cols": {
    "lenName": 16,
    "lenType": 16,
    "lenVar": 40
   },
   "kernels_config": {
    "python": {
     "delete_cmd_postfix": "",
     "delete_cmd_prefix": "del ",
     "library": "var_list.py",
     "varRefreshCmd": "print(var_dic_list())"
    },
    "r": {
     "delete_cmd_postfix": ") ",
     "delete_cmd_prefix": "rm(",
     "library": "var_list.r",
     "varRefreshCmd": "cat(var_dic_list()) "
    }
   },
   "types_to_exclude": [
    "module",
    "function",
    "builtin_function_or_method",
    "instance",
    "_Feature"
   ],
   "window_display": false
  }
 },
 "nbformat": 4,
 "nbformat_minor": 1
}
