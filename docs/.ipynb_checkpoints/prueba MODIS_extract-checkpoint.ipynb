{
 "cells": [
  {
   "cell_type": "code",
   "execution_count": 1,
   "metadata": {},
   "outputs": [],
   "source": [
    "import os\n",
    "rutaBase = os.getcwd().replace('\\\\', '/') + '/'"
   ]
  },
  {
   "cell_type": "code",
   "execution_count": 2,
   "metadata": {},
   "outputs": [],
   "source": [
    "os.chdir(rutaBase + '../src/')\n",
    "from funciones_MODIS import *"
   ]
  },
  {
   "cell_type": "code",
   "execution_count": 3,
   "metadata": {},
   "outputs": [],
   "source": [
    "# rutas de entrada y salida\n",
    "rutaMODIS = 'F:/OneDrive - Universidad de Cantabria/Cartografia/MODIS/'\n",
    "# rutaExport = 'F:/Proyectos/GESDIVAH/SDM/Data/PdE/MODIS/'\n",
    "rutaExport = rutaBase + '../output/ET/'"
   ]
  },
  {
   "cell_type": "code",
   "execution_count": 4,
   "metadata": {},
   "outputs": [],
   "source": [
    "# parámetros de la extracción de datos de MODIS\n",
    "product = 'MOD13A1'\n",
    "var = '500m 16 days NDVI'\n",
    "# atributes = [2400, 2400, -1111950.519667, 5559752.598333, 0., 4447802.078667]\n",
    "tiles = ['h17v04', 'h17v05']\n",
    "dateslim=['2005-01-01', '2005-06-01']\n",
    "clip = rutaBase + '../data/dem.asc'\n",
    "coordsOut = 'epsg:25830'\n",
    "filename = 'MODIS_' + var + '.nc'"
   ]
  },
  {
   "cell_type": "code",
   "execution_count": 5,
   "metadata": {},
   "outputs": [
    {
     "name": "stdout",
     "output_type": "stream",
     "text": [
      "Generar atributos globales\n",
      "dimensión:\t\t(2400, 4800)\n",
      "esquina inf. izqda.:\t(-1111950.52, 3335851.56)\n",
      "esquina sup. dcha.:\t(      0.00, 5559752.60)\n",
      "\n",
      "Crear máscaras\n",
      "dimensión:\t\t(  47,   49)\n",
      "\n",
      "Importar datos\n",
      "Hoja  1 de  2: h17v04\n",
      "Archivo  10 de  10: MOD13A1.A2005145.h17v04.006.2015157052155.hdf\n",
      "Hoja  2 de  2: h17v05\n",
      "Archivo  10 de  10: MOD13A1.A2005145.h17v05.006.2015157052357.hdf\n"
     ]
    }
   ],
   "source": [
    "MODIS_extract(rutaMODIS, product, var, tiles, dateslim=dateslim, clip=clip,\n",
    "              coordsClip=coordsOut)"
   ]
  },
  {
   "cell_type": "markdown",
   "metadata": {},
   "source": [
    "## Reordenar función"
   ]
  },
  {
   "cell_type": "code",
   "execution_count": null,
   "metadata": {},
   "outputs": [],
   "source": [
    "def MODIS_extract(path, product, var, tiles, factor=None, dateslim=None,\n",
    "                  clip=None, coordsClip='epsg:25830', verbose=True):\n",
    "    \"\"\"Extrae los datos de MODIS para un producto, variable y fechas dadas, transforma las coordenadas y recorta a la zona de estudio.\n",
    "    \n",
    "    Entradas:\n",
    "    ---------\n",
    "    path:       string. Ruta donde se encuentran los datos de MODIS (ha de haber una subcarpeta para cada producto)\n",
    "    product:    string. Nombre del producto MODIS, p.ej. MOD16A2\n",
    "    var:        string. Variable de interés dentro de los archivos 'hdf'\n",
    "    factor:     float. Factor con el que multiplicar los datos para obtener su valore real (comprobar en la página de MODIS para el producto y variable de interés)\n",
    "    tiles:      list. Hojas del producto MODIS a tratar\n",
    "    dateslim:   list. Fechas de inicio y fin del periodo de estudio en formato YYYY-MM-DD. Si es 'None', se extraen los datos para todas las fechas disponibles\n",
    "    clip:       string. Ruta y nombre del archivo ASCII que se utilizará como máscara para recortar los datos. Si es 'None', se extraen todos los datos\n",
    "    coordsClip: string. Código EPSG o Proj del sistema de coordenadas al que se quieren transformar los datos. Si en 'None', se mantiene el sistema de coordenadas sinusoidal de MODIS\n",
    "    verbose:    boolean. Si se quiere mostrar en pantalla el desarrollo de la función\n",
    "    \n",
    "    Salidas:\n",
    "    --------\n",
    "    Como métodos:\n",
    "        data:    array (Y, X) o (dates, Y, X). Mapas de la variable de interés. 3D si hay más de un archivo (más de una fecha)\n",
    "        Xcoords: array (2D). Coordenadas X de cada celda de los mapas de 'data'\n",
    "        Ycoords: array (2D). Coordenadas Y de cada celda de los mapas de 'data'\n",
    "        dates:   list. Fechas a las que corresponde cada uno de los maapas de 'data'\n",
    "    \"\"\"    \n",
    "    "
   ]
  },
  {
   "cell_type": "code",
   "execution_count": 89,
   "metadata": {},
   "outputs": [],
   "source": [
    "path = rutaMODIS\n",
    "verbose = True\n",
    "coordsClip = 'epsg:25830'\n",
    "factor = 1e-8"
   ]
  },
  {
   "cell_type": "code",
   "execution_count": 28,
   "metadata": {},
   "outputs": [],
   "source": [
    "    os.chdir(path + product + '/')\n",
    "    \n",
    "    # SELECCIÓN DE ARCHIVOS\n",
    "    # ---------------------\n",
    "    if dateslim is not None:\n",
    "        # convertir fechas límite en datetime.date\n",
    "        start = datetime.strptime(dateslim[0], '%Y-%m-%d').date()\n",
    "        end = datetime.strptime(dateslim[1], '%Y-%m-%d').date()\n",
    "    \n",
    "    dates, files = {tile: [] for tile in tiles}, {tile: [] for tile in tiles}\n",
    "    for tile in tiles:\n",
    "        # seleccionar archivos del producto para las hojas y fechas indicadas\n",
    "        for file in [f for f in os.listdir() if (product in f) & (tile in f)]:\n",
    "            year = file.split('.')[1][1:5]\n",
    "            doy = file.split('.')[1][5:]\n",
    "            date = datetime.strptime(' '.join([year, doy]), '%Y %j').date()\n",
    "            if dateslim is not None:\n",
    "                if (date>= start) & (date <= end):\n",
    "                    dates[tile].append(date)\n",
    "                    files[tile].append(file)\n",
    "            else:\n",
    "                dates[tile].append(date)\n",
    "                files[tile].append(file)\n",
    "    # comprobar que el número de archivos es igual en todas las hojas\n",
    "    if len(set([len(dates[tile]) for tile in tiles])) > 1:\n",
    "        print('¡ERROR! Diferente número de fechas en las diferentes hojas')\n",
    "        MODIS_extract.files = files\n",
    "        MODIS_extract.dates = dates\n",
    "#         return \n",
    "    else:\n",
    "        dates = np.sort(np.unique(np.array([date for tile in tiles for date in dates[tile]])))"
   ]
  },
  {
   "cell_type": "code",
   "execution_count": 29,
   "metadata": {},
   "outputs": [
    {
     "data": {
      "text/plain": [
       "array([datetime.date(2005, 1, 1), datetime.date(2005, 1, 17),\n",
       "       datetime.date(2005, 2, 2), datetime.date(2005, 2, 18),\n",
       "       datetime.date(2005, 3, 6), datetime.date(2005, 3, 22),\n",
       "       datetime.date(2005, 4, 7), datetime.date(2005, 4, 23),\n",
       "       datetime.date(2005, 5, 9), datetime.date(2005, 5, 25)],\n",
       "      dtype=object)"
      ]
     },
     "execution_count": 29,
     "metadata": {},
     "output_type": "execute_result"
    }
   ],
   "source": [
    "dates"
   ]
  },
  {
   "cell_type": "code",
   "execution_count": 30,
   "metadata": {},
   "outputs": [
    {
     "name": "stdout",
     "output_type": "stream",
     "text": [
      "Generar atributos globales\n",
      "dimensión:\t\t(2400, 4800)\n",
      "esquina inf. izqda.:\t(-1111950.52, 3335851.56)\n",
      "esquina sup. dcha.:\t(      0.00, 5559752.60)\n",
      "\n"
     ]
    }
   ],
   "source": [
    "    # ATRIBUTOS MODIS\n",
    "    # ---------------\n",
    "    if verbose == True: print('Generar atributos globales')\n",
    "    # extraer atributos para cada hoja\n",
    "    attributes = pd.DataFrame(index=tiles, columns=['ncols', 'nrows', 'Xo', 'Yf', 'Xf', 'Yo'])\n",
    "    for tile in tiles:\n",
    "        attributes.loc[tile,:] = hdfAttrs(files[tile][0])\n",
    "\n",
    "    # extensión total\n",
    "    Xo = np.min(attributes.Xo)\n",
    "    Yf = np.max(attributes.Yf)\n",
    "    Xf = np.max(attributes.Xf)\n",
    "    Yo = np.min(attributes.Yo)\n",
    "    # nº total de columnas y filas\n",
    "    colsize = np.mean((attributes.Xf - attributes.Xo) / attributes.ncols)\n",
    "    ncols = int(round((Xf - Xo) / colsize, 0))\n",
    "    rowsize = np.mean((attributes.Yf - attributes.Yo) / attributes.nrows)\n",
    "    nrows = int(round((Yf - Yo) / rowsize, 0))\n",
    "    if verbose == True:\n",
    "        print('dimensión:\\t\\t({0:}, {1:})'.format(ncols, nrows))\n",
    "        print('esquina inf. izqda.:\\t({0:>10.2f}, {1:>10.2f})'.format(Xo, Yo))\n",
    "        print('esquina sup. dcha.:\\t({0:>10.2f}, {1:>10.2f})'.format(Xf, Yf), end='\\n\\n')\n",
    "\n",
    "    # coordenadas x de las celdas\n",
    "    Xmodis = np.linspace(Xo, Xf, ncols)\n",
    "    # coordenadas y de las celdas\n",
    "    Ymodis = np.linspace(Yf, Yo, nrows)\n",
    "    # matrices 2D con las coordenadas X e Y de cada celda\n",
    "    XXmodis, YYmodis = np.meshgrid(Xmodis, Ymodis)\n",
    "\n",
    "    if coordsClip is not None:\n",
    "        # definir sistemas de referencia de coordenadas\n",
    "        ProjOut = Proj(init=coordsClip)\n",
    "        # https://spatialreference.org/ref/sr-org/modis-sinusoidal/\n",
    "        SINUSOIDAL = Proj(projparams='PROJCS[\"Sinusoidal\",GEOGCS[\"GCS_Undefined\",DATUM[\"D_Undefined\",SPHEROID[\"User_Defined_Spheroid\",6371007.181,0.0]],PRIMEM[\"Greenwich\",0.0],UNIT[\"Degree\",0.017453292519943295]],PROJECTION[\"Sinusoidal\"],PARAMETER[\"False_Easting\",0.0],PARAMETER[\"False_Northing\",0.0],PARAMETER[\"Central_Meridian\",0.0],UNIT[\"Meter\",1.0]]')\n",
    "\n",
    "        # transformar coordenadas\n",
    "        Xmodis, Ymodis = transform(SINUSOIDAL, ProjOut, XXmodis.flatten(), YYmodis.flatten())\n",
    "        XXmodis, YYmodis = Xmodis.reshape((nrows, ncols)), Ymodis.reshape((nrows, ncols))"
   ]
  },
  {
   "cell_type": "code",
   "execution_count": 31,
   "metadata": {},
   "outputs": [
    {
     "name": "stdout",
     "output_type": "stream",
     "text": [
      "Crear máscaras\n",
      "dimensión:\t\t(  47,   49)\n",
      "\n"
     ]
    }
   ],
   "source": [
    "    # CREAR MÁSCARAS\n",
    "    # --------------\n",
    "    if clip is not None:\n",
    "        if verbose == True: print('Crear máscaras')\n",
    "        # cargar ascii\n",
    "        clipdf = ascii2df(clip)\n",
    "        # extensión del ascii\n",
    "        Xbo, Xbf = clipdf.columns.min(), clipdf.columns.max()\n",
    "        Ybo, Ybf = clipdf.index.min(), clipdf.index.max()\n",
    "\n",
    "        # mapa auxiliar del tamaño de los hdf\n",
    "        aux = np.ones((nrows, ncols))\n",
    "        # convertir en NaN celdas fuera del rectángulo de extensión de la cuenca\n",
    "        maskExtent = (XXmodis >= Xbo) & (XXmodis <= Xbf) & (YYmodis >= Ybo) & (YYmodis <= Ybf)\n",
    "        aux[~maskExtent] = np.nan\n",
    "        # filas (maskR) y columnas (masC) en la extensión de la cuenca\n",
    "        maskRows = ~np.all(np.isnan(aux), axis=1)\n",
    "        maskCols = ~np.all(np.isnan(aux), axis=0)\n",
    "\n",
    "        # recortar aux\n",
    "        aux = aux[maskRows, :][:, maskCols]\n",
    "        # extraer coordenadas en el rectángulo de extensión de la cuenca\n",
    "        XXb, YYb = XXmodis[maskRows, :][:, maskCols], YYmodis[maskRows, :][:, maskCols]\n",
    "\n",
    "        # convertir en NaN celdas fuera de la cuenca\n",
    "        for c, (y, x) in enumerate(zip(YYb.flatten(), XXb.flatten())):\n",
    "            ibasin, jbasin = np.argmin(abs(y - clipdf.index)), np.argmin(abs(x - clipdf.columns))\n",
    "            if np.isnan(clipdf.iloc[ibasin, jbasin]):\n",
    "                imodis, jmodis = int(c / XXb.shape[1]), c % XXb.shape[1]\n",
    "                aux[imodis, jmodis] = np.nan\n",
    "                maskClip = np.isnan(aux)\n",
    "        if verbose == True:\n",
    "            print('dimensión:\\t\\t({0:>4}, {1:>4})'.format(aux.shape[0], aux.shape[1]), end='\\n\\n')"
   ]
  },
  {
   "cell_type": "code",
   "execution_count": 92,
   "metadata": {},
   "outputs": [
    {
     "name": "stdout",
     "output_type": "stream",
     "text": [
      "Importar datos\n",
      "Fecha 10 de 10: 2005-05-25\t||\tTile  2 de  2: h17v05\r"
     ]
    }
   ],
   "source": [
    "    # IMPORTAR DATOS\n",
    "    # --------------\n",
    "    if verbose ==True: print('Importar datos')\n",
    "        \n",
    "    for d, date in enumerate(dates):\n",
    "        dateStr = str(date.year) + str(date.timetuple().tm_yday).zfill(3)\n",
    "\n",
    "        for t, tile in enumerate(tiles):\n",
    "            print('Fecha {0:>2} de {1:>2}: {2}\\t||\\tTile {3:>2} de {4:>2}: {5}'.format(d + 1, len(dates), date,\n",
    "                                                                                       t + 1, len(tiles), tile), end='\\r')\n",
    "            \n",
    "            # localización de la hoja dentro del total de hojas\n",
    "            nc, nr, xo, yf, xf, yo = attributes.loc[tile, :]\n",
    "            i = int(round((Yf - yf) / (rowsize * attributes.nrows[t]), 0))\n",
    "            j = int(round((Xf - xf) / (colsize * attributes.ncols[t]), 0))\n",
    "\n",
    "            # archivo de la fecha y hoja dada\n",
    "            file = [f for f in files[tile] if dateStr in f][0]\n",
    "            # cargar archivo 'hdf'\n",
    "            hdf = Dataset(file, format='hdf4')\n",
    "            # extraer datos de la variable\n",
    "            tmp = hdf[var][:]\n",
    "            tmp[tmp.mask] = np.nan\n",
    "            hdf.close()\n",
    "            # guardar datos en un array global de la fecha\n",
    "            if t == 0:\n",
    "                dataD = tmp.copy()\n",
    "            else:\n",
    "                if (i == 1) & (j == 0):\n",
    "                    dataD = np.concatenate((dataD, tmp), axis=0)\n",
    "                elif (i == 0) & (j == 1):\n",
    "                    dataD = np.concatenate((dataD, tmp), axis=1)\n",
    "            del tmp\n",
    "        \n",
    "        # recortar array de la fecha con la máscara\n",
    "        if clip is not None:\n",
    "            dataD = dataD[maskRows, :][:, maskCols]\n",
    "            dataD[maskClip] = np.nan\n",
    "            \n",
    "        # guardar datos en un array total\n",
    "        if d == 0:\n",
    "            data = dataD.copy()\n",
    "        else:\n",
    "            data = np.dstack((data, dataD))\n",
    "        del dataD\n",
    "    \n",
    "    # multiplicar por el factor de escala (si existe)\n",
    "    if factor is not None:\n",
    "        data *= factor\n",
    "        \n",
    "    # reordenar el array (tiempo, Y, X)\n",
    "    if len(data.shape) == 3:\n",
    "        tmp = np.ones((data.shape[2], data.shape[0], data.shape[1])) * np.nan\n",
    "        for t in range(data.shape[2]):\n",
    "            tmp[t,:,:] = data[:,:,t]\n",
    "        data = tmp.copy()\n",
    "        del tmp"
   ]
  },
  {
   "cell_type": "code",
   "execution_count": 93,
   "metadata": {},
   "outputs": [
    {
     "data": {
      "text/plain": [
       "(10, 47, 49)"
      ]
     },
     "execution_count": 93,
     "metadata": {},
     "output_type": "execute_result"
    }
   ],
   "source": [
    "data.shape"
   ]
  },
  {
   "cell_type": "code",
   "execution_count": 87,
   "metadata": {},
   "outputs": [
    {
     "data": {
      "text/plain": [
       "<matplotlib.image.AxesImage at 0x1cf1189aa58>"
      ]
     },
     "execution_count": 87,
     "metadata": {},
     "output_type": "execute_result"
    },
    {
     "data": {
      "image/png": "[encoded data removed]",
      "text/plain": [
       "<Figure size 432x288 with 1 Axes>"
      ]
     },
     "metadata": {
      "needs_background": "dark"
     },
     "output_type": "display_data"
    }
   ],
   "source": [
    "plt.imshow(data, cmap='viridis')"
   ]
  },
  {
   "cell_type": "code",
   "execution_count": null,
   "metadata": {},
   "outputs": [],
   "source": [
    "    # IMPORTAR DATOS\n",
    "    # --------------\n",
    "    if verbose ==True: print('Importar datos')\n",
    "    for t, tile in enumerate(tiles):\n",
    "        if verbose == True:\n",
    "            print('Hoja {0:>2} de {1:>2}: {2}'.format(t + 1, len(tiles), tile))\n",
    "        nc, nr, xo, yf, xf, yo = attributes.loc[tile, :]\n",
    "        i = int(round((Yf - yf) / (rowsize * attributes.nrows[t]), 0))\n",
    "        j = int(round((Xf - xf) / (colsize * attributes.ncols[t]), 0))\n",
    "\n",
    "        for fd, (file, date) in enumerate(zip(files[tile], dates[tile])):\n",
    "            if verbose == True:\n",
    "                print('Archivo {0:>3} de {1:>3}: {2}'.format(fd + 1, len(files[tile]), file), end='\\r')\n",
    "            # cargar archivo 'hdf'\n",
    "            d = Dataset(file, format='hdf4')\n",
    "            # extraer datos de la variable\n",
    "            tmp = d[var][:]\n",
    "            tmp[tmp.mask] = np.nan\n",
    "\n",
    "            # guardar datos en un array de la hoja\n",
    "            if fd == 0:\n",
    "                dataTile = tmp.data\n",
    "            else:\n",
    "                dataTile = np.dstack((dataTile, tmp.data))\n",
    "            del tmp\n",
    "            d.close()\n",
    "        if verbose == True: print()\n",
    "\n",
    "        # guardar datos globales en un array\n",
    "        if t == 0:\n",
    "            data = dataTile.copy()\n",
    "        else:\n",
    "            if (i == 1) & (j == 0):\n",
    "                data = np.concatenate((data, dataTile), axis=0)\n",
    "            elif (i == 0) & (j == 1):\n",
    "                data = np.concatenate((data, dataTile), axis=1)\n",
    "        del dataTile\n",
    "\n",
    "    # multiplicar por el factor de escala (si existe)\n",
    "    if factor is not None:\n",
    "        data *= factor\n",
    "    \n",
    "    # recortar array global con la máscara\n",
    "    if clip is not None:\n",
    "        data = data[maskRows, :][:, maskCols]\n",
    "        data[maskClip] = np.nan\n",
    "        \n",
    "    # reordenar el array (tiempo, Y, X)\n",
    "    if len(data.shape) == 3:\n",
    "        tmp = np.ones((data.shape[2], data.shape[0], data.shape[1])) * np.nan\n",
    "        for t in range(data.shape[2]):\n",
    "            tmp[t,:,:] = data[:,:,t]\n",
    "        data = tmp.copy()\n",
    "        del tmp"
   ]
  },
  {
   "cell_type": "code",
   "execution_count": null,
   "metadata": {},
   "outputs": [],
   "source": [
    "    # GUARDAR RESULTADOS\n",
    "    # ------------------\n",
    "    MODIS_extract.data = data\n",
    "    MODIS_extract.dates = dates\n",
    "    if clip is not None:\n",
    "        MODIS_extract.Xcoords = XXb\n",
    "        MODIS_extract.Ycoords = YYb\n",
    "    else:\n",
    "        MODIS_extract.Xcoords = XXmodis\n",
    "        MODIS_extract.Ycoords = YYmodis"
   ]
  }
 ],
 "metadata": {
  "kernelspec": {
   "display_name": "Python 3",
   "language": "python",
   "name": "python3"
  },
  "language_info": {
   "codemirror_mode": {
    "name": "ipython",
    "version": 3
   },
   "file_extension": ".py",
   "mimetype": "text/x-python",
   "name": "python",
   "nbconvert_exporter": "python",
   "pygments_lexer": "ipython3",
   "version": "3.7.3"
  }
 },
 "nbformat": 4,
 "nbformat_minor": 4
}
