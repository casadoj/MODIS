{
 "cells": [
  {
   "cell_type": "markdown",
   "metadata": {},
   "source": [
    "# Cobertura del suelo MODIS\n",
    "_Autor:_    __Jesús Casado__ <br> _Revisión:_ __04/0/2020__ <br>\n",
    "\n",
    "__Introducción__<br>\n",
    "Datos de MODIS sobre clasificación de la cobertur adel suelo:\n",
    "1. Se cargan los datos originales (anual). Los datos se muestran en mapas y series.\n",
    "\n",
    "__Cosas que arreglar__ <br>\n",
    "\n",
    "\n",
    "__Fuentes__<br>\n",
    "[Clasificación de usos: MCD12Q1](https://lpdaac.usgs.gov/products/mcd12q1v006/)<br>\n",
    "[Fenología: MCD12Q2](https://lpdaac.usgs.gov/products/mcd12q2v006/)<br>\n",
    "[Explicación productos y unidades](https://lpdaac.usgs.gov/documents/101/MCD12_User_Guide_V6.pdf)<br>\n",
    "***\n",
    "\n",
    "__Índice__ <br>\n",
    "__[Datos](#Datos)__<br>\n",
    "[DEM de la cuenca](#DEM-de-la-cuenca-(ETRS89-UTM30N))<br>\n",
    "[Evapotranspiración MODIS](#Evapotranspiración-MODIS)<br>\n",
    "\n",
    "__[Análisis](#Análisis)__<br>\n",
    "[8 diario](#8-diario)<br>\n",
    "[Mensual](#Mensual)<br>\n",
    "[Anual](#Anual)<br>\n",
    "[EOF](#EOF)<br>"
   ]
  },
  {
   "cell_type": "code",
   "execution_count": 1,
   "metadata": {},
   "outputs": [],
   "source": [
    "import numpy as np\n",
    "import pandas as pd\n",
    "\n",
    "from netCDF4 import Dataset, num2date, date2num\n",
    "#import h5py\n",
    "from datetime import datetime\n",
    "from calendar import monthrange\n",
    "import time\n",
    "\n",
    "import os\n",
    "rutaBase = os.getcwd().replace('\\\\', '/') + '/'\n",
    "\n",
    "import geopandas as gpd\n",
    "import earthpy as et\n",
    "\n",
    "from eofs.standard import Eof\n",
    "\n",
    "import matplotlib.animation as animation\n",
    "from IPython.display import HTML"
   ]
  },
  {
   "cell_type": "code",
   "execution_count": 2,
   "metadata": {},
   "outputs": [],
   "source": [
    "from pyproj import Proj, transform, CRS\n",
    "os.environ['PROJ_LIB'] = r'C:\\Anaconda3\\pkgs\\proj4-4.9.3-vc14_5\\Library\\share'"
   ]
  },
  {
   "cell_type": "code",
   "execution_count": 3,
   "metadata": {},
   "outputs": [],
   "source": [
    "os.chdir(rutaBase + '../src/')\n",
    "from funciones_MODIS import *\n",
    "from funciones_EOF import *\n",
    "os.chdir(rutaBase)"
   ]
  },
  {
   "cell_type": "code",
   "execution_count": 4,
   "metadata": {},
   "outputs": [],
   "source": [
    "import matplotlib.pyplot as plt\n",
    "plt.style.use('seaborn-whitegrid')\n",
    "plt.style.use('dark_background')\n",
    "%matplotlib inline\n",
    "from mpl_toolkits.axes_grid1 import make_axes_locatable\n",
    "from matplotlib.gridspec import GridSpec\n",
    "\n",
    "import seaborn as sns\n",
    "sns.set()\n",
    "custom_style = {'axes.facecolor': 'k',\n",
    "                'axes.edgecolor': 'gray',\n",
    "                'axes.labelcolor': 'white',\n",
    "                'figure.facecolor': 'k',\n",
    "                'grid.color': 'gray',\n",
    "                'text.color': 'white',\n",
    "                'xtick.color': 'white',\n",
    "                'ytick.color': 'white',\n",
    "                \"xtick.major.size\": 0,\n",
    "                \"ytick.major.size\": 0}\n",
    "sns.set_style(style='darkgrid', rc=custom_style)"
   ]
  },
  {
   "cell_type": "markdown",
   "metadata": {},
   "source": [
    "***"
   ]
  },
  {
   "cell_type": "markdown",
   "metadata": {},
   "source": [
    "## Datos\n",
    "### MODIS\n",
    "#### Configuración"
   ]
  },
  {
   "cell_type": "code",
   "execution_count": 7,
   "metadata": {},
   "outputs": [],
   "source": [
    "# satélites, productos, variable, unidades, valor correspondiente a NaN y\n",
    "# factor multiplicativo\n",
    "satellites = ['MODIS']\n",
    "products = ['MCD12Q1']\n",
    "var = 'PFT'\n",
    "units = '-'\n",
    "fillValue = [255]\n",
    "factor = None"
   ]
  },
  {
   "cell_type": "code",
   "execution_count": 137,
   "metadata": {},
   "outputs": [],
   "source": [
    "# coberturas del suelo definidas en la clasificación PFT (plant functional types)\n",
    "MODISclass = {0: 'Water bodies',\n",
    "              1: 'Evergreen needleleaf trees',\n",
    "              2: 'Evergreen broadleaf trees',\n",
    "              3: 'Deciduous needleleaf trees',\n",
    "              4: 'Deciduous broadleaf trees',\n",
    "              5: 'Shrub',\n",
    "              6: 'Grass',\n",
    "              7: 'Cereal croplands',\n",
    "              8: 'Broadleaf croplands',\n",
    "              9: 'Urban and built-up lands',\n",
    "              10: 'Permanent snow and ice',\n",
    "              11: 'Barren',\n",
    "              255: 'Unclassified'}"
   ]
  },
  {
   "cell_type": "code",
   "execution_count": 7,
   "metadata": {},
   "outputs": [],
   "source": [
    "# ruta y nombre del archivo\n",
    "rutaExport = rutaBase + '../output/' + var + '/'\n",
    "if os.path.exists(rutaExport) == False:\n",
    "    os.makedirs(rutaExport)\n",
    "filename = 'MODIS_' + var + '_Deva.nc'"
   ]
  },
  {
   "cell_type": "code",
   "execution_count": 8,
   "metadata": {},
   "outputs": [],
   "source": [
    "if os.path.exists(rutaExport + filename) == False:\n",
    "    # EXTRAER DATOS\n",
    "    # -------------\n",
    "    Data = {sat: {} for sat in satellites}\n",
    "    for sat, product in zip(satellites, products):\n",
    "        print('{0}: {1}'.format(sat, product))\n",
    "        rutaAsc = 'F:/Cartografia/MODIS/' + product + '/'\n",
    "        MODISfromASC(rutaAsc, product, factor, fillValue)\n",
    "        Data[sat][var] = MODISfromASC.data\n",
    "        Data[sat]['dates'] = MODISfromASC.dates\n",
    "        Data[sat]['Y'] = MODISfromASC.Y\n",
    "        Data[sat]['X'] = MODISfromASC.X\n",
    "        print()\n",
    "        \n",
    "\n",
    "    # GUARDAR NETCDF\n",
    "    # --------------\n",
    "    MODISnc(rutaExport + filename, Data, var, units, sats=satellites)"
   ]
  },
  {
   "cell_type": "code",
   "execution_count": 9,
   "metadata": {},
   "outputs": [],
   "source": [
    "# IMPORTAR NETCDF\n",
    "# ---------------\n",
    "# Cargar netcdf con los datos MODIS\n",
    "ncRead = Dataset(rutaExport + filename, 'r', format='NETCDF4')\n",
    "\n",
    "# extraer datos en un diccionario\n",
    "Data = {sat: {} for sat in satellites}\n",
    "for sat, product in zip(satellites, products):\n",
    "    # evapotranspiración\n",
    "    Data[sat][var] = ncRead[sat][var][::]\n",
    "    # fechas\n",
    "    Data[sat]['dates'] = [datetime(1, 1, 1) + timedelta(time) for time in ncRead[sat]['time'][:]]\n",
    "    # coordenadas\n",
    "    Data[sat]['X'] = ncRead[sat]['X'][:]\n",
    "    Data[sat]['Y'] = ncRead[sat]['Y'][:]\n",
    "\n",
    "ncRead.close()"
   ]
  },
  {
   "cell_type": "markdown",
   "metadata": {},
   "source": [
    "### Mapa único\n",
    "Se extrae un único mapa como representativo de todo el periodo para su comparación con el mapa de IVERCAM."
   ]
  },
  {
   "cell_type": "code",
   "execution_count": 144,
   "metadata": {},
   "outputs": [
    {
     "data": {
      "image/png": "[encoded data removed]",
      "text/plain": [
       "<Figure size 432x288 with 1 Axes>"
      ]
     },
     "metadata": {},
     "output_type": "display_data"
    }
   ],
   "source": [
    "Data['MODIS_'] = {}\n",
    "\n",
    "# land cover MODIS\n",
    "Data['MODIS_'][var] = np.ones((Data['MODIS'][var].shape[1], Data['MODIS'][var].shape[2])) * np.nan\n",
    "for i in range(lcMODIS.shape[0]):\n",
    "    for j in range(lcMODIS.shape[1]):\n",
    "        # extraer valores anuales para la celda del mapa\n",
    "        aux = Data['MODIS'][var][:,i,j]\n",
    "        # continuar si la celda no pertenece a la cuenca\n",
    "        if np.all(np.isnan(aux)):\n",
    "            continue\n",
    "        # valores existentes y conteo\n",
    "        unq, cnt = np.unique(aux, return_counts=True)\n",
    "        # asignar el valor más frecuente\n",
    "        Data['MODIS_'][var][i,j] = unq[np.argmax(cnt)]\n",
    "del aux\n",
    "\n",
    "plt.imshow(Data['MODIS_'][var], cmap='summer')\n",
    "plt.axis('off');"
   ]
  },
  {
   "cell_type": "markdown",
   "metadata": {},
   "source": [
    "#### Acomodar a las clases de TETIS\n",
    "Para poder comparar la clasificación de usos de MODIS con la usada en TETIS, es necesario que ambos mapas tengan las mismas clases. Se opta por modificar las clases de MODIS para que repliquen las de TETIS, dado que esta última tiene menos clases."
   ]
  },
  {
   "cell_type": "code",
   "execution_count": 145,
   "metadata": {},
   "outputs": [],
   "source": [
    "# conversión de clases de MODIS a TETIS\n",
    "MODIS2TETIS = {0: 7, 1: 3, 2: 3, 3: 1, 4: 1, 5: 3, 6: 4,\n",
    "               7: 4, 8: 1, 9: 6, 10: 7, 11: 5, 255: np.nan}"
   ]
  },
  {
   "cell_type": "code",
   "execution_count": 151,
   "metadata": {},
   "outputs": [
    {
     "data": {
      "image/png": "[encoded data removed]",
      "text/plain": [
       "<Figure size 432x288 with 1 Axes>"
      ]
     },
     "metadata": {},
     "output_type": "display_data"
    }
   ],
   "source": [
    "# array auxiliar en el que modificar las clases\n",
    "aux = Data['MODIS_'][var].copy()\n",
    "for c in MODIS2TETIS:\n",
    "    aux[Data['MODIS_'][var] == c] = MODIS2TETIS[c]\n",
    "# asignar el array modificado\n",
    "Data['MODIS_'][var] = aux \n",
    "del aux\n",
    "\n",
    "plt.imshow(Data['MODIS_'][var], cmap='summer')\n",
    "plt.axis('off');"
   ]
  },
  {
   "cell_type": "markdown",
   "metadata": {},
   "source": [
    "### IVERCAM-TETIS\n",
    "Clasificación de los usos del suelo hecha a partir de imágenes LANDSAT."
   ]
  },
  {
   "cell_type": "code",
   "execution_count": 138,
   "metadata": {},
   "outputs": [],
   "source": [
    "# coberturas del suelo definidas para IVERCAM:\n",
    "TETISclass = {1: 'BLF', 2: 'CNF', 3: 'SSH', 4: 'PAST', 5: 'DEN', 6: 'UHD', 7: 'WAE'}"
   ]
  },
  {
   "cell_type": "code",
   "execution_count": 18,
   "metadata": {},
   "outputs": [],
   "source": [
    "rutaTETIS = 'F:/Proyectos/GESDIVAH/SDM/TETIS/PdE/Actual/'"
   ]
  },
  {
   "cell_type": "code",
   "execution_count": 94,
   "metadata": {},
   "outputs": [
    {
     "data": {
      "image/png": "[encoded data removed]",
      "text/plain": [
       "<Figure size 432x288 with 1 Axes>"
      ]
     },
     "metadata": {},
     "output_type": "display_data"
    }
   ],
   "source": [
    "Data['TETIS'] = {}\n",
    "# leer ascii\n",
    "read_ascii(rutaTETIS + 'cobveg.asc', datatype='int')\n",
    "# extraer y recortar datos\n",
    "cobveg = read_ascii.data.astype('float')\n",
    "cobveg[cobveg.mask] = np.nan\n",
    "cobveg = cobveg.data\n",
    "maskrows = ~np.all(np.isnan(cobveg), axis=1)\n",
    "maskcols = ~np.all(np.isnan(cobveg), axis=0)\n",
    "cobveg = cobveg[maskrows,:][:,maskcols]\n",
    "Data['TETIS'][var] = cobveg.copy()\n",
    "del cobveg\n",
    "\n",
    "# extraer atributos\n",
    "attrs = read_ascii.attributes\n",
    "# coordenadas\n",
    "x = np.arange(attrs[2], attrs[2] + attrs[0] * attrs[4], attrs[4])\n",
    "Data['TETIS']['X'] = x[maskcols]\n",
    "y = np.arange(attrs[3], attrs[3] + attrs[1] * attrs[4], attrs[4])\n",
    "Data['TETIS']['Y'] = y[maskrows]\n",
    "\n",
    "plt.imshow(Data['TETIS'][var], cmap='summer')\n",
    "plt.axis('off');"
   ]
  },
  {
   "cell_type": "markdown",
   "metadata": {},
   "source": [
    "#### Unificar resolución de los mapas"
   ]
  },
  {
   "cell_type": "code",
   "execution_count": 77,
   "metadata": {},
   "outputs": [],
   "source": [
    "# resolución de MODIS\n",
    "resMODIS = 463.3127165275"
   ]
  },
  {
   "cell_type": "code",
   "execution_count": 272,
   "metadata": {},
   "outputs": [],
   "source": [
    "Data['TETIS_'] = {}\n",
    "\n",
    "# 'array' de clases de cobertura\n",
    "n, m = Data['MODIS'][var].shape[1], Data['MODIS'][var].shape[2]\n",
    "Data['TETIS_'][var] = np.ones((n, m)) * np.nan\n",
    "# escoger la clase más frecuente ventana móvil de 5x5 celdas\n",
    "for i, y in enumerate(Data['MODIS']['Y']):\n",
    "    for j, x in enumerate(Data['MODIS']['X']):\n",
    "        maskY = np.where(abs(Data['TETIS']['Y'] - y) < resMODIS / 2)[0]\n",
    "        maskX = np.where(abs(Data['TETIS']['X'] - x) < resMODIS / 2)[0]\n",
    "#         print('i: {0}\\tj: {1}\\tdimensiones de la máscara: ({2},{3})'.format(i, j, len(maskY),\n",
    "#                                                                             len(maskX)), end='\\r')\n",
    "        aux = Data['TETIS'][var][maskY,:][:,maskX]\n",
    "        if np.all(np.isnan(aux)):\n",
    "            continue\n",
    "        else:\n",
    "            unq, cnt = np.unique(aux, return_counts=True)\n",
    "            Data['TETIS_'][var][i,j] = unq[np.argmax(cnt)] \n",
    "            \n",
    "# guardar resto de variables\n",
    "Data['TETIS_']['X'] = Data['MODIS']['X']\n",
    "Data['TETIS_']['Y'] = Data['MODIS']['Y']"
   ]
  },
  {
   "cell_type": "code",
   "execution_count": 273,
   "metadata": {},
   "outputs": [
    {
     "data": {
      "image/png": "[encoded data removed]",
      "text/plain": [
       "<Figure size 432x288 with 1 Axes>"
      ]
     },
     "metadata": {},
     "output_type": "display_data"
    }
   ],
   "source": [
    "plt.imshow(Data['TETIS_'][var], cmap='summer')\n",
    "plt.axis('off');"
   ]
  },
  {
   "cell_type": "markdown",
   "metadata": {},
   "source": [
    "***\n",
    "## Análisis\n",
    "### MODIS"
   ]
  },
  {
   "cell_type": "code",
   "execution_count": 274,
   "metadata": {},
   "outputs": [
    {
     "data": {
      "text/html": [
       "<video width=\"360\" height=\"360\" controls autoplay loop>\n",
       "  <source type=\"video/mp4\" src=\"data:video/mp4;base64,AAAAHGZ0eXBNNFYgAAACAGlzb21pc28yYXZjMQAAAAhmcmVlAABlSW1kYXQAAAKuBgX//6rcRem9\n",
       "5tlIt5Ys2CDZI+7veDI2NCAtIGNvcmUgMTU4IHIyOTg0IDM3NTlmY2IgLSBILjI2NC9NUEVHLTQg\n",
       "QVZDIGNvZGVjIC0gQ29weWxlZnQgMjAwMy0yMDE5IC0gaHR0cDovL3d3dy52aWRlb2xhbi5vcmcv\n",
       "eDI2NC5odG1sIC0gb3B0aW9uczogY2FiYWM9MSByZWY9MyBkZWJsb2NrPTE6MDowIGFuYWx5c2U9\n",
       "MHgzOjB4MTEzIG1lPWhleCBzdWJtZT03IHBzeT0xIHBzeV9yZD0xLjAwOjAuMDAgbWl4ZWRfcmVm\n",
       "PTEgbWVfcmFuZ2U9MTYgY2hyb21hX21lPTEgdHJlbGxpcz0xIDh4OGRjdD0xIGNxbT0wIGRlYWR6\n",
       "b25lPTIxLDExIGZhc3RfcHNraXA9MSBjaHJvbWFfcXBfb2Zmc2V0PS0yIHRocmVhZHM9MTEgbG9v\n",
       "a2FoZWFkX3RocmVhZHM9MSBzbGljZWRfdGhyZWFkcz0wIG5yPTAgZGVjaW1hdGU9MSBpbnRlcmxh\n",
       "Y2VkPTAgYmx1cmF5X2NvbXBhdD0wIGNvbnN0cmFpbmVkX2ludHJhPTAgYmZyYW1lcz0zIGJfcHly\n",
       "YW1pZD0yIGJfYWRhcHQ9MSBiX2JpYXM9MCBkaXJlY3Q9MSB3ZWlnaHRiPTEgb3Blbl9nb3A9MCB3\n",
       "ZWlnaHRwPTIga2V5aW50PTI1MCBrZXlpbnRfbWluPTEgc2NlbmVjdXQ9NDAgaW50cmFfcmVmcmVz\n",
       "aD0wIHJjX2xvb2thaGVhZD00MCByYz1jcmYgbWJ0cmVlPTEgY3JmPTIzLjAgcWNvbXA9MC42MCBx\n",
       "cG1pbj0wIHFwbWF4PTY5IHFwc3RlcD00IGlwX3JhdGlvPTEuNDAgYXE9MToxLjAwAIAAACRjZYiE\n",
       "ABf//vfUt8yy7gcitguo96KeJl9DdSUBm5bE7TqAAAArlSsvPYPazEuuwAIUAABmXX/+UcKuIBJ2\n",
       "Dk3mK2Skx6Ib/Bj0o0T9uXL7fiRqkRopT6UoiA3+pBM3AM7+NZlb8Bwy5WIMUYvXu7Xm9okTj10l\n",
       "1Q3cW0QbvEH8mmEc85JBnJLGHQfammLda/AJWQtgU9CJW8LE6CrSZIP7wQC5xcLdOgZcmN+OQ//H\n",
       "6eLoLk3wdOQnV59EB38VQTlKKS/E1C2l+qbEEv0zSh0bEJ9HJxUHLcbfXsPtbTZg1tx6vLyZ0lRs\n",
       "RrgxnkAe//HJnRewSVRGBoI+fq75DOv+hPV+PYQPvHkaWynJxIJpov24e492c+6N3yAa9quooplK\n",
       "myPspTmdcWKohstFwlEmiEtQZ3oANb0QSCl2SdptTxLUj2/xjw/Ehx4ei1GIRXwYP1I+EVq7B8ki\n",
       "6cUrqcpLMc4HLXLR3KWfFxdNtgbnD5ObieS7VI+xD2T6jXcvVPs1Xy7pcrg3t3EeGMnmJ6iOWX7y\n",
       "XHnxTB6JhLFXUKQT2mm57hA+9ffYiDwHlMxdwX7gv3ZdDwV93nR/R5/4GhkKRrqXp7vszwbc65Gs\n",
       "apR04X+kHaf+tWqYhRztrjuD5sty00rQUVrvtGj4lHys9jVdDnRS1YSHy8DcBrPmd8le9zypI02G\n",
       "gRhqQVLJs5NnBLzWH3wroCfTnLJVODTHJlrWBnrk5y2uhTLcviJbxj++e5+f8S8aB5znw453nIJy\n",
       "mXcvMnQAFNyrMfzuIYNCvD8liIij/OSlPzjiVK0IeooYYlT4vzpnrPiLjQumx085T6xaI3BUVlmL\n",
       "lsq4SvXfHcmGyWBDmBhK5BozG8TFbbMQSATmd7fkSx4J7CWpHy+3zdFQA0cm+Z5HGd8OtcjBEDCy\n",
       "WJf7Mn9J04vBKx/5///7s2Jzgs5xbDRmGyAGpW+u636M1xOk9PzyXBC+B27efrmVF8ulhuL82QY6\n",
       "N0ZNm1ygbq3///iRbFw+Nvv66CaOs9CCFZWt9v/2M9PTRVE8Vp6gEX6C+wWl5OMdTkNKOyoMli5z\n",
       "kw0R0ij5nBc+f3tEFUHVuF2qSx5BNrQ9njIYkRj/dB+/wrNQ/wKFguDjVi9YduAAT8RKVExfMyJ5\n",
       "VUVH/v4K3KWi/3t+p1/lCtr2kovuIt1ZPiNNrzYbenAm5/Lp2i14/8Kaj46nvsidZhPP1IWMVLfD\n",
       "bK1Aqk2g1wPS5GufwEKewMlt2kkTuvRxFBBJgbT9MXObSXVVQK24I8F6v9zNeaZuimBvc8q2in9s\n",
       "tnoqjxilkNvULeRB/s3N3sbDBfeKwAvAz726A/lH9MiDMPMRKnF4OuIdx3/Ih58SMEOaG4r590Nj\n",
       "7Z1w1yH8fNZkOoBOml0VLYEeOApOOATSgjl9UawN6Z7NZebUCTHoHP6n/zvd5oS8blflZ5BvE0D5\n",
       "yg3rvWHU4FMaxW/MMVi4yzFrEozXjn8FW+la7jMGzvz9MuHfHhTQ3m18kDnEDSEL9dQO1+23/1C7\n",
       "WnAHS2v9gcIg2Jd5i4sZOSBr2c5zPLRrh/HQGfwUSbEfSfDZaSZd4TC0gI9M2562JDlFg/Zoh+nZ\n",
       "nY/dvvMdw+y6oUR+gOzWrdWX3BQBmEYoUh+8fWA+eFpWV6BPJvI14Czcg88Mhl6qFR8x0+N1Ktd6\n",
       "p691qqJXIx9TXVwQs6jfJMeBLK3Y8k4+jHc/+15gnNbEB/Co2A9OuUYS3MDf2H6nno5jD7wPiiqG\n",
       "LWmaJI4M5Frnd96p/59azj9UDyGm1CHNyjj1SqmWvC9QsZZmJCeEceIIbZ0I5zm7MIyFMklpH+HW\n",
       "/9zwDz6+ZYY2L3v/jxSWcoO2WSizfe/uV892f9lzNzT8DlhZDbLHWNIMJDupoLVTxhItdZ+2Dd+a\n",
       "DB9PUx9rxj8QmbJvjZ5xUnPBilM0DWG1Yqsa/9EZU5sL+gFdZDNRdYLxB4L3uWTIrtC753zEYe+e\n",
       "8ERR2F4yIyDv8VuaT35a7G3yfB54n8jQ17UgidXWu7JO4o1jZSQqtlFjkT20YsiTJdp2ytiWZAp/\n",
       "AO1SXKR9/com0DvbG7N7HT63rqMRC0slGDFcZKt6/gPHh8rXCLnQOza+IQkSsNiDbDmPaFpxttsJ\n",
       "31KOTorJ3pmCYcJziBXVoGB1b5evcRBdRQB58CudwrUkNZBb1IA/wekuOWxz9uVdkWY9wGw9G/N8\n",
       "kIk8oPi+vy/aDi5FdH/Uq5aAP4qE9B8Vn8C6iE60KAD6hOhqO0xsDGzwKAf9IQnZ4u3zze0gewWm\n",
       "RbrS3byuOb7RBF9LhnvNQK9A1/SKT+FJ9TOy+Ej42fS3g92xSuoT04ZiUxFm6pp5yz58n+Pfxzwp\n",
       "kFVpOh0N4SM7eNNXBR/6Xp0Zb6saEbJiNj5hrbNHg/EMJ7FwKWFeJ5XO7m3EsGRHBFRv+GtvK0X0\n",
       "Prd+7+xFXmd9RabmpM+EzCANuU51Utms44HkuKQ6SJbTjWqjPGLx4ymDmwr5SYdOLcgMyDe3yJ7p\n",
       "w+fBteHD2ZtoFXtOsq0id4npAScQ6jUMnOKbLn5GqLDE2QjE3YM3B3hZoSBi1CFvY4Ea+U9VC6Kp\n",
       "/00toyyD+kci4v16bPW7pnuEoQ3TYE0fY2Axe5Supu/o2HbxFGGUkRO5cRjSBShUJGPYCtvfW0bq\n",
       "dNJzI1tM6jw/POtxM4BdSVXp2014rVfuLKdSuUEAQfR2M5wEetisnyc3IDcpkoGjhbUpnAt6/zjc\n",
       "KK1ffDq37ebEO9pyvJnWDvyzdEuW7nL8im0CLd4USzSxeYQS9IOCyVcvDABbRPFDD29AAJ7yMssz\n",
       "nMYqvj/ejZ76y6Hwt59+0X9JBfM5K9S0/wLaM+caoichhenQ7WuOA6qYWnK0OlLxPgnVGiTfQi3M\n",
       "Ql+ILntgaIMnnp9X7FtoP5F7JveCk6EWw6mxyNCrqnxsga1yvhDWp85LmA9gC/DPgei8Ak0FyFxh\n",
       "6Fbny7Y6JndZ//+X2tAFp5pBV79DgfZ8K7iGW+r6c+jLnv42RsSgVZ/wWVgeyVR4oiOG/Nf56lrS\n",
       "GT4OqjHMj2lEn0SdLCWbjqyfg4JJzJTPOa7Sw+90Kv/M8xHE+RI9VNbpMSPaK4q+l8u24R5KQHsr\n",
       "DL99D1+7BWJeV20olZnd3klb+pPkXC46Zv5etzgNTtLEzqjJg/rF+Pu3r86orqtomGP//1jpoWKL\n",
       "fZit+RFuUdzVNBT20rXu/XTjua/mjrt0bOFX/jjVY6Cynyt9zkWMfxmPOS+Mn40A3MCr4Ta34gdy\n",
       "FKMlv3G/94yRzwr6CG3yjJl7L9IljgMGL4fMQy0Ji2PAvqbwR8JHOCADhuOlr9E5B2dc89JSMkB+\n",
       "9ExpnmDlXht2GzcVhTc/E+2qfhashzGjFKdiY5lEf/VjDa9APnCDxznoxCfsvF2y/eA1BCsWk4Vi\n",
       "brpxRwsKbKlQML/ncVz5/xTSafYVoFIz3OVBauEZoRMqh2EY1Z0EzRRYhMyc1cXNHgDTMYSKUDUg\n",
       "VsG3xr8Xh6rE40/kv/Duf2MVdZOi+lFSgQjp7/4Tp+POEvP8zLCAecwOvmWTjx7VXpTK6upjbJee\n",
       "4faYPkSNOcPpz1nap5tOmlb4PBHoyylVZEEp5ye8Ul5ASC5pTxFobdJzyxkBd/vEFRs0JasDRrSd\n",
       "OP3Ls7jawXBZTlTUkXtZ6CLRDQPAmpMPrbkXAPWhClBPO2QW2S+Q1NJLNMbfCSmgxWrvH4ItaCsW\n",
       "Cq1T0p+iQmcXd+jKozoON041vclNqLRZR+K1hsYcfnq53QgbdhCybZbSKz5Hq6yog9cwQHu2vYwx\n",
       "C1V0HECvx05E9NWxcXNFyRo3j7PbdS1Z3lTaqS9IfB6aPV6a4xt31HL0mA2k3C+O9Q3zOR5i7AQh\n",
       "1pF/7kBxS59WMgxWjfReW3lrUI89yYX5/pxpzmJSHEKX7gX4yaxMzh5ZE4YYRyr0UVYEVpSinh8/\n",
       "+QarT6hwk3BlYgb30ocR8k6giQm+ORoz15q/ps5LT38XbMpl0H6AuhGrR6dBQh/Qh1GicGKNDfp0\n",
       "NUf/fzGHtBUjUIiGyXUB7lFVTIvdRcBIwFaD7imgwcMfGR2kv8sn4kvno0UGMrpqsAMRao5g43pa\n",
       "RDjqiXFdryMmlJdO4tYXxsHUQN1q9XoyXRzT8H4wEK65qNXLOC/OA6q6PXGTE9esypyoCtzhWTQ9\n",
       "zeorkIErb8o/1WbswFJ+su9lZOal+mpVm6BbG/+OtfLkuWAzG/RTTu4VjQK1EhcNAGaoNupJzIg3\n",
       "8+cOig4HBWKRIqjZcQyGEH6iyfZx6aMIOOlYsPnCh5lAcQp5+ThWVTltkwH077D6ysbThB/vFg+R\n",
       "/Z4HIbFIkH/VLMeGPsJbiQ52XtN8MsRGrYVAgGQHHFOuPMJlwn0kyGf1bS1PLr9cFwZ+fgjXVLKD\n",
       "f2FM7vkdDo8XP68zc6LUMt5Bqy6NpWqNp6TouP1SLMKmXPiGrlyvyly4tM+Xvzm9DBjrZrrIMlNu\n",
       "KcxbM1qVpUXNDZDfBroZO3u985x/WR735CEeCNWSFgbTO7o9VSZv2ZTy+JShrIE/jzOGpw5TnW+M\n",
       "7v9pS+YkWOWwtkUlz+Bl85X86hHoz7TDTkZXKkV7tf1KmebFr+EHKfUeSwUGDUE510mCnjzFxhVN\n",
       "3FhpNnDaaxyAvkedsPPZ4YIA44UUBzBAej/zO02Fb5wCZ/eCWcqPwjIw375jXUZe8SQNWEMwH88T\n",
       "KDFx2klxdf6dMmqyTXVnj7TOzUUTDxP9eSSI4gdL3wdpSfelWWWZXOm0twuEaGYNf8aIdvlQ817I\n",
       "WB4sevnTfEpdiYMoUlqYc+b0cnHua5Kzz8VOV5Ckh3YS3TKqwzDFeElmUHiuSjHAwRppLmyxOzB7\n",
       "rQfOB0SSCbQCbrrGnt5jasWEm3uwtqtt9nYydU26qOTHJw1ndlnIvxYRSMDemq9JlE+7gG5AGuC6\n",
       "JjNBkLHNJItTTsDQeR8qVWx7RP4fZB1ptX91wws7JhJkoEG9c/i+BaJn8Ue0nu2lt6/c+2fPeElf\n",
       "5nljU5sAPBKLqF6y9UhEqIl56v3AGSHbkpv7tkKtcqCuJbPA+nmvJrAqOw1+dSiv7QnTuq81iHnF\n",
       "C45diGRclEUC7Ihtq4H15jgcpZJTFN/kLKRsjb47QgRhxiPf7ujnVJoCl2QpABZgAESqY5OG8YNk\n",
       "bFVnkXHKaQAFOE8gtog/KBdaPE/MR/2B3BfRJXWc9ZmJXIu+7+7mhjdqGfTzZvXE/6sl9TII4xMq\n",
       "1TLeYB8KpsZmbmsCPzi+PgQYEckEU9dUVUeNSn/cLkCVagabKwpcTiXINLjn/VqNRmuf++1hjNHD\n",
       "Y3yqClObSmXkAGVy11XFTv8aYPy840/kZ38mRb9sESHzeDnO036EVaXFYX3zADueaqai3aCHMvVt\n",
       "5xu7ea5DF/lOXY9RspJN4dtg7Qxs9oZY6aTTavt6g8nHixQ672gihzc5Av3T1FotekvWqewYhHlU\n",
       "vRxow4zv2giLMjs+879l50txvwSVsxEoSWGcYwj/rTaLj4p+a5BnDd4RuzotRgn7YwstXdGHSPma\n",
       "7uzARSXXYfAVgtoQ6+nbxSPIW3jk5lj37syILlaj1X7LcZh6e5L3DlBGsQbcKi7HYEwXxEm2sp4E\n",
       "Fc1ZuBuWMLP2YK/6ZhNCnSnH7kqFAw7RzL+VYNvsZV3caCFA6GmqhYEGF01vZBehTHwfWbeTKqC4\n",
       "XjO1Yu6/Hp980s3XopyRcKNnMa3B0jf94Yl3oxs9+a5tHaHXIVcfhWrxTnrhRRNv3w9uHmVVZP3f\n",
       "VUXRAbSD+LV6VjFjeweF882U5OlBSBLWy7zaaKgVCSP+zjqMAi/rfaVE93lqNXPfx1I5q51PSwcE\n",
       "6k/78JwvR6WrIWyVfcEe68vpwV79N3Xswg9k1Uqa/+dS744a9IfUMFC0wKLkf7jAeqonCPNx1tUt\n",
       "wpx8S8XC4pllfzkx2jE5vvtaZiuLHtParQXPRGyLPDNpSzxSJrnhGtqg+cpwOjzTSuclAtaWyK7I\n",
       "lS89j1qyct4Gk0PEcbgACRKtlNMzeKHDvaHAu45WI2D3ulb1Hk/b59WbvxuFQw8VeQXbXX2AN4OS\n",
       "xzXZDpKJ1Hgrw50jUpXT1h7FxiE3wbicUkuPGIXHxHe82RrKMpxYQ1X2rcCGahbXim22Je0fk9gV\n",
       "+GCsYsgFU72s2OamkVtMa82teCgqUovi1/rjtLlfhgR7xZYZbkoxN7UVZWFeFjc7JkFW+I/uqNWf\n",
       "jYxwVUbvGfIFElfcIzkfOYg4bczdA6LZV/0vxKV72VHFDeXHOVr+RMlanzfGwMyVjzbrGxX7Jjy3\n",
       "k4x7rCGfwEhwFFT3Qx8WbGxAjN+wAF7Yj0fySCwJzm6G74u3EKJ2C/kidGxRIg0djKRuKqCkSEby\n",
       "+XXZVnQqgkusscG4i+EP7tUUHFZ0V7CKfv0OxoZkgbqeZuYsKOV2CkfTxYlUviLk0Qunz5oLNmkU\n",
       "pASJXqHgeyKfl07bwwqJOKDn7htt3AsmYRTXbTu+eoWl6LiA/jpTLuMNj5OKEbEm3fgrkBb3gpRK\n",
       "65YRFpRUZkf07NKa/l7IvFgsfv+ZE90HQLhYUkfvDhctAVgJr6M0Kv7km2M8lbf8vTmwD3YFmWuG\n",
       "OquvmB3sQ72MEtO11MSkcQ+dnL52LMOUsRasF02BhoanZsGN4NYUGrm5nAwWJM+CfpCC26qBSbTo\n",
       "Aq6zBcC+4KSgVm+3R39Egz7mCTFyW0bdpB/uod/95Y0NnNJzpAuMP7UD2V1GA0o/PRSJHwWYPVwm\n",
       "N7+suVZX+9GjOE4gX8/6rlLONnAx6FqnC64fKp1olnhnbwHX/y0dwdJicpvSkWRzXJxIPohGS9/H\n",
       "S82jLR++wVFShb8TbrM7pKVn79nxHMkJvTqPye/6C13en8iLgev+7W+LuGQfknkz/FcOkc9gq5XX\n",
       "IpgBvog0ZVsE31clvH5IRAk+vCHSQxuoTcgGK8/KLCNTc1Tq7YpotuwTHiSVRoIc3stKau0M1gVZ\n",
       "V4mw7GktT9MK1X1AaQtP8tt5K7jqWeP5FTQg4jcBiSdEYNBo9ZdX3GhZbLBHs793S4BMqIBQJWwf\n",
       "S5rCvEg5tUJ6wE0EQOP0/pF9Qd4JS6NVn0oEhn7rSafWlQKhTCAPjej+wUM+T5c4lT78iu19P0G6\n",
       "titaIwWKFrYZE+wHMUWG6zR8iTysds0DHKaCF1ckJdztKy94/q42aXi6H9EJQblDDkDPKEc4ss+x\n",
       "tL7XAStOObu4ZnasN+3i3vnOywdP8VFeOGmO8qZLO+mIjX/JnpPoPzQ393OfDWYqKgLDutv/25FQ\n",
       "k/UV7FfZpIhxcecRdI/1b+ceLUNVc+gE4a9j76TjQmkQOW1n51YrjkDtkwDmAKnXy7C4YDlkPalI\n",
       "zujXIOY7yEe9NejtayboKN+3V18g1JmSH382KMRpkxJp/lselqoqnhKXCF+6DaTzPBQdcfHQ2RFd\n",
       "YDA5CmoZS+2wvUNapfZisctroFQUpNbj6WDO9Q+E0D1VrVBIOPWmk8+MxkPkLdg00RFCEWr9xEGZ\n",
       "S8A11AvBfmEIHDweB2c/8+lxJ9EhkbPqWyDzZL0/nK/B0rZt3XiteTa1R5AVfZ5uz6sa+h4S2luW\n",
       "PQQE74ytRgMQ995NFmm9YFoTUL/PosA4zuzJrEvBaCmZBBWBOIS3UgxgxLHz2uWyMO8hqsJXvudt\n",
       "si0EdnTSyXmPy91xWEUjeADi4G6L7UagAJKw0LrPdGKuhNYOhQgk8VStjeUOG9oC8apxdGxevUlS\n",
       "zJNqTngf9OmrRMIYCRkIo9R+yxehUT4QJd6EIGGRl8G26oUDWMK7OwnVGhgXxBDh4nuEiM9r3MKy\n",
       "fa/MVH7O0RMqQjUwh7q0ymHOTq9C688Ewa3MyGnzQr0KanNItXN4RMv7/2pIW1WeiWh42lM5vRjr\n",
       "vrJHy1xjJeXFDKRFLquRuu5VJzptORz4TrfcHf3E5zfa58cSLUgADI27NPGlfxtjWXQD0wEFHIFo\n",
       "yzmaMisAUqMyACB4H7ho4t+sx1hOazcEOPylSlonpN/+mCuIZBSvc/RxfgwHD1+GkGUUjS8T2bA6\n",
       "pe2VCg5VAt6xdMgtLMo6v4gMa81aWqf+AxTUeptSyh5cq9hRgatcWS1GsuWHCoNnsquK/Qz7SyZK\n",
       "CcKgF3WH1OUfKwCXreRD+JlpLYdv7qQZArLNPjMdb8bJL2+B0x7hKrtox8r9MXZD04z8lBwE+Uy8\n",
       "58jDa3mIU3x040FMkxWd69qfn72paxwsLiHs0wp2SPY4j8O16zAQDL84cX2plk+NUulW8M20Bau4\n",
       "Tzqlq6sDp9NZ8POb/s+AAPw5OXNL+Roxngvi4IOAr3jBt18b6rgMR0NrNpnHbqi2sNMhfuKgvOsr\n",
       "32QIxItNNNi8Vc7NL9R1IISxqNvbJcWgbFhbbqNUrqbGnMV3a3BF4PlKWtcZkokOP6e2SfbzUkcn\n",
       "+65Ai9CdsR0eXwGzLrfGHEzdrP7v3e+wARu6ObVPYCmE2FXhCz/psdCGjsaRFede+8yjsOMstP2d\n",
       "Et60+x3NfoA8VQlh8KUMuVrq8f/OSBzbzU/WDiMnqjwxg4sVWOaJTf1KVdtz507SC7fNNGASgAeT\n",
       "uvaHZaCrre7tRMqprqpTlOn7VDoJqehj/vmJ0OL15wWtYcA4lmsG9/uV0cMnLyM/XrtLrNBsqpx6\n",
       "KLXQIVU5I5G+H1Kjvi4bUNZLx9eoPH25vD0CZ+wM49pVqCC6vf0e9FLENO8ERozLwKFjDztqS9Ug\n",
       "IyeZI+BzDWd+6guF83NWzujfGaSx5prtiqCFbCvrDUlfmINh4BFwrJQQsCzUMnfp8hzzL2dYp10A\n",
       "wx8K1u7KO+ngQrSrUc4Bf6cFg1AnKdzniU7suRfA9KLZ2gKBxzq+UV24QsVfbOw5Xs7b191wPnzF\n",
       "s3QWSqQvFp1motKvNCqbxUkhyab6hz82Is8C938ktB9hqxTsBo1h/7P18PkOhif409p5XHg7VW3j\n",
       "rEY80WAiqvScR+0Wd+NGK/1AEhNb8wVhi4f+hy1lQschwEYYlhq32fbKOFTNx/RyN+A1ZqFc/AKY\n",
       "JlD8cTAX2B8iOw9R7inVYQU6Csxd953l+g5lO+2l+K+8btb0hq/a9JdlVm+Vd+oUtBDdVWfNWBPG\n",
       "pnOV/i8NHxNxMVdDE7dg+X2DqVeMoMJKd7SlBcD8EEDS/0x318JgCQ3m2gxevf7O10sD2HRygOzr\n",
       "T7W0dhexeLPph4CCPgj4/qGeL+Fc5GBkwqM/TFyBU3arsFxwWg5D81E0Pzyp4A2u4O9l39eilLMX\n",
       "tcvAGVJAJJWbolifFUZ+fSWVNLcu2VcmsbF6a5MzfhIWKPmysUMvI40+qfLwaeIKiqboA0Mp9gSb\n",
       "HAU5JaBV4RX2AoDiKoz+zv9UvkwVNQlfjvy7I5ZOymvCOfHoVX9g7zvkxNxaSse2nvmYGtLY+Mk0\n",
       "qjXpjd9XrZGkG7mUYyVBsR1DN3Ix8xose6k/nqz3DmoettP/I+a6OnNqQeHYr5oqVf00234/Z87C\n",
       "fElaT4V93q77x/GHzTgr8CzhTD4mszhAG0RzN6BdTFohT6mdaWRS1/7kl72SKvZkcGBuGErPzKvJ\n",
       "zT5Onr3iCFeKakI96oClmF5sfY6OnSyltOexy8IWUirYejISO2I87bpsGNjzVS1Pg7gGBI/6wQEO\n",
       "jkmEEXuVmlHDN2wcwU+tVuQQItwk/BDf0KIZIaaAoRASOpKUpgNxFIT2Uez6i+Is87ebwa2RJHfz\n",
       "RTE4G8HaSuY2Oh2ftNH3+zpNwXwSqiQtbG3pej89QSixPQYXeBKi7RmWFW/Ixz0PNsiUVY3nphUH\n",
       "J1Z8gS8H3r6zURIaitiDNFir1c16jGhiuubYm7LEShN9ZMDl/Uvw4VY45VenbW5cD/YdEIaSQiVg\n",
       "N5qRQWz/pcq+MJYtzko3OW/d5LmKRahWDM0jCm3IN9spF0ZT/jXBduq5NR41Wg7l5Y2CWfe2Shkx\n",
       "7Lnhg7IF6dWxQeZGqmTxPcfbtiQ61TjrJo4+2NfQkoHgbgmyfvwe+H/+hF+LdM8TNgJn1bbt9FRG\n",
       "+suGSa/jqNlFzAsNkDExKFfhohWIMggbOsTySWAIOEh6+3PUVxcKxLUSJEwiWmQiRsOuRLUoE19c\n",
       "KKTokHSv1v0gzi2sq8vEd/xgpnQAvUv+APd2l5pQ5XrmhMhMpqiiAEOTKSwBJ/OWbNayCJbGas4L\n",
       "B4grs3i0EixiFYuGaPj+sJE+vnXTBcj4iMKob5Drh+3oO2XOq9HVSa5a0xaemb8giF4+TxV+EDx8\n",
       "RuBIjxWvtxhKWxs/Ep9k/qluj7y9f5cSfRDyuv1P7oYtYzW5C67nMKUXqJ9hfHYROV5+Qe4KkIMv\n",
       "TXJBZSnEgyBXEwpTTH3IZ//Fioz6X1fDm6IKD/YsSY1wVP5DkxaYVDUgpsrhQesXAxuShYEMXQgO\n",
       "FF2b9uf/V3o/gGpAmyO+26wrGBGeZ3CP88BoZWj69Erl9ExwErSaJbd549e8bfbK9z1nRvoakMlf\n",
       "cGbBE+owJRW6qWNWOvNDmGhK/cm43sfLRq+O/Tph0Oan6NVXhK6pRbRwmMBxPkrceGxbI0HDUVef\n",
       "F4o8O6V7kj6NkuQHdECwifTP6+c7lTlLDKJiDjd2qs36ZrvmY0HrqJXJMTYy21Fn+3zekzFOicxU\n",
       "4kNGDXUb97p+GBe2CiJE77xJ8wPnWOjSjISv8xZnuEpGhyiE8rVQA10Ff46+jfeDye4/G/txKXEb\n",
       "xGtCsQtBvjXKfTYfNkTzZw0/5A5IvUAeowaWLct2hI5ZRvqWWxwniSVQavLH0PGHPvF8KanxiBSH\n",
       "wlRKUKL1RvkrQxusL5PxDIpVK4MVDgyW/7U0JBZJhF75oBdSYtyJQxKGGMcHSgf+BGMUrLenNbBD\n",
       "8w0N8or9i79+I42DWR7V8otEN7FomBgfJb8bdqFbrssp1iqEA5CXfrd1Ql2X3ZFvwUXavLs5K7fQ\n",
       "C3vESJd52lgw3rc9r08oGwrZHGbuEDfTxOqDP31v6/0kBOJqZ05DusDZm7VOgBXRoFWP9twQhJQw\n",
       "mOf8JC5ugI/O7WP47f7fnxVzsYd1uTNN87MC7sQh8xPEetcgHLqPRIs7ofcsdnaHMJ6pV/R4/T2A\n",
       "nRvft3anFN45xxCIHXY4KYN6y0nCd+oYPTLiqCjVVoo0vqBkqTJfNje5jVP8PkPebeF35xKEdEHF\n",
       "sWgs0RANNAc+W8kIRa9WuacNQsHFHXzFo5azufDF79qpbQVzhuuC5mQCYIo616pW+8EUMd7dSzGz\n",
       "w+GPCCYp9RJPUO18G8b3PY+MxDmWQmsWHs4u3jnrsmPS6mJK4qIqz01/b2EcTmEO4GplgygHEz9g\n",
       "5e2mO99cyhlc/DiYyllGc52xnI66WPqF9SxGaqCgORnCROaeeYJcOsMz/IPpIe4cKqX0CTCPmFj/\n",
       "YwUPj3wr2RjOUwRgLenhbM8jjOpTLxOTsHw/c3htW4sNGJxKTYhHlJPmV+9qkzprRIyxzU+LNXab\n",
       "UdsS/smCfxq6pM5LcZPyTvI16JPJeCmUV8lEoHts5C97O5ZZf9ItDrz2HYH4o7gXF4DHlOS0l33w\n",
       "nGJELANC9B0O0oFS6dPXpb9jLaUq3ePCg5XKXebMbbmFDdgB+YsvsdfHuR8iSbhZmrTXBiPfBVis\n",
       "9mlm13/G3P7KM2e35PbeGIHxTIkgaxmsM0PQzVeK1INxOuYgUR5WgX9n8OviM+UpGNwCcJ2tAywD\n",
       "aLc0GP5/KavIAXzHrrma7nLNcnrEZ7d0McbW74CSjVL2fgd/iRZnoNYALmffV2L8y8+yT/AB99x7\n",
       "/1Fijba+36L3yYpZb3xmQHHfAvA5mJWa3MeNQ2+tUUEZH5l8cozajxLlIqotXLDnd6q7lyxsfGmB\n",
       "bSRSJOU3lrpC/avdXDAovMLzYdH2EatFPNCvNkOXi3Bm3BCwcF8p8WaCrAZB2fql8IxWl5uyH4dr\n",
       "/fJ/dHIrbZDF4tJr+lr1lND3mhibX/bIkh6xiqTNOhEpK0Tg4JVgar1OBCQesqm+TRQr0m5W6d1k\n",
       "kt31x4VGy6ZVZCKUJO18PTGLBKnkWIZLm9ryUf2NLLgbPCxB1T2BYK+hKLUgdibG9J2hH9IaoBgw\n",
       "rM5Q8nCaieYY0Yl0Unmlave8mqaDWsMCB9/z4WIRjIPzbEsKQzfK14ZBdSzBbU++qRqaZbtIgsvX\n",
       "TCoDwYSrcpFiwO2fBP1dAGys49bq8c2UpeqvE5lKkDYfHZALvn36DSZmTszo+XG2u1o1lTQnRHbU\n",
       "3LA9MudhzqnjbepF/6T9QjxFfjlsV+XBRiCS33EM27swsYXy/nq+4HQ0W+pzyb7NQtdlo9KEKp8I\n",
       "MRxLGPZ0SNpMzjSlF5pWW9CqBqjhYqTItUpuR/U7QPbJYnNKEny9OHkWiy7slXeoTNS/sQhnCh5e\n",
       "2p9H1buUffTOL+Nc1UeAAAADAAb9AAAKm0GaJGxBf/7aplgCIKRasutApACzcrIVOnikvht2RvXx\n",
       "v8gLQYZui8jU2kZF78kZql0r4Z70lA0K66OID8J2QQKCDhYsiqB8dAr61ONHMTw1Vwnz73CkhhSo\n",
       "icIvaDcrwnFcROwQOY/lIaWHRylHDv0M3k//TGM/lxOkqbTeSujRvYjrvz0zr7mJ6Vy5U8qmj9+5\n",
       "chapn1PpMYatlQhrMDn/03A6CvIv9nfMuKbCEluDGK22cIxydIbIG7aNZfmPAnhqsGFPtFfUMdR6\n",
       "cp8rm8Urpjo+hmUWPax0Nia/Fpaakul6CM+tii5z798oN7DtHEV07TS9n/YEJtfqyOrlstq8C/hZ\n",
       "B+C4WJG8IrWtmGJuY9922sAMIamFg+v3ReHKPzNoEAutoAuVeVXPyrcaWEWz4nAlElnOtTa9Mrdv\n",
       "z5M+OAUEQSq4vGZATSEAgC4LoXnASfMYH6O7jkKtILYiH9GGanCMr0coG70ivJmJuCl85/mxpyCr\n",
       "IXbu4hQ7UEqUQQsSL1fgABRM9pnBMVLqANFGHAtNr1/p9Uj6t2m0OFYFddsA0h0YnXH9hg8fCguE\n",
       "RZJBXZvU/InYyQPEFb0RWMuKLlj0Vf/uR5gsbjATk6Dq5Mj0Dt70KpOufk3XzMR/KNE7LFhEA8Sp\n",
       "d/vRTyyNiZFB/U/kcKPkWUl1Y7aw+S3i6B1eBkuoGRtz7GZPFbjv5Vu5GRjTIPi22jrn4AuD70+x\n",
       "w6MzLzEYkCOExXWQN4nhsE3fqizHECDRFVFfxHT4wLs63unml/4YDhFyw/oLDmwFCks4rD9eX6Lr\n",
       "vCOQHikDOvljZ3PYOgpQWPDdGZLjf7BR0nM3ZGZbuT9b0ROJ6TqfsvHhkGZ6L38S6H+5CDjJGafW\n",
       "Im+sA3RKLR0zD1Oj90zgQ6zCVUrvBrATFrsrX4HUSJU21MNI/yeIQxU4YWGVCcoXXl95MrVXx/iO\n",
       "OZdLHBHmcHSojVaRunx/ge+lnr3UL6VHwHUx7an/HgJSs9Kmdkm06Z7iTasbJH1s2/Gc33aFFIXs\n",
       "4+BDAeXH5J0fpslY8UjTvQ+g1GFIhLTfNmG9y0gRSDK/P1LSzgI8ogSRLYWNv1Byf6zGraTgYxvx\n",
       "FTXNNuR4GJ84YhpqlYobql0H50Qp/fOCtIWP1GE42dzt1S+8hcZllqQIuMSaYwNHeuXRvEYUvpN1\n",
       "3Casqwkr9L/HQz0eJvoOoi698KPHSJnK39IFrFsyoWIb7JN1Har6NXetb7cK9DtXJgjLGhGPqK0E\n",
       "8aan5X4rLlSiDiXtm2gIV2Sx6D6ZPAVPKrlQaK01r7dkLNbqNf0qvcDo+U2F30GxZHDXji7oa+O9\n",
       "Q7Xi2UwOtXR+9rQAzc7dLXjcfgsHKG1k6U2tvxtiKC/3v+3cM50MlzVAu3v5Ci6MnSS8AI5mVmgV\n",
       "O1mexn2ScCkZs7uzjvflTxWLn+JOZ+A8/vL836Nnz/21G96spw5z+p8LZ4eXvgCUTK72TSd8oivP\n",
       "DpbPKzjJ3wp4aVdLuyCacLN3UoxPvyST168OilI/jK/eQoRxLmvCJ9SR1LHM1bzSMR3+59XSPRVT\n",
       "p3bjBkhyJmfBFFrllOPfBj/7PrQ0d9ZRAo7zmrRoLVXoiJvFGivEFrAS5oRp9y/yW2dSIQEJLDXJ\n",
       "fKwZEfron/L4KDScEletT2Oqc8r2lEGHZEA6Zq7Un1I56o9ixd761go9m5mW2MNFT0zr4TaKOwbD\n",
       "X05iAu9n4KfKNbyR6ksQ+pIMap1q1gGzmbqPR5+kSyO8BhJ0VrbtJVSmcP1t4v5R7HSbT5E/u6QT\n",
       "COSdVAnbOsYc/2wTHW1VKiDTRiSMmQ/uDuZpBBidUZ+sDjweNTg2VuMhDYvYl0rjLTeDHDFfXgqO\n",
       "eohGgcPqntr/FcqthfFnO/mFJKsH8yAl+XXr/kZJ+vR36ikr6VeRndUSygRovkexCykMxQptpfZp\n",
       "CF7sXXicefprdgrEqcSniAgD3vjSJswKEflaJEUPumCc1IvS06W7RFxK2fJfftrpZzmrCpYZ72WL\n",
       "iCPOZZMpnVALK/+yDxBeIMCk8CaeyofBB754laG2fEjBykPI4FVscDF1piNsB5DEtUOYt5fT3C6s\n",
       "+QBRP3B60bRpkldC3tMck2hgFvWKYGWH03ITBapm0wzFiT7R/k5Vo29zaNOIOUv8nR5lJLWQdDoV\n",
       "iYh6AjsILizGcsJw9LqGkFwVgY22IzBt/EtAnxb8aqZevXNyGas/tYPa66TZIkwEM3o/wN78iSU3\n",
       "73A0C6J+RVrWwgnYU7N9/4u3vnxKcQPPCq87jvuD+gEKiY72nzGET+28Ly+Zxn9NbTUOqPIp5GQi\n",
       "RhIHO62H44YA+yn3jLoQ4qq8773Rs3y+cv3CTKRTVRnww5I67Jwig38vhvlH2BO5pe9ug0hNvODO\n",
       "5plHsi6TB7nH3jQJuKyh9GpYUOsP7PHS37euYP3pKdMAK/A6MVW91iC4mtaJ8RNzKANpXV54937h\n",
       "jK0je0RWNxPlovYWJpE4PXM+dx3gVdkAL/dwdN5gOwjsua1qXKSUMWKtmS2fUsTkHTr8jOtLqre+\n",
       "HVMF34ylZqQbgHF3bVZgZuXMoGJPptR0HEn0XX4VK2Z1IETrhp5UQP2gE1pZm2l0SVs80ulMPBmF\n",
       "gH7iyRDu29xJICLzOG3/bkQMkzeKaU1/RSbwJGopKA4JPIlCJiBOscHD3vZIXv7o4enF7d0JIFdk\n",
       "dRn3nYlYHMtd7B0YqiJo+hy3QVdhRec/A6hZuQqTeoxeb5F9xsOwWVM8p3Av2D12fZSlf3LkK1c2\n",
       "MYoFwls61pI7AXLDJOkj1ryydO4FOW+jT3W2YpBbftDxo7IOEyyaPh6qqqSb9nu8tOvEhzGOOusA\n",
       "US9P5oRd2AJuNVVyngTdeYV6EWIeruw1aLv1k7B//DrHM5M0ofWiBexu23XwZOzw0wWFNQjWk0EF\n",
       "/FlMmKNlzfjDMdQdtCf2IfTXHF5oOnTSkbJuVvy1eGsc5+siV5DGVZ1msvkzWI1AUdGnjn0m3LCW\n",
       "FHVqJFbSJTvjeTSuiK4Y6XnToWoBTsi/xc5TheE6p7MVFgUxsZHPWt8we5TnU2SLvst1mAq+NWG/\n",
       "vHa8mUCJRwGyOKwpcWfJSExDnAUpfnIeK5UAIEjU3MLCBGKY61MjDEBjBpwpKD3hI/Bb9BZp/Pl3\n",
       "X8rldmtuMqlG6ppRKDKA1v/omMOYaiVzYniTVXOvUbLlnQYiG3g2DJFWK0w7kEdSHnGg0jDqo5BA\n",
       "C8u9U8lFHsiKfM5kPGDcWkkBVl9IqbDSLASxL0ligrY2jya6htqx1I0gMWz1t9B0RDuH1C6OK+J8\n",
       "mAEGJj+TnBUs7IlUlzMYDvghhFzp/7raaLIXYBJ/5CDr6yA1ogCVy4wh1uu2Z/JSIUkNl8fPBxcI\n",
       "di8P260aW0C31LW22XZJPaP1U5INFAYdTE7dhKsP922okzO9mKCn6goTU5NlwDz2A9sjeUIf+Nt1\n",
       "uSHILyHsLCROybmQi5GLURN6IkpaUTtS624+y59rdNCoMDKgi0mXdIubkHrzmwHp01N/9pI1RFa/\n",
       "QwLMD34CSu8eTHncVJ6ezc2JGjuLTvf8mLzH9hiZTF1gWotV7U0LF2HDbGYCm8yUfahxdqEjFIY6\n",
       "ycwB/gAAAp5BnkJ4gt8AAOmm5BZ4fRAADWK973AV9GzBw5xtasgInk60ysl9i5nBV2gAZW04/Sab\n",
       "YhmRSA0/OJ+QbZg+VH+9NldAamL4boIfbMjIpWC84Z7s9mJZaakwKpAbNl7yIx7KeNnVA3A/JKHO\n",
       "lbv/r7R2s7at/4Gvz+gJAhGbn41Wm1Z1KUmyYSTaMXuvKgJSVMJUAfhgpa86ZF7MeX+Em+4aEffc\n",
       "aq4vU197ljcKsQkXKfxkIWP32Uys3USibLYvsOk0C4uulSNJ682U+7xhHOJGRPv/tW4ugSxUhixd\n",
       "k8q1Etov+mPyPzmRjMB3yzgo4f621yJfM9giCjqcZpDJszpOpl2SljCkSUIvjwwsh54NDlj9rZpM\n",
       "kLTQNq+eIEZTVijXU9tmsE0TBjSSrrlHPSu/sZhbI8HNlWO0xtmY/0Pu4Mbf0lLdVEDfX6Qmdu26\n",
       "p8LzrZogQcL2W29QBVhul8VTtXmPnkUn/+jvF1KOYRCecOfjkDlQQBJUo1EflJW5CYGaERr9oQ1l\n",
       "MfkJorOyKrsiy8yswzlYIAB5XMYydQfIPX0M5JRQx6+MlmijHJ+njeU6J1OzZFhmpdGGxDfHDvQf\n",
       "S03liABJOXG5yk41ZZMUnI7kz2ZXPzltjI9bC4+nOIo59+NnrOHLwFqcUiy4QcpE5rsCWd/wRXQv\n",
       "/aau1hOq5gZs2X95Bx3GQ3bTQYVY3h20IdfTYq3EtoLVyR3UJBD1EjoTes6WRXehDTPKJKQ+e1+8\n",
       "LOXTv6//64uhwZdwGtk7wMU7cXlIb5kovqVBMKHyYWVkiwz0lddCP3OQMOqcKliJL50C9ph8Jyyx\n",
       "5gEmJxxpPs7XL7LUSEMjY96NkyoQ6jkJuF7OWrGS/aaAjujYm/yvyZVlFuReQyitdRdxAAACMQGe\n",
       "YXRBXwABbqfxXXFEsgAOrH/FAQcKkx+cyBYr/ZcWUofwTLb04MHpgOE7DVVVkUp2po9eMa3a3SLr\n",
       "IqHS0QgCkItYHItttl49pzGq3cqwdzCGp3z97WGoRcraE7kRQQf/hp6T57eeAuxYivMiRIx80DCG\n",
       "BGRm6MQSp/jtCfMfbNvqWXu7IOflIdGkjQRKcqLaMVUBmOU/xxLQzC7vrz/qJhX8fICKYsl3N17T\n",
       "75+ElKbJWYfkeJxksv+MIagWY35EQquXIwlccJA3eKPI0sKdW27q/aW6Bw8J7ooYVp1Jnn3syIwj\n",
       "oNvEvlZuHuddtYmnPFub5XXMxKMxo0Z+SJU5Xp1byRZ+oBMBRMvmOkscOilTsTuuW4FWghQG75dJ\n",
       "hv46CHoGRW/3qdNCrcUg4GedlSC/qmf+qB9TNjM1osb7rSHVc63JY4cQmaKzQrDGsOiGJY/mCz1S\n",
       "LfJuyBRXo7ikbqHS1SGTfFuxyFH3wHPrvIJcg05cFUaCLBYacFWjIj4IAynZMMXfUj7mcy3PaJF5\n",
       "4upmkSIsSZAvb65uY23NHL/2iBVdJzkl0YbBUsuF+ofYeVQZcTmrn8hkvtzAii0d/VuX2dew9+kr\n",
       "ffQy5DJeJZmMEBH7rGfK6W+mgxk4swF1UoqtOAIewxeTZ91uJAATvwmi6AHxUgXYw8Fw2hiolKL+\n",
       "0Ky8cRp/z8yv0O4ceFFZ/U7SoT5gAHVFOsiod3Luf5Fj46gQ4OPps60EvrcKygAAAZYBnmNqQV8A\n",
       "AXHur2MgUAB0UJ+iWblSQfm9waSMNHxBICb4OKsTgItp02Gn1MEBHlkVTlYdsovnMdJfT7oPK2pB\n",
       "iWOqUYrcWEnGKTKXHnQghHrixz4GIXtoTD3TegI+SUYUwhqd8/fgGnWahkFkA25p6a9S6l4mnFdi\n",
       "oOREhwZR5munAlKaKvq9LhlBov+ej+2kUj4kEms78TDo1mVtBYtGkTNxfe2tMAQZWAqGB+Xm4M8s\n",
       "B8iXj1pPqFbo9ULcsw1ZV/TkWwZ9dOs5Pa3NybaXkLiqsS9fOOlwohfRTFqeToMg7au/gwf3Gr0v\n",
       "ALLNmCKMmbOKQEYcW4VNpVWtz0uNdfCGC+5x36W/BbAmrvJcex8JuxXBIPT/xXmws/nsZGYkkoex\n",
       "+SzkYAoo0UywYpU6jxbp8qWHUXwXG3wAABU/ncDYAupGTywpJ0eSlHE+SIJuKqiQLtof0lQPJkJa\n",
       "Fe2xHfVQfUidys3ktQXvvk3Zw6hlTPoWeeWAmgtbnx+vU27t4s+/HIgyyF5UJfL+hIovkoklZmE3\n",
       "AAAHGUGaaEmoQWiZTAgv//7aplgCIT/MBSAEvVLgA2MeC7EwLCd6hmMcV1D5gTbHRmU6QPr7wwG0\n",
       "fBes6bEG5E3/KF54WD6G19y1+69uGyTuCBI/y/+hm/aawyY+daBOWG9ktj1yC49okzU4DB0La2I3\n",
       "Z1kCQ6Ta5Z55A0F3hekZtKwDda5dXNLGG2FjYqm/1gbr7JAcR9YWd0kMMCg8e3zEO0sW3EItGj1+\n",
       "qabfv683uxkceFgtKyZbLIYXhMa+8G7vQHw3lHVKjEds9VZkCdpsa9pa/bKzSXOr9oMhgBjhE5EY\n",
       "7r+ib88P6YhN6GawPWdv9nyqhYmNoGLIOyG4Ov8PbUllOtQ9Xf788ApC4NsplYH4j06lg9oHjD0y\n",
       "+3BxG3IDqK/p4KVIBand9Bj23tdw35hJgeGY+KRAYz+gPdy74zf3Evi6bHhkSJYLa61ayMArxmDK\n",
       "WkyTs4jOb8n2dJK9ueFKrjmySxm2+joLkryod+Z57Ny6FaHtj/iMKQS0UxOj48Qx22ehjUtQw49t\n",
       "hS4vanRUHlrQBPABUaO4CRT1GPpyIMGVrTOd9IFzeBnw8nPaV4P+5i0xA0wXJ9lfRmF+ZuQUxRXU\n",
       "lQSVunTJsJu5NfxjJsrRJdACLZ8eu/o3ajsW1ShYb8OJ6bjcuSf7c8ZLu9bG2XVImCT6Vr2Akf/1\n",
       "nsy11ktCFIvs4b1kf6kOcl+71ZS1to/SmDeD3ikgV7UvdHpGzvpAHxHRahpAJ9RQoEWwgZ4YtwaX\n",
       "U5e87HkhBY1wt0o6W+vtTOY4jisJ0K2ajWGpVZxyNamOt4jJM8pMo0micq68UxgN5U3JmY9AriA0\n",
       "MZjLKOAFlG8uWjDm/MiZIqdX8lejY1rJ4JT6EwIB6TlfkHuVcdK0+jdlchfQKUzU9FA13ZvJ3D0E\n",
       "3/6Qk5iGKSmSx3uyuav8VIRMrdc+VOn0kH0GQh39bHXWC0RAksD3jX0EJlpWt02mgSrcdp8ue1Rc\n",
       "mO/MujgMzbVxXLutsKhWAnL7gWY0cepbzrRTT5fwI42eBRqXVFZl6tsrBed/8AnmU/8dOmJGHhGV\n",
       "t8NQ9VFRIW4t9y9U6Xg9bJu4UXSRzTBnxE4v/KuSS3+77YGvLWT3dbUV7p/DFzWdVJnfFysjbn3I\n",
       "bmtIXedOeVhK5B4KBeMaJyQ2DBp8oEf6NbrnNFgFhSSPk1wSVGgsgFp3ShjQSLbgPYGny3X0X4YQ\n",
       "4mB+lxxhB8BB3sG9VxIl3sd3C4MEaWd7Xam/yYvIT6OiqEiVTV1Qc1d9ImCuWGuoPDZ/AD+BHq2K\n",
       "RIb5n3knXxIVD1d04aAuBKswuIZ5BKIa0O16HEfo0Ma7QfhcK6GykKuaHsHYqN1MQlGsDpxbFUoz\n",
       "RUusYHxRuTJncPpIEbDS/R75GCGiWOof6Yeni3AX3z1yh1HmXm/KJFZvsm7cmbBLcnNrDcS0l8ga\n",
       "MWc9KlBd+1HEQK8wifum5mzitB/5qDxrnHXXI67wA9C4/DfkRWRZFP/NPXXlmPqaK66RJGWc8mcm\n",
       "tHMzQXqLGhUwtnaAgEgHNG0ivY5CTr4N/Og/igOHcX0dMcdZ+j6DGUJ1whfZnFKP3q2NReZ7GzQB\n",
       "ie8StJpruV4gVylkb9GLiJFMriO1soeQZf2KYIcDoqzZym67oP4jARmYD+wm4Lt1hX5a8ZqJmIQ3\n",
       "tMZtfeM2sMN+zxoJ/9GFgniZFaAbJSm+ghBDtXViSeE7J538wIC/FiD3kbNtkHh1D/v3FaLImXqG\n",
       "NANV6loa7Ci8+c6Vx0T7G/3QHQS0e13aO9u59k4vI1EVwCXCk115kt66b5ejZHAqt8HzwlJ8O3gJ\n",
       "/WbO6K1M/oV/SO8kIINu+6uw66mae6kuHQeMvif3nw0CLd7996HzPbmEIyUAhhJGUtAvFJHcEouD\n",
       "+Ve1NDu2WsARPPdLlxVa+F3M15tIWdDffoi//uXDkImd2PoT2bHdv5CHTyv+w6agqxkw26hIWD/h\n",
       "Tp4Jk4GtY74rrnUHr2kpTEYfZQUROkemMOdChm9rYuQWKRuY4AtWxBxFBOjLJrlIrmy7epWH9PLx\n",
       "Ls+2DVO8I54HYbMggguK+gfJuvRD37CxQnGvloa6WrK0j1lingOsgL1H68sHy/GmayPM/bQeRa8E\n",
       "k8zytCSPgk/1JHNeHazqE0uSyZ+2QtqGVoKQ8BHSowgM1+PuQyHtk3Oj/aKlCjNZZkU5oxskAQYP\n",
       "OVvs9isEAa5R4SxFnWkXcq3tN7E/knNKkBSITCdWQ7dKAwpuxbXrZOe9jrVTUomAKG8bB6Ok8bMO\n",
       "ABgLNMLtOktJ7Eit4Qfv3RyT67k+h6GMvD80o8gcOUDoA3Viyc/A/HLfsmNVXVjz3j1dggQcDLRd\n",
       "RmxAliEpAytxP/uHjgZBerh5NoxEwlisxmsFYRF37K26c89ysz5GyR5qDxufLT44gkgFgFVBAAAB\n",
       "rUGehkURLBb/AADp9IldrunOgAHJK+EWVL6LzVHHdkOFlqMhEmti3ZVkn6tiE6uouyRVCJzIlgmH\n",
       "78/5+5U5S/ilIScJ5QdrzsdDBWs0hCX7Rd4uacbuTsyc+xb5iyN7s8hsa7yIT5syhI4iWmzn75sR\n",
       "I4htI32aRt4wWg9Vz8vUK7mnkzZe8O/urR6aaLmf0RVXuVIH7rtyx+oQ+qPf62Kz9vElIMTV0+dl\n",
       "JbWIaH3e+auKGzwIf0n5ir5bQtM4V/rYOdZXSXcjBYYJzGb5BX5Hm/ySUqn41Ei7rXCVjz2SkxuR\n",
       "LqbupUOb8v6pczaW3WUBE3XXOcsWtH4pMoyJVBrtfjfA2sA2AQghuC1jEvElrkwoVbkEXqgK1Eb/\n",
       "oS/NfBBUKHsgsQEHvZpJ18j1ysgY5WyhYmXKKUqloAFlhiWZABvta+XAfkzAjidmMDRF6D1ncAi6\n",
       "vWo6o6PWHERDjhLMeByv+1C8JZAiG6fS/U81aYTMmK3gNvURLSLjz3j8/MROdu3YV/Md1oIwxc32\n",
       "vJhsZA3ct1Mrn4K16m19qeIvP/hTPLbhctEOsWhJwQAAAXkBnqV0QV8AAW40j6ZVahZAAc8tlLYQ\n",
       "gvsNGb2yWhIW52lJdVkZ493vT8jBZuCjo8vDw+yyGim5NZRGbX+PqTjmnCK2oGkGcMsx5OHwE7aD\n",
       "XjGT709dpVJYMHMTPOSpalzr8R18/RsYFTvUojxUm7zjIyEKfJMG10odV/WAFON1ZPWyNn099Jkb\n",
       "cblHuMhxE876yXRZUwGPSPCBDX5vdVdasHD547kH3pV3krR7xMXDGwahh1B9XteGAgFXpAEeVu86\n",
       "UelRfVRz/bQRPRFj31XNi519yem3R7S+eNIQgOnJD/pz7ytyWPllALf9vBXbYoiYIHgMsrHM2t1e\n",
       "mzMIQDEu23bNjzXel6leKJpzH9Ze8//m7mMI9yx5qCCenYG0cq2+OTUosOAlBIXOUrICZe2Bkvjr\n",
       "yjiWtzzuB9XaOSoqB9MZxcSxQST/cZBB3KOFx4olmvmbRNn6Xn14wIh+4pMYg224KfhQhnXyTAFi\n",
       "C9L0Pp3eEsX4R0oS8QAAAOgBnqdqQV8AAW40khDnBCBQAHQzqsG9vA8Tqsvrhfke1B2lWxQ/ICr3\n",
       "T/ZUD/oJnAoHJHSmZaC6m4XGxKFC42NB1t4ID/TPYosVN/ptit5Fn8/N6fit5ryFgEHUny2bjL+M\n",
       "mnnmSRVe56g96pJ3WcdUVdN2D0XlDUsaXFAWaQpx+XBFQg4HOr1jm2ZJ3fSbk4OsbIb6pGOJ+X2g\n",
       "g3YfgACgc2Aac0tNVeIV3eRWwy8+EweFPrIAqQ0CGh2NKCdp0Yfk7KynqLpD1fdPndSI0Ldfjy8h\n",
       "oyDewNf2oet4z1/b3RnMXFn6ZiZgAAAGvUGarEmoQWyZTAgv//7aplgCMK/HNMdnyOkALNw3Ockk\n",
       "ppmPP4sMKxjVeXenr2ETVm6bzlsSVffZN0j7lo6OzUOeFhfeAYEl1wcSVLFnFBPyesL8CxVDPAKl\n",
       "OikPNuXvqZZgS+NhChmaylXH0GHjFa/IAr/cYDmprcYvUr90oo+5LHwp+oVfoL2ASHvOAEcDw1LM\n",
       "0BmXElcJTmCw3rT5kpwS//jnrPDlSJgzx1lhW1sjG956ReKv6SgNwkOR5wjWX6zmpmKl1mniBfrJ\n",
       "TPm3f90+Pu6nn7svKQNFX6nJeUzO6h6HJZqlmvh5TEBXzGgTYjAutf+M4iEAOPkQAN/z+ntjcdNV\n",
       "jKZK+X8iXaRZcaXWoTUoYrP9CgoS/oqIdO3t/IHABiu7jj05wrc3v62Z3QfWXjcuKQGSKeE90o19\n",
       "u43SVIaeQIR02/Acw7oXZ5oQpXE8biNqHMKlQth3dEZ/yprFX6D3wlaFfKz4AOuNk3WdIpTpM2Og\n",
       "wgmOzfxv8zMvYejtczof9Kk1BiNt5THwzgyOHmFLQTVN8EOEOotKjyjxY8imXzoYmdPBDTIBq3DZ\n",
       "9f+bO7AtCtxTlPX/XZ9ZHVRV3C1lA50YWVsv62N77Nd6PC1gyr3N6oqjUtHN9xSCEIcoyeXMn/3I\n",
       "Dz4FYptVwRMMc+7V6BxX3ADunYlt0hurBVMmFn0nDUGqdLhAc2lBcQk3fTOgz+NsuUD4r6xu5//E\n",
       "AlXJe2iU/cDRKHzw1Db2L2IDhEIHSdfoVX4yLlHPSRioKXCwaPRQAo9rLnGlUudDN+VcrYnp/VOH\n",
       "RBi6/dYLfljSoPP1TgcUFQDZY+oE5N6LQ8wYkVW25nxnaN36MczM5gvDm3lJjkftm0CtwPhkErWs\n",
       "2qLTyabTUnn3TLLRbNFeGLBEHROL7S0BQIkQIPK0eiY5BvNO7u5sUgKGYsnf1HkmLrcoStXolppd\n",
       "VoGuZrAEoR4QFt4ryxvMxvamViHDqRMj1AK0sNoKVpwpFKoIoeSg1k6bbeU/yob73swI8ZfYDDjF\n",
       "MBbXLTsGEOYhZuzeitjE5ZcMWciU6VBI87R/gsbzRDdjm/sRf6HE1yUngX306cBaQwLL6us9PX+z\n",
       "rMyQvRnDiaMHbZh5k6+PsCnEeAM21xkizHiHoZdcPE3QDRfDWmH1i4yabyFyEMEXCsYZ7STdYqu4\n",
       "rzP5IcThW6d0tIY1B6kQRXwFHd6/gIBvOUW6KIHUIaUEXqGcgsGl85aEFa4JAPXusIKPzVI1lDbO\n",
       "7EshJHlfiva2mZngcD/JXoIzpgsP/JYgRHkflC9VWLlBvAitv9YOZjlAqiFyqcmByjgXkF7Z1xzf\n",
       "qbRhYzXBS6ahXjHGYY1knXuXoGpBYCGt+HEZLd+V1s0cT0v6DYFO0A0cevxj1Q/BqFuGRtHncMJu\n",
       "OAFktE6ZdzXcTfse9JsEKoC6XQs43y4jQo5bqNt5JVrrRBRaAVEw1CtCs3pNQkQtf8wWTB3/w60g\n",
       "dsgoEOQpHyJmmp34mkduxF7M1DrWDQsSLM0fHfVtbTBi5EHmg+Wcfj4DsJwyiFZRjiZDWIx+Itju\n",
       "pV2Mmp9FHdDFN1eluVQxfEo3xp4csQwhAAe45hgrf/mt1cca23s3tY62JgQohs68WU67Wk7XpR/U\n",
       "X/cv79uLBriP2/WrfEEfCi42X5Jm4eu8C6dvUNy78ntMBnVhX2XxylCTSdDdQjzY8EEjkiEELNDH\n",
       "7w8IXgFRm0Mr4fSgsm6bLAI11lA0v4KZPvxVrAlnwAT7kdk3pk5oixRsw8/VuEMJhOlXt1YbYo99\n",
       "Q44w7MyEtKmRkAjjm9sMcTW54V6Y5n3ecv3ITC5aP/m+VZNSl3l8S2IPgUqx4bYGYRtDXgsd8lja\n",
       "aipyyhkqxhAVoi3EwtkD5Ih3JeqUJutRIX6GRibNsvlLs6CpC26YTKN/vuNl2Dezh7w73bDpfbU5\n",
       "Nkqgev5idSQp3AwqIN4LNWg50EOhLrJq6egXPAJA9SOVmJ4qDa3Rp8jASVEq7BDdB00yUMw3StSS\n",
       "B3ZxDvUNNToCvoRR4rvZmWpKIR0ZJPDiCCTm8x8OQHTlKK7jdiAHXeVwm56hOkxHdRJ75QS3pZbY\n",
       "zDvjP765FkJkpporDEab8B/HY/+20dotpgGCPEVl8LzbEmCsaejSc9uGwRTqy/BxZtvxOVyLX5Ba\n",
       "AyRvLz7y8gQLyDECPk90UkJkAPRNctv21AeKIxC3XBS4C9EpOgXamjSnoHK2a5++6dkFsz6DNxVd\n",
       "Vth42Un59Sw5wf77Jqik9CDeslevE0bwhzZdKuKmIdP+OjY5btpSQAAAAZ9BnspFFSwW/wAA8aZ3\n",
       "IND1ycQrh0AA4WRgo0SM8drz4mw194tO4RZKxBJu8LeaEmISSOjgOmfB40dToPuC8zXjzcceuGQE\n",
       "Md/Ynp6MChXUmsnRd+sPagE5hqFSsSNAk8ZXfPig2f9+RV5noajaXZh3qnxdjl5mCophOTR7wqp7\n",
       "f5IOK0sFyrByzrI28TtKDjDNvI6A438tCnn7aD6o/u0gaE/v6cvPR1Vqcub0+P3O6Y8SrPyFVS9o\n",
       "nZ2mHIhfyN291pbAdauTI/Qw+sIgCkQ+/fZ1iXmw46VUW8LG2I0eRyilUJhfra8fuLo3Lb1aC8/T\n",
       "NSfcX94MubIRQWZ1IEbdZwBvA2JhNYZyHpCC0NlMe2OkfH3ocMGYewMulAHQTClpdYT4sAKYAMwv\n",
       "x6v/Z71nmhOhO86Cgov1d8NE4ojKu7fAdemx0JJBRZ8hBKJ//rbWSB/9UDbZsA1TMsRp88o5Y6T9\n",
       "eFlzoK9puwV4K1ZXNpXl2qwI733Gq69sNBkWJ4iicxKQP+C7d3nPT+pU41b8fPK+AArc+uCX3qy5\n",
       "A1HzAAABMgGe6XRBXwABezVvSWKoADokG8+YSOSwc18Oh4t/PwqN3UbEISIIdL0TU+fzxJaKHqyB\n",
       "ixzK8kFIXR1kLHYc49ZReyomBIS3ef5Fz81/z1BCK4+6lVqNubNczdHZj3jAojxNWCYdkXNV/PSk\n",
       "EZkbDQ/21k90Y8htQkoS4vX5VS97NBD3GAV4KeBYZfCG4wPCAxRDMlIRHlKDZCQBv+O+WhOfeh2d\n",
       "lg30wBO+Ow8M4Cv9gGZiZgysgFfLxNlAibtbmJx7FJjDwCGZtPUxn/XwAntzukiYwimZsupQVa29\n",
       "57NRtYI+S5G38OwxsT6spp4ypadKZTpqBwS/18UwNufUqd40ugaYfM95nA7BwpWTJIAB3jQzpCZL\n",
       "QSIrD3hIMOJ5m9je68Jndo/0sW5m9eFRAfBpjQAAAgUBnutqQV8AAXBXT9AoADiVQZsQhDrsSRRb\n",
       "cyBa/9zDIQ5MWUxQ3DUztB4H9hAB8Q+y5E4k2L9xb7LBnxLh8VG5Qq7YU2VKr/TPZzEdCIXyC7S+\n",
       "lRameFpl7O38IT7bHQhoV1tBsJuG1SAlvZOoL0z4fabQO4WQbr0sh8pXHb4SOtQu9ZgPykNODqWU\n",
       "j6IlHQ0tGSJLzO1z+ulr9cp60WID55V2yYCXE0kBfI3MeBLFqOHkrvxdmkQPQPpXJBqzhURcLiLJ\n",
       "aVKAg+rwzXh0uWUCcAoo2UYB5WxyOi98rLJ6u2e3D4+wgOsTsLDAAVeAARvBjg2hynOgD2Jg/dct\n",
       "sySCDvhqWDxZ13EIviai2kWWSIqSOESXYsLJJwOfdYLYr0qoOB3/XmLQfSBdB+WuU88dzKOu510c\n",
       "YjKu5WwkLoimtWloFffHqDY86q7Zm0RLmKk/W4lfXH21tFUyrGHnXVtIXTP29IYUzYeN8urcvIw5\n",
       "R9ubNY896ZcM3oMSfOkX4hKyM/SMB3nfxHH3xvVaQUsskGVCJ61/X5WoQQGH+iLZ9Z8Hi/FQrasf\n",
       "MtxX6oiXI0sGOnWtcgI87btWmOC0jE8G15tiEK5kQahIHInJfpwmix3UJ7kN7ze/3ZhSXRT6ZZJV\n",
       "EnKYO8K4YC8PpJGBe0N9wmt6Ao7ZNxFL+sQzitVO5xccxBLwAAAIPUGa8EmoQWyZTAgt//7WpVAC\n",
       "Ilea9UAC4pxhFlS+i80QlK8kc8u7exuiOxAXEn5DpnhfvYwFFByEknEZQSEpcenFTCll9oKdkpPq\n",
       "PSNqaSRvktO0ZkVXzSNA2cqvAB6FvxorwVl5sez4zVZLDOUgqJrGMKch+9CzS/vU715jR4ymPG0x\n",
       "8i/aFsGlx1ortHQb6uBN9kzD627ByF0wogvWnn59CsauIE4CdsL5AnDGCRx5j0gKGA6+QOoGDu/m\n",
       "OUTSnK3fgwhk76sqABwqQFUv0IbhlcIU/eCmZX3qDtnButCMqLLLlisVMoWCAEg2eFO+yfMIi9i9\n",
       "CwCBO3HDYkVGFGd5yrKmeKyi0N5X7XxkzPLPC748pdggSSR6Am3CpN9GPMHWRfnQeAKpSvfhpC9T\n",
       "OeiDPJkOXbm4WBMBu2QLayjhpnoOf78HvS0LlrXLtkh0aOs/RjredYlv3kShMfeLvVHy/Bp7/wAP\n",
       "+QpJNuOHtWpAtYxydpGLeZiRV1lGEDtGhFi8ZeVZnpO5N7ruqTwB2SgnAnR3BvoqDD9/gwEeR4JK\n",
       "QgVBTaTkKzMbrzMi/DP2581jkKZZLgxGolImomRkL3g47EozD8oNfEdRdJbE1JlBI64o3RyXbBck\n",
       "A+TOjepd3NlRVkR5OV+5kZYWD+7V1y6vzFMdFZ+mvJOYzaZhVxK4RzmZ3/xe+yF4jAQ4F/p4Pg3S\n",
       "qOis3F5tyAorlYVOsKNzBP6xtFrzd3tbOTFeqcsSGdi+VDmgfjcAb29ZMqmLFgBUe4lKhng42lHM\n",
       "73vZjanqiEFzVID4BovbT3pXHSqsY4ozWzGCptuOURBrMuJkGXFdtOpcclYjwvDk9NxgA0NtTbrT\n",
       "Gw2HQXZtSiZz946flE4u8kqhEhxKbdo2q6AAeItKOfsPu4PReKRJiYUF9VU944Pm9DF1geo+auG8\n",
       "KBURZlyGc/I6DaJMY9aiFvY+Uv2pMWiLXGJ+8HFhzf2Ki/w8QWvWZOWrrg/BFOfJuUy2hDlREPO8\n",
       "2x7xcMjE7kK2X3t4SCs/+DJRepUT7oTlRFpeMZphTwo7UGqfQ7cLrGTw5S8S6VHB+JiLZTV7zhde\n",
       "oq9pxM9Y3q08gUPtsuiuMY6Toj/02Z9G1/UCBKf9TNOp2cDg8mYbABL/BIt/XwVFA34sBvlIf42W\n",
       "iL6Xh6DIDqT2J+RgxCbP5/ftCpGFHSocCG4q7bwV+BU+hB3IETrooRULUaik1+/cwirL/KQwWC7H\n",
       "CSHh8VJywSKLKMkxyC8TMJuHj35wXef9tjcYWZLyi9Xm25zXxruw2wxFWXftdZx8n0DBgkr0QXmQ\n",
       "6vEroUaEQBjtAn4oFXlIx3EAORHV0EKB3S+1lXrNP6hpxf83kCM6ascaOFcqfdWCSfedOQNzrvrx\n",
       "XLm0XqSU/3nE4xdUc91yUGD5kOxodStzTf4CkIOuacg86RkLiEwqlnoiifIUEP/iKDlOCXFiD03q\n",
       "jM65UFUzT/xHqmoOOjk8+wCIThFLj7MoSdZEQVj9uI3th8lLOwFSOkd8PckIhKBYOR3MAAqhAz2W\n",
       "n4x70t1JnuMW0u/2gZLwB+1ffK7kRDAAHiNA2b8RRdcaXZfULycYWIqx2Mm/IMOqS7b8mtSFSK4J\n",
       "L7ZKwJV8i6oAWfYLXBGOffAduzs/cyT4JtvuIAA2uo/EMowkZY4mZ+go4dDkobLxSpVhPisUqvia\n",
       "zNMjulnWJntpzYhQupmtFehN7+ZURDuTViYCLzDojQJI+I8VCBmwxrb/IMnCz+kLc/eMJkVxaB3W\n",
       "8ZPcUCEmmpUH+5tZ4W8n/ZQKvbBA732Do8FTg5gVbX29xbzbiNLEH8TDJhaDhDB5J7mF/ZLnDpKr\n",
       "w5t7Pdyz9fd7RSkqljF9iaMLmg5ijNhZT7p1Oimo8tziQOoYf46SF41//gqKXzvq/51FNTDc/X2i\n",
       "dBXnE5wu1XUp7l2MphAXswDqw88SViJER8IOMZugmL3ZE29Z5Y4K3mh/KhPWUFMaSHBuvt0fXe+I\n",
       "Jafj+Dyu1jqI45XEmas6Lk+qdQ/18WgSxjcRd2FSSZzM/2jucbTghtD5kEP1OTHMMH9+6EbpOBP/\n",
       "thiG8Jp8SB+L7WX4vtJaYLPwnjORYtVxMvyuiZRixmmBRJdL4tZPCMUNMLtqxOu5tSTXSdtZwVsl\n",
       "zLbQYMO/u/LmXdlP2hln6kEhIGoomS/PWuOQyeeQR1rq7ouTVRTdLPjf0zYHnKSGiiqj2ggo3VRt\n",
       "06iabrEBtl914XadKpBRsN3ZpIJ0ROZBqjPC593VOaI5P5lStNt6X+b+hz/1frh9VTajB6s+az81\n",
       "gxFl66AwZ3HqdVqxbhcKU3wOk8f7jfFY+itgbjRkNl4PMgENM+r0culvbU+IljvbRahmGfhqcAB4\n",
       "bk9M1EN1NjVAPlYAhm/sEkOuKHcYpwOU8piNgu38UY73IFQDW3aOnkAg0nRou/+SqGhevHxTYwlG\n",
       "C04/cl85Dw2faKLSmRQfsdDctkAMOKCGEKzQMoFy92Xn4ERqx1V270HAfRXtovv/PKR74XZWESSV\n",
       "YDLPLqiBlbsd8cnTnoiBkB992Yw9sv5Ob9hGfguPFNXn/+i0tpq8ZHKPtnYV+Icfzuv9me/T0tx8\n",
       "mVFYTug/4ZdG6tGd68OPDX0puWe7i38SFlXMA6ft2Y2JD6bTJYWlxi8tDI7F+O6SKeQ4tiQr90BZ\n",
       "OXM/zHPlGbKOsh1qKYxHGetHNJbrad4QCxuyQQ+xh++x47k7iHtcZWQFaD2NqwF3qnLdHhcHB0ei\n",
       "bx42k84VBHdUNCTPYZqFVia3pr9+uWJqD2lJbl9cJGtD/suU3VpIeQAABJNBnw5FFSwW/wAA6fSN\n",
       "aBaoAGr8E/xCNpKOK2uDdhtf/GGvvCkqKK/8KHX/F1/xEKTSCHfN7LFGlVZJAqfRynM7WcReI0wM\n",
       "pu+e/yD5/Dafyd8xc027zI2CNSrxz9jd29Igw02a2OXWvfWPxbkSJOoKvVhWFio0xAiGYdWN8pE8\n",
       "G73G2JzkeAq0nX8yuFB6SVduTcVG1ofj+mSqthDDbEfOKv9Wg4AbZQ9zAVdQonf8BRSnt0ANI7VW\n",
       "yCtbmWH+079zRkGw7Zr9Qx0U5idZ8ZMlLJYa3vvQLz/guMO7WoHzTj5Do4icr8DIFGSpnMIg2ooX\n",
       "oaS6D0Eryz3YehhtGIQ5BJ5IgXNxxJV9tk5zzGz7n02ck+th9tiDzSdcycPvNhENk0+qhwZ8P9PV\n",
       "zFOpw0C2P83ssgmh1z/1zV8pi5bjpaIF7LBgJu6zGThbJxYqIClPpH9Q8UG2zsFnyvt1hVBFQhWR\n",
       "5HalZndIFzydlAJl6PfhtQ4CbhbqbYgwcNIsFa+4DUU6ndMIBMAD322pctaCyRtyoKyDe9pIyyKN\n",
       "PVlC6ngVnwDFplUy2btNo/X7DQpI2ObMRkV8cpuoMhQ53iAAvXG8f9aV95cVOCeKOLCt23JokGFF\n",
       "l3/clwB2sHtwQFcmzUtbJLLlcWppkBc6DEKe9OaAaqnwRlXe4fAtAVlw/oR7XewX23BQbqA5w3nK\n",
       "jlLBoDFrTMPMm51066mx6N3Se9wZzaB5BGcikF65yQVHjo2K0TF9unCkZYyf4Z5k81grwimSVfxD\n",
       "aM8R1NF4xAC4X3lnyOmOvIIZaVIHUoFa8j71BLQiX6R53SZkoGBP8jiofoPsG0PcDrDY4SEsruZ0\n",
       "WwHrxstNzOQSS2pfO982GzhitOl45REJG7LsuBq9OSMflGbmu1Opm4KQRjjKBs45hgh0FNMbjoBO\n",
       "xI4rnmlbTkJm748DyhmUbnn9fO+V7slNx3njaGk0ydgj3b5/phL3DwYZ9JsoKHmo8hEgWPvZgd5I\n",
       "tn2Ozheh8HR1yCvQg2xokqDB+t6zw9nb4Z6cSW2CaUfTt0CtlLCl6lOUHmaXkvy8BeLHQB+jsl9w\n",
       "JTfXGD5FbfRhFzzMopbQ/NCpV+MOegqwo5LGF8oN1HU4sDFhfqqt+UFR/wK7Irgrd1Jq4NOe0yzR\n",
       "XqOwNznIwDJvcWxTx9n7++GYYCPlMjqvv6FSdYyV4/aqrHAFIEvQ+PhoGJ/B/u3L7jRxzY6R34g4\n",
       "HIrJjagGerRvZLBAOma3bEF5IZy01vUvxUtV/CjetgQvgEAiQ6dpEXRihN36FnoO+w4TY6HakOuB\n",
       "2S3UQhcSjRtYLuDQ1vJz1nuYcCxrPCI6maFVVLCtVnIQXGZ1pzufpHsumQRUICEURpmj1KuL7tU/\n",
       "NgZLukfEgQpFMWO4gJeU1s8vM7BgqVLmIKKTyH+z0qo4Ul99skavKc+LssM3ONCh6JyT0hd/Y4j1\n",
       "alya6FBc4VmaZHo1nperOqvUPEQ3T5uQNCmGVHjut3lbXwnqpVnm6A4ku5qmzreVoDYQPWzFc/pr\n",
       "lcbuj93URKkLVjW4CZD1vriBAAABhwGfLXRBXwABbjSbAtiyoSPLIADr5I7G9J2J8+ypm6AfGD+0\n",
       "Ngj3LMcuqnZ1UTwSlAOmf04hXbX60PpSyFXPqCqco4/FS4shmt/Z95VNjiHTPZewNGvHUS6THGnB\n",
       "OH1fngeDjOc3GTQMbKthJWn8aEsy8Hx+7d2qPg44QMIbkIfZEat50yg0jw++yAtYGaMojWtdSGuC\n",
       "HANz8PTlhl6lqME31mWJHTCkU+8lqFw9a5p33eppiDpf0k9NlnMWbyhsOvv6FIFdKmA9A98PH8ST\n",
       "O4+TztiAJe2fjcJsM7VKtQTBpiVHy2apJdKnNokcYVIwZUrq7KlG9bFhTKbsg648Xe3oKUOm5CdC\n",
       "KD2v9LnfkZGeIGiOT0RXPLONFFt9RHG3JfBnBqdki43EgefI1yIw6aQ6LUbXN/zhOhQ8Tgb4+PN9\n",
       "i2JHm+GI6e2/oddWdIj2YkKNoesf5BmgK+VjXHv7JNSR5wlsL+JJV56q+BwV8J0KsSwJeBMyNS8r\n",
       "0bvVmwxVZkx+iw5JBN0AAAKfAZ8vakFfAAFx6jQlkABy7tnrE5B50pcp/CvYmh/sVgD8n5TQC/Hy\n",
       "x6pLeR7tKlRHObpCZl270rKFRf21ArseHcibY44CaFJHGTOcDCPX/8IU8QAqkFfoW3fMvAQ45ycv\n",
       "iUwYK3AzcTiA/ax3In2qwJ0MJNlRn94m4gN/625zKyQWtf0QjHIgAwo8rjj0lDKeiqEyRtVM3fmQ\n",
       "CcWg5NBIjmE1OjfYFn0OwCNaR7dkRN+YwZVK/HvjZV8JxdRCi77MmcqdG/eth/1MIq60hSuDCcwP\n",
       "ho4rH7Xlnh9eVe4u5TD7Mu1QGGxBdTPn0M7e/KRV8wn/KBMT8Al+XKz3aVko3sYRSStcWSyGmDxI\n",
       "QI1IWGG2xyqEktzMYB2SYzpIFSTn3FqV440Z+Bs6VFGA3MNkgWzLrU707Hl6YR3yo0F8/QrZnwGx\n",
       "LQh+1a1eyFa5x2o5Yy30uOyhv5vrOfrtc45dFSUzH0Gxd1i9n4S9W3hdfFd1VblZt7b55lCNO7NL\n",
       "UFCPe1+VxLwQpxDsuWsn5jTFtVJZfR+HmcwBFHpm8oRpkF/DX5vsbRgctsKf8G/+yb3+AlFAT41O\n",
       "yqL/UTKBzb7ZcAK3FRIm2XkOtwOsJW6SMPOayQHw6vwZID0Qsy3EfsMMHXVuZ0BbA2YuCYHC/dP3\n",
       "a17M/y7xLKHzrzWQX9Zo9zjiRmSwWz9NZhE2CQLM7WaZJLEIqEOPkIPvZaXjE1ssaic5D6L7RM4Z\n",
       "3GTltqehadjT1exZ8pOF/ldfaCOofwJHx+3L69aqFmFDo8zYDaDjv7wqADKApf/z9agz5J22/m/h\n",
       "5/UMVpCwg1jcizkhA9VLi8oSTpETqacrLkDRnBMrLN04K8iVFZoBav7hwMjKIScMa99P1JVC3BSB\n",
       "QubbjpgAAAU0QZsxSahBbJlMCCv//talUAIgt94FAAdm6EQwlsqjpUSL7Jcx6syORdmL/M+tmtTG\n",
       "2dv5cXRg0/D6tikcHvcVwdjiF2Zna/s1vyytCHy5k20RJQmz9xD97UD52x7Lzrga4YS//AncOC3j\n",
       "pC1pfMuFSgHdf+L6F5oDam0qBnnWDIc5K5ZUG6n1a+wEmw3kLCbCJaCtuluR9CiHJWk0xDqVTWX6\n",
       "+UZlJurJ/lzkjNHioi3nM0mbO2uJkaxJX2zeTnZiOdhggnNWX0CmuU3MmTxq+xqZH/FNeznhESVm\n",
       "pNwe/9EFeiJsJcsnW7TsFdvcEpPZiGDvTm7Mrd+HvXsUktl9yxOZ9PZnyl/Aw5UQLHzEfTg9b/iq\n",
       "FFsBD+DD3J1x8B563Qt8FhYFfM95P8P6k4qxLeIUmKWzfGCYXuPUKEBLV9UUnu234fkU+CqDp86K\n",
       "UO3VnrSvzBCAM05oCHxNnVDfisPY94PYbQ6c10dZ3mSO1XSs2lMxciv+UrwwQ23SVKDItzIEC3Q8\n",
       "ibLi8QmAFfFcuvlYq8Var3lixXHEADNcknhvnpwfXqUIeAFr7ZAVHPP9rRPUCD2/6VYifzk8cgXX\n",
       "2wVatxXEEDdFrfvX3TlM1VcfW86RbbloMOnVSVrjHn6tjMfEmM9QpOsg0AU9p8sEtksgwyGQHGMS\n",
       "PXdNImPcmsEsZU7WyIoui23YaA19ExPL7gTC0Xrf1/BpdJfwqMa8GxQiAwEgtcrOwpGQponm3kHu\n",
       "5ahRMFFPFRMgAE9IoAwR4GisP1GMmtOX+8wIX0/uYU+0MWNGqwMe+iVpGUD22c+OqEsu+v7ON5ES\n",
       "xwv0uhQRm/zDTsNc+t1vO++y6Qz92dJ3tJBvsuGF+bpGd4EHrHlAdW5YHNAqAaBVrs194mh89XHx\n",
       "fTOwpFDv8VZBWkfl0qEiKKHDa4pq33kNEqxToL8YxCCJqKuwjYMjlm8igWywrIJJxJyaH6bZo8oK\n",
       "xywh20ta/+1bMqUlIlIMO3aczhzBvkYHWeAnTYuae4+tb9hLLCWgEQaNsUvmRiFL8UOqRFNqXhXJ\n",
       "2+6polvNQEXv3zDrVYo65nUANiMIghIKuSBknQiylGXHpkFij4gu3YpHY0eRMm8Or1rrLVdeD+4P\n",
       "6KzjmvwxRR03mrIy8XA0V+G0Ch0V/AxztOcPyPeIeK9EK0E6rsooQcINGJdooQrU1tw1oRRC/38d\n",
       "JcMb8Go8VFpgHptIe4h6I5O5xVHsUAEj8fVloHDJyoIZT+FpnfJWXLQ8GbRAhyhPor8Kxd+fLf4D\n",
       "YhK0+K9MaTQD6uyqBXWLdIKjT1jGZavZPyPorGb1jaM2RBhg7QCQxYSi1Q9SsPQgzLqqPDFWhKkd\n",
       "aNjHwya0KSQpyDlz7TGR9nYZqNgRA5VUTITPVo4h3ERPNPz85oMAaHMpmCa521z4e7HfRR6nobkJ\n",
       "1UxOmZrYpWyoq+a2E8Gadqm2ShpZTwq0QBYV0aOwj8fB6tZTuH9ZM7GWDzy0TlYgrZZbJ4XDdkYI\n",
       "1YE9dtAKtw31W/0PEVNpXxk1LOQ2enZj0d6ENGlVggkSc4tZmkLALXNEF9qYHyi6nq47XZYuO13L\n",
       "d1+c4szhOgZRjvRL8UsHWWOUerFuhJFOaI/5mHkw0XxVOlUtNAQyb1fu9h8mPuJupGhAuhF75S0F\n",
       "pWBecdcentfMIbEBe9w3UgErEz1E5eQTWRwiPh026Zp7YlMCNOJm2z/B3qDYuJ9rfEnJfmI7oMsz\n",
       "JMua+85IP6LuXd/Mgb5I+BIANHY/EoXMpPVtDwKGAAAECG1vb3YAAABsbXZoZAAAAAAAAAAAAAAA\n",
       "AAAAA+gAAEZQAAEAAAEAAAAAAAAAAAAAAAABAAAAAAAAAAAAAAAAAAAAAQAAAAAAAAAAAAAAAAAA\n",
       "QAAAAAAAAAAAAAAAAAAAAAAAAAAAAAAAAAAAAAAAAAIAAAMydHJhawAAAFx0a2hkAAAAAwAAAAAA\n",
       "AAAAAAAAAQAAAAAAAEZQAAAAAAAAAAAAAAAAAAAAAAABAAAAAAAAAAAAAAAAAAAAAQAAAAAAAAAA\n",
       "AAAAAAAAQAAAAAFoAAABaAAAAAAAJGVkdHMAAAAcZWxzdAAAAAAAAAABAABGUAAAgAAAAQAAAAAC\n",
       "qm1kaWEAAAAgbWRoZAAAAAAAAAAAAAAAAAAAQAAABIAAVcQAAAAAAC1oZGxyAAAAAAAAAAB2aWRl\n",
       "AAAAAAAAAAAAAAAAVmlkZW9IYW5kbGVyAAAAAlVtaW5mAAAAFHZtaGQAAAABAAAAAAAAAAAAAAAk\n",
       "ZGluZgAAABxkcmVmAAAAAAAAAAEAAAAMdXJsIAAAAAEAAAIVc3RibAAAALVzdHNkAAAAAAAAAAEA\n",
       "AAClYXZjMQAAAAAAAAABAAAAAAAAAAAAAAAAAAAAAAFoAWgASAAAAEgAAAAAAAAAAQAAAAAAAAAA\n",
       "AAAAAAAAAAAAAAAAAAAAAAAAAAAAAAAAABj//wAAADNhdmNDAWQAFf/hABpnZAAVrNlBcL+WWEAA\n",
       "AAMAQAAAAwCDxYtlgAEABmjr48siwAAAABx1dWlka2hA8l8kT8W6OaUbzwMj8wAAAAAAAAAYc3R0\n",
       "cwAAAAAAAAABAAAAEgAAQAAAAAAUc3RzcwAAAAAAAAABAAAAAQAAAKBjdHRzAAAAAAAAABIAAAAB\n",
       "AACAAAAAAAEAAUAAAAAAAQAAgAAAAAABAAAAAAAAAAEAAEAAAAAAAQABQAAAAAABAACAAAAAAAEA\n",
       "AAAAAAAAAQAAQAAAAAABAAFAAAAAAAEAAIAAAAAAAQAAAAAAAAABAABAAAAAAAEAAUAAAAAAAQAA\n",
       "gAAAAAABAAAAAAAAAAEAAEAAAAAAAQAAgAAAAAAcc3RzYwAAAAAAAAABAAAAAQAAABIAAAABAAAA\n",
       "XHN0c3oAAAAAAAAAAAAAABIAACcZAAAKnwAAAqIAAAI1AAABmgAABx0AAAGxAAABfQAAAOwAAAbB\n",
       "AAABowAAATYAAAIJAAAIQQAABJcAAAGLAAACowAABTgAAAAUc3RjbwAAAAAAAAABAAAALAAAAGJ1\n",
       "ZHRhAAAAWm1ldGEAAAAAAAAAIWhkbHIAAAAAAAAAAG1kaXJhcHBsAAAAAAAAAAAAAAAALWlsc3QA\n",
       "AAAlqXRvbwAAAB1kYXRhAAAAAQAAAABMYXZmNTguMjkuMTAw\n",
       "\">\n",
       "  Your browser does not support the video tag.\n",
       "</video>"
      ],
      "text/plain": [
       "<IPython.core.display.HTML object>"
      ]
     },
     "execution_count": 274,
     "metadata": {},
     "output_type": "execute_result"
    },
    {
     "data": {
      "image/png": "[encoded data removed]",
      "text/plain": [
       "<Figure size 360x360 with 2 Axes>"
      ]
     },
     "metadata": {},
     "output_type": "display_data"
    }
   ],
   "source": [
    "# video de la cobertura del suelo anual de MODIS\n",
    "animate3Darray(Data['MODIS'][var], Data['MODIS']['dates'], minmax=[1, 11],\n",
    "               cblabel=var + ' (' + units + ')', cmap='summer', fps=1,\n",
    "               pathfile=rutaExport + var + 'deva_MODIS.mp4')"
   ]
  },
  {
   "cell_type": "code",
   "execution_count": 275,
   "metadata": {},
   "outputs": [
    {
     "data": {
      "image/png": "[encoded data removed]",
      "text/plain": [
       "<Figure size 576x288 with 2 Axes>"
      ]
     },
     "metadata": {},
     "output_type": "display_data"
    }
   ],
   "source": [
    "fig, axes = plt.subplots(ncols=2, figsize=(8, 4))\n",
    "\n",
    "for ax, src in zip(axes, ['MODIS_', 'TETIS_']):\n",
    "    ax.imshow(Data[src][var], cmap='summer')\n",
    "    ax.set_title(src[:-1], fontsize=13, fontweight='bold')\n",
    "    ax.axis('off');"
   ]
  },
  {
   "cell_type": "code",
   "execution_count": 276,
   "metadata": {},
   "outputs": [],
   "source": [
    "# 'Data frame' con la fracción de cuenca perteneciente a cada clase en ambos mapas\n",
    "LC = pd.DataFrame(index=TETISclass.keys())\n",
    "for src in ['MODIS_', 'TETIS_']:\n",
    "    unq, cnt = np.unique(Data[src][var], return_counts=True)\n",
    "    mask = ~np.isnan(unq)\n",
    "    unq, cnt = unq[mask], cnt[mask]\n",
    "    LC.loc[unq, src] = cnt / np.sum(cnt)\n",
    "LC.index = [TETISclass[c] for c in TETISclass]"
   ]
  },
  {
   "cell_type": "code",
   "execution_count": 278,
   "metadata": {},
   "outputs": [
    {
     "data": {
      "image/png": "[encoded data removed]",
      "text/plain": [
       "<Figure size 1008x288 with 3 Axes>"
      ]
     },
     "metadata": {},
     "output_type": "display_data"
    }
   ],
   "source": [
    "fig, axes = plt.subplots(ncols=3, figsize=(14, 4))\n",
    "\n",
    "for ax, src in zip(axes, ['MODIS_', 'TETIS_']):\n",
    "    ax.imshow(Data[src][var], cmap='summer')\n",
    "    ax.set_title(src[:-1], fontsize=13, fontweight='bold')\n",
    "    ax.axis('off');  \n",
    "    axes[2].bar(LC.index, LC[src], alpha=.5, label=src[:-1])\n",
    "\n",
    "axes[2].set_ylabel('fracción de cuenca (-)', fontsize=12)\n",
    "axes[2].set_ylim(0, 1)\n",
    "axes[2].legend(loc=1);\n",
    "\n",
    "plt.savefig(rutaExport + 'Comparativa usos del suelo MODISvsTETIS.png', dpi=300, tight_layout=True)"
   ]
  },
  {
   "cell_type": "markdown",
   "metadata": {},
   "source": [
    "Hay un __acuerdo relativamente pobre entre la clasificación de los usos del suelo de MODIS y TETIS__. En ambos casos la clase más frecuente es el basque caducifolio ($BLF$), pero la fracción de cuenca ocupada por esta clase es muy superior en MODIS ($66\\%$) que en TETIS ($44\\%$). La principal causa de esta sobrevaloración del bosque en MODIS es que asume una lína de bosque a mayor altitud que TETIS, de manera que buena parte de la cuenca considerada arbusto en TETIS es considerada como bosque en MODIS.\n",
    "\n",
    "A su vez, MODIS infravalora la superficie de terreno desnudo (prácticamente inexistente) y sobrevalora el pasto, considerando como pastos zonas consideradas como arbusto en TETIS."
   ]
  },
  {
   "cell_type": "code",
   "execution_count": 279,
   "metadata": {},
   "outputs": [],
   "source": [
    "from sklearn.metrics import roc_auc_score"
   ]
  },
  {
   "cell_type": "code",
   "execution_count": 280,
   "metadata": {},
   "outputs": [
    {
     "data": {
      "text/plain": [
       "(1373, 2)"
      ]
     },
     "execution_count": 280,
     "metadata": {},
     "output_type": "execute_result"
    }
   ],
   "source": [
    "# convertir los dos mapas en una matriz de dos filas y n (nº celdas) conlumnas\n",
    "y = np.vstack((Data['MODIS_'][var].flatten(),\n",
    "               Data['TETIS_'][var].flatten()))\n",
    "# eliminar columnas con algún NaN\n",
    "y = y[:, ~np.any(np.isnan(y), axis=0)]\n",
    "# convertir en enteros y transponer\n",
    "y = y.astype('int').transpose()\n",
    "y.shape"
   ]
  },
  {
   "cell_type": "code",
   "execution_count": 281,
   "metadata": {},
   "outputs": [],
   "source": [
    "# crear 'target arrays' para la función de sklearn\n",
    "y_true = np.zeros((y.shape[0], len(TETISclass)))\n",
    "y_score = y_true.copy()\n",
    "for i in range(y.shape[0]):\n",
    "    y_true[i,y[i,0] - 1] = 1\n",
    "    y_score[i,y[i,1] - 1] = 1"
   ]
  },
  {
   "cell_type": "code",
   "execution_count": 282,
   "metadata": {},
   "outputs": [
    {
     "data": {
      "text/plain": [
       "array([911.,   0., 167., 277.,  14.,   1.,   3.])"
      ]
     },
     "execution_count": 282,
     "metadata": {},
     "output_type": "execute_result"
    }
   ],
   "source": [
    "np.sum(y_true, axis=0)"
   ]
  },
  {
   "cell_type": "code",
   "execution_count": 283,
   "metadata": {},
   "outputs": [
    {
     "data": {
      "text/plain": [
       "array([640.,   1., 496., 149.,  86.,   1.,   0.])"
      ]
     },
     "execution_count": 283,
     "metadata": {},
     "output_type": "execute_result"
    }
   ],
   "source": [
    "np.sum(y_score, axis=0)"
   ]
  },
  {
   "cell_type": "code",
   "execution_count": 284,
   "metadata": {},
   "outputs": [
    {
     "ename": "ValueError",
     "evalue": "Only one class present in y_true. ROC AUC score is not defined in that case.",
     "output_type": "error",
     "traceback": [
      "\u001b[1;31m---------------------------------------------------------------------------\u001b[0m",
      "\u001b[1;31mValueError\u001b[0m                                Traceback (most recent call last)",
      "\u001b[1;32m<ipython-input-284-62c1b4ef1ecc>\u001b[0m in \u001b[0;36m<module>\u001b[1;34m\u001b[0m\n\u001b[0;32m      1\u001b[0m \u001b[1;31m# calcuar ROC_AUC\u001b[0m\u001b[1;33m\u001b[0m\u001b[1;33m\u001b[0m\u001b[1;33m\u001b[0m\u001b[0m\n\u001b[1;32m----> 2\u001b[1;33m \u001b[0mroc_auc_score\u001b[0m\u001b[1;33m(\u001b[0m\u001b[0my_true\u001b[0m\u001b[1;33m,\u001b[0m \u001b[0my_score\u001b[0m\u001b[1;33m,\u001b[0m \u001b[0maverage\u001b[0m\u001b[1;33m=\u001b[0m\u001b[1;34m'weighted'\u001b[0m\u001b[1;33m)\u001b[0m\u001b[1;33m\u001b[0m\u001b[1;33m\u001b[0m\u001b[0m\n\u001b[0m",
      "\u001b[1;32mC:\\Anaconda3\\envs\\test\\lib\\site-packages\\sklearn\\metrics\\_ranking.py\u001b[0m in \u001b[0;36mroc_auc_score\u001b[1;34m(y_true, y_score, average, sample_weight, max_fpr, multi_class, labels)\u001b[0m\n\u001b[0;32m    393\u001b[0m                                              max_fpr=max_fpr),\n\u001b[0;32m    394\u001b[0m                                      \u001b[0my_true\u001b[0m\u001b[1;33m,\u001b[0m \u001b[0my_score\u001b[0m\u001b[1;33m,\u001b[0m \u001b[0maverage\u001b[0m\u001b[1;33m,\u001b[0m\u001b[1;33m\u001b[0m\u001b[1;33m\u001b[0m\u001b[0m\n\u001b[1;32m--> 395\u001b[1;33m                                      sample_weight=sample_weight)\n\u001b[0m\u001b[0;32m    396\u001b[0m \u001b[1;33m\u001b[0m\u001b[0m\n\u001b[0;32m    397\u001b[0m \u001b[1;33m\u001b[0m\u001b[0m\n",
      "\u001b[1;32mC:\\Anaconda3\\envs\\test\\lib\\site-packages\\sklearn\\metrics\\_base.py\u001b[0m in \u001b[0;36m_average_binary_score\u001b[1;34m(binary_metric, y_true, y_score, average, sample_weight)\u001b[0m\n\u001b[0;32m    118\u001b[0m         \u001b[0my_score_c\u001b[0m \u001b[1;33m=\u001b[0m \u001b[0my_score\u001b[0m\u001b[1;33m.\u001b[0m\u001b[0mtake\u001b[0m\u001b[1;33m(\u001b[0m\u001b[1;33m[\u001b[0m\u001b[0mc\u001b[0m\u001b[1;33m]\u001b[0m\u001b[1;33m,\u001b[0m \u001b[0maxis\u001b[0m\u001b[1;33m=\u001b[0m\u001b[0mnot_average_axis\u001b[0m\u001b[1;33m)\u001b[0m\u001b[1;33m.\u001b[0m\u001b[0mravel\u001b[0m\u001b[1;33m(\u001b[0m\u001b[1;33m)\u001b[0m\u001b[1;33m\u001b[0m\u001b[1;33m\u001b[0m\u001b[0m\n\u001b[0;32m    119\u001b[0m         score[c] = binary_metric(y_true_c, y_score_c,\n\u001b[1;32m--> 120\u001b[1;33m                                  sample_weight=score_weight)\n\u001b[0m\u001b[0;32m    121\u001b[0m \u001b[1;33m\u001b[0m\u001b[0m\n\u001b[0;32m    122\u001b[0m     \u001b[1;31m# Average the results\u001b[0m\u001b[1;33m\u001b[0m\u001b[1;33m\u001b[0m\u001b[1;33m\u001b[0m\u001b[0m\n",
      "\u001b[1;32mC:\\Anaconda3\\envs\\test\\lib\\site-packages\\sklearn\\metrics\\_ranking.py\u001b[0m in \u001b[0;36m_binary_roc_auc_score\u001b[1;34m(y_true, y_score, sample_weight, max_fpr)\u001b[0m\n\u001b[0;32m    219\u001b[0m     \u001b[1;34m\"\"\"Binary roc auc score\"\"\"\u001b[0m\u001b[1;33m\u001b[0m\u001b[1;33m\u001b[0m\u001b[0m\n\u001b[0;32m    220\u001b[0m     \u001b[1;32mif\u001b[0m \u001b[0mlen\u001b[0m\u001b[1;33m(\u001b[0m\u001b[0mnp\u001b[0m\u001b[1;33m.\u001b[0m\u001b[0munique\u001b[0m\u001b[1;33m(\u001b[0m\u001b[0my_true\u001b[0m\u001b[1;33m)\u001b[0m\u001b[1;33m)\u001b[0m \u001b[1;33m!=\u001b[0m \u001b[1;36m2\u001b[0m\u001b[1;33m:\u001b[0m\u001b[1;33m\u001b[0m\u001b[1;33m\u001b[0m\u001b[0m\n\u001b[1;32m--> 221\u001b[1;33m         raise ValueError(\"Only one class present in y_true. ROC AUC score \"\n\u001b[0m\u001b[0;32m    222\u001b[0m                          \"is not defined in that case.\")\n\u001b[0;32m    223\u001b[0m \u001b[1;33m\u001b[0m\u001b[0m\n",
      "\u001b[1;31mValueError\u001b[0m: Only one class present in y_true. ROC AUC score is not defined in that case."
     ]
    }
   ],
   "source": [
    "# calcuar ROC_AUC\n",
    "roc_auc_score(y_true, y_score, average='weighted')"
   ]
  },
  {
   "cell_type": "code",
   "execution_count": 232,
   "metadata": {},
   "outputs": [
    {
     "data": {
      "text/plain": [
       "array([[4., 3.],\n",
       "       [4., 5.],\n",
       "       [4., 5.],\n",
       "       ...,\n",
       "       [4., 3.],\n",
       "       [4., 3.],\n",
       "       [4., 3.]])"
      ]
     },
     "execution_count": 232,
     "metadata": {},
     "output_type": "execute_result"
    }
   ],
   "source": [
    "y.transpose()"
   ]
  },
  {
   "cell_type": "code",
   "execution_count": 244,
   "metadata": {},
   "outputs": [
    {
     "data": {
      "text/plain": [
       "7"
      ]
     },
     "execution_count": 244,
     "metadata": {},
     "output_type": "execute_result"
    }
   ],
   "source": [
    "len(TETISclass)"
   ]
  },
  {
   "cell_type": "code",
   "execution_count": 246,
   "metadata": {},
   "outputs": [],
   "source": []
  },
  {
   "cell_type": "code",
   "execution_count": 247,
   "metadata": {},
   "outputs": [
    {
     "name": "stdout",
     "output_type": "stream",
     "text": [
      "1\n",
      "2\n",
      "3\n",
      "4\n",
      "5\n",
      "6\n",
      "7\n"
     ]
    }
   ],
   "source": [
    "for j, c in enumerate(TETISclass):\n",
    "    for i in range(y.shape[0]):\n",
    "        "
   ]
  },
  {
   "cell_type": "code",
   "execution_count": 250,
   "metadata": {},
   "outputs": [],
   "source": []
  },
  {
   "cell_type": "code",
   "execution_count": 251,
   "metadata": {},
   "outputs": [
    {
     "data": {
      "text/plain": [
       "array([[0., 0., 0., ..., 1., 0., 0.],\n",
       "       [0., 0., 0., ..., 1., 0., 0.],\n",
       "       [0., 0., 0., ..., 1., 0., 0.],\n",
       "       ...,\n",
       "       [0., 0., 0., ..., 0., 0., 0.],\n",
       "       [0., 0., 0., ..., 0., 0., 0.],\n",
       "       [0., 0., 0., ..., 0., 0., 0.]])"
      ]
     },
     "execution_count": 251,
     "metadata": {},
     "output_type": "execute_result"
    }
   ],
   "source": [
    "y_true"
   ]
  },
  {
   "cell_type": "code",
   "execution_count": null,
   "metadata": {},
   "outputs": [],
   "source": []
  }
 ],
 "metadata": {
  "kernelspec": {
   "display_name": "Python 3",
   "language": "python",
   "name": "python3"
  },
  "language_info": {
   "codemirror_mode": {
    "name": "ipython",
    "version": 3
   },
   "file_extension": ".py",
   "mimetype": "text/x-python",
   "name": "python",
   "nbconvert_exporter": "python",
   "pygments_lexer": "ipython3",
   "version": "3.7.3"
  },
  "varInspector": {
   "cols": {
    "lenName": 16,
    "lenType": 16,
    "lenVar": 40
   },
   "kernels_config": {
    "python": {
     "delete_cmd_postfix": "",
     "delete_cmd_prefix": "del ",
     "library": "var_list.py",
     "varRefreshCmd": "print(var_dic_list())"
    },
    "r": {
     "delete_cmd_postfix": ") ",
     "delete_cmd_prefix": "rm(",
     "library": "var_list.r",
     "varRefreshCmd": "cat(var_dic_list()) "
    }
   },
   "types_to_exclude": [
    "module",
    "function",
    "builtin_function_or_method",
    "instance",
    "_Feature"
   ],
   "window_display": false
  }
 },
 "nbformat": 4,
 "nbformat_minor": 4
}
