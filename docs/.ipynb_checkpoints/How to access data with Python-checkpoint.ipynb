{
 "cells": [
  {
   "cell_type": "markdown",
   "metadata": {},
   "source": [
    "Taken and modified (from Python 2 to Python 3) from https://wiki.earthdata.nasa.gov/display/EL/How+To+Access+Data+With+Python"
   ]
  },
  {
   "cell_type": "code",
   "execution_count": 11,
   "metadata": {},
   "outputs": [],
   "source": [
    "#!/usr/bin/python\n",
    "# from cookielib import CookieJar\n",
    "from http.cookiejar import CookieJar\n",
    "# from urllib import urlencode\n",
    "import urllib.request\n",
    "import os\n",
    "\n",
    "# import urllib2\n",
    "# import urllib3"
   ]
  },
  {
   "cell_type": "code",
   "execution_count": 16,
   "metadata": {},
   "outputs": [],
   "source": [
    "# The user credentials that will be used to authenticate access to the data\n",
    "username = \"casadoj\"\n",
    "password = \"Chomolungma1619\""
   ]
  },
  {
   "cell_type": "code",
   "execution_count": 18,
   "metadata": {},
   "outputs": [],
   "source": [
    "# Create a password manager to deal with the 401 reponse that is returned from\n",
    "# Earthdata Login\n",
    " \n",
    "# password_manager = urllib2.HTTPPasswordMgrWithDefaultRealm()\n",
    "password_manager = urllib.request.HTTPPasswordMgrWithDefaultRealm()\n",
    "password_manager.add_password(None, \"https://urs.earthdata.nasa.gov\", username, password)"
   ]
  },
  {
   "cell_type": "code",
   "execution_count": 19,
   "metadata": {},
   "outputs": [],
   "source": [
    "# Create a cookie jar for storing cookies. This is used to store and return\n",
    "# the session cookie given to use by the data server (otherwise it will just\n",
    "# keep sending us back to Earthdata Login to authenticate).  Ideally, we\n",
    "# should use a file based cookie jar to preserve cookies between runs. This\n",
    "# will make it much more efficient.\n",
    "\n",
    "# cookie_jar = CookieJar()\n",
    "cookie_jar = CookieJar()"
   ]
  },
  {
   "cell_type": "code",
   "execution_count": 20,
   "metadata": {},
   "outputs": [],
   "source": [
    "# Install all the handlers.\n",
    "opener = urllib.request.build_opener(urllib.request.HTTPBasicAuthHandler(password_manager),\n",
    "                                     #urllib2.HTTPHandler(debuglevel=1),    # Uncomment these two lines to see\n",
    "                                     #urllib2.HTTPSHandler(debuglevel=1),   # details of the requests/responses\n",
    "                                     urllib.request.HTTPCookieProcessor(cookie_jar))\n",
    "urllib.request.install_opener(opener)"
   ]
  },
  {
   "cell_type": "markdown",
   "metadata": {},
   "source": [
    "#### Leer un .xml"
   ]
  },
  {
   "cell_type": "code",
   "execution_count": null,
   "metadata": {},
   "outputs": [],
   "source": [
    "# The url of the file we wish to retrieve\n",
    "url = \"https://e4ftl01.cr.usgs.gov/MOLT/MOD16A2.006/2018.12.27/MOD16A2.A2018361.h09v03.006.2019011135753.hdf.xml\""
   ]
  },
  {
   "cell_type": "code",
   "execution_count": 21,
   "metadata": {
    "scrolled": false
   },
   "outputs": [],
   "source": [
    "# Create and submit the request. There are a wide range of exceptions that\n",
    "# can be thrown here, including HTTPError and URLError. These should be\n",
    "# caught and handled.\n",
    "request = urllib.request.Request(url)\n",
    "response = urllib.request.urlopen(request)"
   ]
  },
  {
   "cell_type": "code",
   "execution_count": 22,
   "metadata": {
    "scrolled": true
   },
   "outputs": [
    {
     "name": "stdout",
     "output_type": "stream",
     "text": [
      "b'<?xml version=\"1.0\" encoding=\"UTF-8\"?>\\n<!DOCTYPE GranuleMetaDataFile SYSTEM \"http://ecsinfo.gsfc.nasa.gov/ECSInfo/ecsmetadata/dtds/DPL/ECS/ScienceGranuleMetadata.dtd\">\\n<GranuleMetaDataFile>\\n    <DTDVersion>1.0</DTDVersion>\\n    <DataCenterId>EDC</DataCenterId>\\n    <GranuleURMetaData>\\n        <GranuleUR>SC:MOD16A2.006:2326343016</GranuleUR>\\n        <DbID>2326343016</DbID>\\n        <InsertTime>2019-01-11 13:01:54.338</InsertTime>\\n        <LastUpdate>2019-01-11 13:01:54.338</LastUpdate>\\n        <CollectionMetaData>\\n            <ShortName>MOD16A2</ShortName>\\n            <VersionID>6</VersionID>\\n        </CollectionMetaData>\\n        <DataFiles>\\n            <DataFileContainer>\\n                <DistributedFileName>MOD16A2.A2018361.h09v03.006.2019011135753.hdf</DistributedFileName>\\n                <FileSize>1378835</FileSize>\\n                <ChecksumType>CKSUM</ChecksumType>\\n                <Checksum>3999461025</Checksum>\\n                <ChecksumOrigin>DPLIngst</ChecksumOrigin>\\n            </DataFileContainer>\\n        </DataFiles>\\n        <ECSDataGranule>\\n            <SizeMBECSDataGranule>1.31496</SizeMBECSDataGranule>\\n            <ReprocessingPlanned>further update is anticipated</ReprocessingPlanned>\\n            <ReprocessingActual>reprocessed</ReprocessingActual>\\n            <LocalGranuleID>MOD16A2.A2018361.h09v03.006.2019011135753.hdf</LocalGranuleID>\\n            <DayNightFlag>Day</DayNightFlag>\\n            <ProductionDateTime>2019-01-11 18:57:58.000</ProductionDateTime>\\n        </ECSDataGranule>\\n        <PGEVersionClass>\\n            <PGEVersion>6.0.0</PGEVersion>\\n        </PGEVersionClass>\\n        <RangeDateTime>\\n            <RangeEndingTime>23:59:59.000000</RangeEndingTime>\\n            <RangeEndingDate>2019-01-03</RangeEndingDate>\\n            <RangeBeginningTime>00:00:00.000000</RangeBeginningTime>\\n            <RangeBeginningDate>2018-12-27</RangeBeginningDate>\\n        </RangeDateTime>\\n        <SpatialDomainContainer>\\n            <HorizontalSpatialDomainContainer>\\n                <GPolygon>\\n                    <Boundary>\\n                        <Point>\\n                            <PointLongitude>-142.364077553873</PointLongitude>\\n                            <PointLatitude>49.4150183082863</PointLatitude>\\n                        </Point>\\n                        <Point>\\n                            <PointLongitude>170.89042396398</PointLongitude>\\n                            <PointLatitude>58.9202632662405</PointLatitude>\\n                        </Point>\\n                        <Point>\\n                            <PointLongitude>-161.119032315641</PointLongitude>\\n                            <PointLatitude>60.1620798082419</PointLatitude>\\n                        </Point>\\n                        <Point>\\n                            <PointLongitude>-124.112119586089</PointLongitude>\\n                            <PointLatitude>49.8103273842365</PointLatitude>\\n                        </Point>\\n                    </Boundary>\\n                </GPolygon>\\n            </HorizontalSpatialDomainContainer>\\n        </SpatialDomainContainer>\\n        <MeasuredParameter>\\n            <MeasuredParameterContainer>\\n                <ParameterName>MOD16A2</ParameterName>\\n                <QAStats>\\n                    <QAPercentMissingData>91</QAPercentMissingData>\\n                    <QAPercentOutofBoundsData>91</QAPercentOutofBoundsData>\\n                    <QAPercentInterpolatedData>0</QAPercentInterpolatedData>\\n                    <QAPercentCloudCover>5</QAPercentCloudCover>\\n                </QAStats>\\n                <QAFlags>\\n                    <AutomaticQualityFlag>Passed</AutomaticQualityFlag>\\n                    <AutomaticQualityFlagExplanation>No automatic quality assessment is performed in the PGE</AutomaticQualityFlagExplanation>\\n                    <OperationalQualityFlag>Passed</OperationalQualityFlag>\\n                    <OperationalQualityFlagExplanation>Passed</OperationalQualityFlagExplanation>\\n                    <ScienceQualityFlag>Not Investigated</ScienceQualityFlag>\\n                    <ScienceQualityFlagExplanation>See http://landweb.nascom/nasa.gov/cgi-bin/QA_WWW/qaFlagPage.cgi?sat=terra the product Science Quality status.</ScienceQualityFlagExplanation>\\n                </QAFlags>\\n            </MeasuredParameterContainer>\\n        </MeasuredParameter>\\n        <Platform>\\n            <PlatformShortName>Terra</PlatformShortName>\\n            <Instrument>\\n                <InstrumentShortName>MODIS</InstrumentShortName>\\n                <Sensor>\\n                    <SensorShortName>MODIS</SensorShortName>\\n                </Sensor>\\n            </Instrument>\\n        </Platform>\\n        <PSAs>\\n            <PSA>\\n                <PSAName>HORIZONTALTILENUMBER</PSAName>\\n                <PSAValue>09</PSAValue>\\n            </PSA>\\n            <PSA>\\n                <PSAName>VERTICALTILENUMBER</PSAName>\\n                <PSAValue>03</PSAValue>\\n            </PSA>\\n            <PSA>\\n                <PSAName>TileID</PSAName>\\n                <PSAValue>51009003</PSAValue>\\n            </PSA>\\n            <PSA>\\n                <PSAName>identifier_product_doi</PSAName>\\n                <PSAValue>10.5067/MODIS/MOD16A2.006</PSAValue>\\n            </PSA>\\n            <PSA>\\n                <PSAName>identifier_product_doi_authority</PSAName>\\n                <PSAValue>http://dx.doi.org</PSAValue>\\n            </PSA>\\n            <PSA>\\n                <PSAName>QAPERCENTGOODQUALITY</PSAName>\\n                <PSAValue>0</PSAValue>\\n            </PSA>\\n            <PSA>\\n                <PSAName>QAPERCENTOTHERQUALITY</PSAName>\\n                <PSAValue>100</PSAValue>\\n            </PSA>\\n        </PSAs>\\n        <InputGranule>\\n            <InputPointer>MCDLCHKM.A2010001.h09v03.051.2014287174112.hdf</InputPointer>\\n            <InputPointer>MOD15A2H.A2018361.h09v03.006.2019009092730.hdf</InputPointer>\\n            <InputPointer>MOD16A1.6.A2018.h09v03.hdf</InputPointer>\\n        </InputGranule>\\n        <BrowseProduct>\\n            <BrowseGranuleId>UR:10:DsShESDTUR:UR:15:DsShSciServerUR:13:[EDC:DSSDSRV]:24:BR:Browse.001:2326343027</BrowseGranuleId>\\n        </BrowseProduct>\\n    </GranuleURMetaData>\\n</GranuleMetaDataFile>\\n\\n\\n'\n"
     ]
    }
   ],
   "source": [
    "# Print out the result (not a good idea with binary data!)\n",
    "body = response.read()\n",
    "print(body)"
   ]
  },
  {
   "cell_type": "markdown",
   "metadata": {},
   "source": [
    "#### Descargar un hdf"
   ]
  },
  {
   "cell_type": "code",
   "execution_count": 25,
   "metadata": {},
   "outputs": [],
   "source": [
    "import os"
   ]
  },
  {
   "cell_type": "code",
   "execution_count": 26,
   "metadata": {},
   "outputs": [],
   "source": [
    "# path where the file will be saved\n",
    "os.chdir('F:/OneDrive - Universidad de Cantabria/Cartografia/MODIS/MOD16A2/')"
   ]
  },
  {
   "cell_type": "code",
   "execution_count": 32,
   "metadata": {},
   "outputs": [],
   "source": [
    "# The url of the file we wish to retrieve\n",
    "url = \"https://e4ftl01.cr.usgs.gov/MOLT/MOD16A2.006/2018.12.27/MOD16A2.A2018361.h09v03.006.2019011135753.hdf\"\n",
    "# name with which to save the file\n",
    "filename = url.split('/')[-1]"
   ]
  },
  {
   "cell_type": "code",
   "execution_count": 33,
   "metadata": {},
   "outputs": [
    {
     "data": {
      "text/plain": [
       "('MOD16A2.A2018361.h09v03.006.2019011135753.hdf',\n",
       " <http.client.HTTPMessage at 0x2a3bbee70f0>)"
      ]
     },
     "execution_count": 33,
     "metadata": {},
     "output_type": "execute_result"
    }
   ],
   "source": [
    "# descargar el archivo\n",
    "urllib.request.urlretrieve(url + filename, filename)"
   ]
  },
  {
   "cell_type": "code",
   "execution_count": null,
   "metadata": {},
   "outputs": [],
   "source": []
  }
 ],
 "metadata": {
  "kernelspec": {
   "display_name": "Python 3",
   "language": "python",
   "name": "python3"
  },
  "language_info": {
   "codemirror_mode": {
    "name": "ipython",
    "version": 3
   },
   "file_extension": ".py",
   "mimetype": "text/x-python",
   "name": "python",
   "nbconvert_exporter": "python",
   "pygments_lexer": "ipython3",
   "version": "3.7.3"
  },
  "varInspector": {
   "cols": {
    "lenName": 16,
    "lenType": 16,
    "lenVar": 40
   },
   "kernels_config": {
    "python": {
     "delete_cmd_postfix": "",
     "delete_cmd_prefix": "del ",
     "library": "var_list.py",
     "varRefreshCmd": "print(var_dic_list())"
    },
    "r": {
     "delete_cmd_postfix": ") ",
     "delete_cmd_prefix": "rm(",
     "library": "var_list.r",
     "varRefreshCmd": "cat(var_dic_list()) "
    }
   },
   "types_to_exclude": [
    "module",
    "function",
    "builtin_function_or_method",
    "instance",
    "_Feature"
   ],
   "window_display": false
  }
 },
 "nbformat": 4,
 "nbformat_minor": 2
}
