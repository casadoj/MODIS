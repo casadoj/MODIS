{
 "cells": [
  {
   "cell_type": "markdown",
   "metadata": {},
   "source": [
    "__[MODISTools](https://github.com/ropensci/MODISTools)__"
   ]
  },
  {
   "cell_type": "code",
   "execution_count": 1,
   "metadata": {},
   "outputs": [],
   "source": [
    "# # install library\n",
    "# install.packages('MODISTools')"
   ]
  },
  {
   "cell_type": "code",
   "execution_count": 2,
   "metadata": {},
   "outputs": [],
   "source": [
    "# load library\n",
    "library('MODISTools')"
   ]
  },
  {
   "cell_type": "code",
   "execution_count": 3,
   "metadata": {},
   "outputs": [],
   "source": [
    "# site of interest\n",
    "lat = 43.154\n",
    "lon = -4.624"
   ]
  },
  {
   "cell_type": "markdown",
   "metadata": {},
   "source": [
    "#### Listing products"
   ]
  },
  {
   "cell_type": "code",
   "execution_count": 14,
   "metadata": {
    "scrolled": true
   },
   "outputs": [
    {
     "name": "stdout",
     "output_type": "stream",
     "text": [
      "[1] \"n. of products: 32\"\n"
     ]
    },
    {
     "data": {
      "text/html": [
       "<table>\n",
       "<thead><tr><th scope=col>product</th><th scope=col>description</th><th scope=col>frequency</th><th scope=col>resolution_meters</th></tr></thead>\n",
       "<tbody>\n",
       "\t<tr><td>Daymet                                                                                     </td><td>Daily Surface Weather Data (Daymet) on a 1-km Grid for North America, Version 3            </td><td>1 day                                                                                      </td><td>1000                                                                                       </td></tr>\n",
       "\t<tr><td>MCD12Q1                                                                                    </td><td>MODIS/Terra+Aqua Land Cover Type (LC) Yearly L3 Global 500 m SIN Grid                      </td><td>1 year                                                                                     </td><td> 500                                                                                       </td></tr>\n",
       "\t<tr><td>MCD12Q2                                                                                    </td><td>MODIS/Terra+Aqua Land Cover Dynamics (LCD) Yearly L3 Global 500 m SIN Grid                 </td><td>1 year                                                                                     </td><td> 500                                                                                       </td></tr>\n",
       "\t<tr><td>MCD15A2H                                                                                   </td><td>MODIS/Terra+Aqua Leaf Area Index/FPAR (LAI/FPAR)  8-Day L4 Global 500 m SIN Grid           </td><td>8 day                                                                                      </td><td> 500                                                                                       </td></tr>\n",
       "\t<tr><td>MCD15A3H                                                                                   </td><td>MODIS/Terra+Aqua Leaf Area Index/FPAR (LAI/FPAR) 4-Day L4 Global 500 m SIN Grid            </td><td>4 day                                                                                      </td><td> 500                                                                                       </td></tr>\n",
       "\t<tr><td>MCD19A3                                                                                    </td><td>MODIS/Terra+Aqua BRDF Model Parameters (MAIAC) 8-Day L3 Global 1 km SIN Grid               </td><td>8 day                                                                                      </td><td>1000                                                                                       </td></tr>\n",
       "\t<tr><td>MCD64A1                                                                                    </td><td>MODIS/Terra+Aqua Burned Area (Burned Area) Monthly L3 Global 500 m SIN Grid                </td><td>Monthly                                                                                    </td><td> 500                                                                                       </td></tr>\n",
       "\t<tr><td>MOD09A1                                                                                    </td><td>MODIS/Terra Surface Reflectance (SREF) 8-Day L3 Global 500m SIN Grid                       </td><td>8 day                                                                                      </td><td> 500                                                                                       </td></tr>\n",
       "\t<tr><td>MOD11A2                                                                                    </td><td>MODIS/Terra Land Surface Temperature and Emissivity (LST) 8-Day L3 Global 1 km SIN Grid    </td><td>8 day                                                                                      </td><td>1000                                                                                       </td></tr>\n",
       "\t<tr><td>MOD13Q1                                                                                    </td><td>MODIS/Terra Vegetation Indices (NDVI/EVI) 16-Day L3 Global 250m SIN Grid                   </td><td>16 day                                                                                     </td><td> 250                                                                                       </td></tr>\n",
       "\t<tr><td>MOD14A2                                                                                    </td><td>MODIS/Terra Thermal Anomalies/Fire (Fire) 8-Day L3 Global 1 km SIN Grid                    </td><td>8 day                                                                                      </td><td>1000                                                                                       </td></tr>\n",
       "\t<tr><td>MOD15A2H                                                                                   </td><td>MODIS/Terra Leaf Area Index/FPAR (LAI/FPAR) 8-Day L4 Global 500 m SIN Grid                 </td><td>8 day                                                                                      </td><td> 500                                                                                       </td></tr>\n",
       "\t<tr><td>MOD16A2                                                                                    </td><td>MODIS/Terra Net Evapotranspiration (ET) 8-Day L4 Global 500 m SIN Grid                     </td><td>8 day                                                                                      </td><td> 500                                                                                       </td></tr>\n",
       "\t<tr><td>MOD17A2H                                                                                   </td><td>MODIS/Terra Gross Primary Productivity (GPP) 8-Day L4 Global 500 m SIN Grid                </td><td>8 day                                                                                      </td><td> 500                                                                                       </td></tr>\n",
       "\t<tr><td>MOD17A3H                                                                                   </td><td>MODIS/Terra Net Primary Production (NPP) Yearly L4 Global 500 m SIN Grid                   </td><td>1 year                                                                                     </td><td> 500                                                                                       </td></tr>\n",
       "\t<tr><td>MOD21A2                                                                                    </td><td>MODIS/Terra Land Surface Temperature/3-Band Emissivity (LSTE) 8-Day L3 Global 1 km SIN Grid</td><td>8 day                                                                                      </td><td>1000                                                                                       </td></tr>\n",
       "\t<tr><td>MOD44B                                                                                     </td><td>MODIS/Terra Vegetation Continuous Fields (VCF) Yearly L3 Global 250 m SIN Grid             </td><td>1 year                                                                                     </td><td> 250                                                                                       </td></tr>\n",
       "\t<tr><td>MYD09A1                                                                                    </td><td>MODIS/Aqua Surface Reflectance (SREF) 8-Day L3 Global 500m SIN Grid                        </td><td>8 day                                                                                      </td><td> 500                                                                                       </td></tr>\n",
       "\t<tr><td>MYD11A2                                                                                    </td><td>MODIS/Aqua Land Surface Temperature and Emissivity (LST) 8-Day L3 Global 1 km SIN Grid     </td><td>8 day                                                                                      </td><td>1000                                                                                       </td></tr>\n",
       "\t<tr><td>MYD13Q1                                                                                    </td><td>MODIS/Aqua Vegetation Indices (NDVI/EVI) 16-Day L3 Global 250m SIN Grid                    </td><td>16 day                                                                                     </td><td> 250                                                                                       </td></tr>\n",
       "\t<tr><td>MYD14A2                                                                                    </td><td>MODIS/Aqua Thermal Anomalies/Fire (Fire) 8-Day L3 Global 1 km SIN Grid                     </td><td>8 day                                                                                      </td><td>1000                                                                                       </td></tr>\n",
       "\t<tr><td>MYD15A2H                                                                                   </td><td>MODIS/Aqua Leaf Area Index/FPAR (LAI/FPAR) 8-Day L4 Global 500 m SIN Grid                  </td><td>8 day                                                                                      </td><td> 500                                                                                       </td></tr>\n",
       "\t<tr><td>MYD16A2                                                                                    </td><td>MODIS/Aqua Net Evapotranspiration (ET) 8-Day L4 Global 500 m SIN Grid                      </td><td>8 day                                                                                      </td><td> 500                                                                                       </td></tr>\n",
       "\t<tr><td>MYD17A2H                                                                                   </td><td>MODIS/Aqua Gross Primary Productivity (GPP) 8-Day L4 Global 500 m SIN Grid                 </td><td>8 day                                                                                      </td><td> 500                                                                                       </td></tr>\n",
       "\t<tr><td>MYD17A3H                                                                                   </td><td>MODIS/Aqua Net Primary Production (NPP) Yearly L4 Global 500 m SIN Grid                    </td><td>1 year                                                                                     </td><td> 500                                                                                       </td></tr>\n",
       "\t<tr><td>MYD21A2                                                                                    </td><td>MODIS/Aqua Land Surface Temperature/3-Band Emissivity (LSTE) 8-Day L3 Global 1 km SIN Grid </td><td>8 day                                                                                      </td><td>1000                                                                                       </td></tr>\n",
       "\t<tr><td>SPL4CMDL                                                                                   </td><td>SMAP Carbon Net Ecosystem Exchange (NEE) Daily L4 Global 9 km EASE-Grid                    </td><td>1 day                                                                                      </td><td>9000                                                                                       </td></tr>\n",
       "\t<tr><td>VNP09A1                                                                                    </td><td>VIIRS/S-NPP Surface Reflectance (SREF) 8-Day L3 Global 1 km SIN Grid                       </td><td>8 day                                                                                      </td><td>1000                                                                                       </td></tr>\n",
       "\t<tr><td>VNP09H1                                                                                    </td><td>VIIRS/S-NPP Surface Reflectance (SREF) 8-Day L3 Global 500m SIN Grid                       </td><td>8 day                                                                                      </td><td> 500                                                                                       </td></tr>\n",
       "\t<tr><td>VNP13A1                                                                                    </td><td>VIIRS/S-NPP Vegetation Indices (NDVI/EVI) 16-Day L3 Global 500m SIN Grid                   </td><td>16 day                                                                                     </td><td> 500                                                                                       </td></tr>\n",
       "\t<tr><td>VNP15A2H                                                                                   </td><td>VIIRS/S-NPP Leaf Area Index/FPAR (LAI/FPAR) 8-Day L4 Global 500 m SIN Grid                 </td><td>8 day                                                                                      </td><td> 500                                                                                       </td></tr>\n",
       "\t<tr><td>VNP21A2                                                                                    </td><td>VIIRS/S-NPP Land Surface Temperature and Emissivity (LSTE) 8-Day L3 Global 1 km SIN Grid   </td><td>8 day                                                                                      </td><td>1000                                                                                       </td></tr>\n",
       "</tbody>\n",
       "</table>\n"
      ],
      "text/latex": [
       "\\begin{tabular}{r|llll}\n",
       " product & description & frequency & resolution\\_meters\\\\\n",
       "\\hline\n",
       "\t Daymet                                                                                      & Daily Surface Weather Data (Daymet) on a 1-km Grid for North America, Version 3             & 1 day                                                                                       & 1000                                                                                       \\\\\n",
       "\t MCD12Q1                                                                                     & MODIS/Terra+Aqua Land Cover Type (LC) Yearly L3 Global 500 m SIN Grid                       & 1 year                                                                                      &  500                                                                                       \\\\\n",
       "\t MCD12Q2                                                                                     & MODIS/Terra+Aqua Land Cover Dynamics (LCD) Yearly L3 Global 500 m SIN Grid                  & 1 year                                                                                      &  500                                                                                       \\\\\n",
       "\t MCD15A2H                                                                                    & MODIS/Terra+Aqua Leaf Area Index/FPAR (LAI/FPAR)  8-Day L4 Global 500 m SIN Grid            & 8 day                                                                                       &  500                                                                                       \\\\\n",
       "\t MCD15A3H                                                                                    & MODIS/Terra+Aqua Leaf Area Index/FPAR (LAI/FPAR) 4-Day L4 Global 500 m SIN Grid             & 4 day                                                                                       &  500                                                                                       \\\\\n",
       "\t MCD19A3                                                                                     & MODIS/Terra+Aqua BRDF Model Parameters (MAIAC) 8-Day L3 Global 1 km SIN Grid                & 8 day                                                                                       & 1000                                                                                       \\\\\n",
       "\t MCD64A1                                                                                     & MODIS/Terra+Aqua Burned Area (Burned Area) Monthly L3 Global 500 m SIN Grid                 & Monthly                                                                                     &  500                                                                                       \\\\\n",
       "\t MOD09A1                                                                                     & MODIS/Terra Surface Reflectance (SREF) 8-Day L3 Global 500m SIN Grid                        & 8 day                                                                                       &  500                                                                                       \\\\\n",
       "\t MOD11A2                                                                                     & MODIS/Terra Land Surface Temperature and Emissivity (LST) 8-Day L3 Global 1 km SIN Grid     & 8 day                                                                                       & 1000                                                                                       \\\\\n",
       "\t MOD13Q1                                                                                     & MODIS/Terra Vegetation Indices (NDVI/EVI) 16-Day L3 Global 250m SIN Grid                    & 16 day                                                                                      &  250                                                                                       \\\\\n",
       "\t MOD14A2                                                                                     & MODIS/Terra Thermal Anomalies/Fire (Fire) 8-Day L3 Global 1 km SIN Grid                     & 8 day                                                                                       & 1000                                                                                       \\\\\n",
       "\t MOD15A2H                                                                                    & MODIS/Terra Leaf Area Index/FPAR (LAI/FPAR) 8-Day L4 Global 500 m SIN Grid                  & 8 day                                                                                       &  500                                                                                       \\\\\n",
       "\t MOD16A2                                                                                     & MODIS/Terra Net Evapotranspiration (ET) 8-Day L4 Global 500 m SIN Grid                      & 8 day                                                                                       &  500                                                                                       \\\\\n",
       "\t MOD17A2H                                                                                    & MODIS/Terra Gross Primary Productivity (GPP) 8-Day L4 Global 500 m SIN Grid                 & 8 day                                                                                       &  500                                                                                       \\\\\n",
       "\t MOD17A3H                                                                                    & MODIS/Terra Net Primary Production (NPP) Yearly L4 Global 500 m SIN Grid                    & 1 year                                                                                      &  500                                                                                       \\\\\n",
       "\t MOD21A2                                                                                     & MODIS/Terra Land Surface Temperature/3-Band Emissivity (LSTE) 8-Day L3 Global 1 km SIN Grid & 8 day                                                                                       & 1000                                                                                       \\\\\n",
       "\t MOD44B                                                                                      & MODIS/Terra Vegetation Continuous Fields (VCF) Yearly L3 Global 250 m SIN Grid              & 1 year                                                                                      &  250                                                                                       \\\\\n",
       "\t MYD09A1                                                                                     & MODIS/Aqua Surface Reflectance (SREF) 8-Day L3 Global 500m SIN Grid                         & 8 day                                                                                       &  500                                                                                       \\\\\n",
       "\t MYD11A2                                                                                     & MODIS/Aqua Land Surface Temperature and Emissivity (LST) 8-Day L3 Global 1 km SIN Grid      & 8 day                                                                                       & 1000                                                                                       \\\\\n",
       "\t MYD13Q1                                                                                     & MODIS/Aqua Vegetation Indices (NDVI/EVI) 16-Day L3 Global 250m SIN Grid                     & 16 day                                                                                      &  250                                                                                       \\\\\n",
       "\t MYD14A2                                                                                     & MODIS/Aqua Thermal Anomalies/Fire (Fire) 8-Day L3 Global 1 km SIN Grid                      & 8 day                                                                                       & 1000                                                                                       \\\\\n",
       "\t MYD15A2H                                                                                    & MODIS/Aqua Leaf Area Index/FPAR (LAI/FPAR) 8-Day L4 Global 500 m SIN Grid                   & 8 day                                                                                       &  500                                                                                       \\\\\n",
       "\t MYD16A2                                                                                     & MODIS/Aqua Net Evapotranspiration (ET) 8-Day L4 Global 500 m SIN Grid                       & 8 day                                                                                       &  500                                                                                       \\\\\n",
       "\t MYD17A2H                                                                                    & MODIS/Aqua Gross Primary Productivity (GPP) 8-Day L4 Global 500 m SIN Grid                  & 8 day                                                                                       &  500                                                                                       \\\\\n",
       "\t MYD17A3H                                                                                    & MODIS/Aqua Net Primary Production (NPP) Yearly L4 Global 500 m SIN Grid                     & 1 year                                                                                      &  500                                                                                       \\\\\n",
       "\t MYD21A2                                                                                     & MODIS/Aqua Land Surface Temperature/3-Band Emissivity (LSTE) 8-Day L3 Global 1 km SIN Grid  & 8 day                                                                                       & 1000                                                                                       \\\\\n",
       "\t SPL4CMDL                                                                                    & SMAP Carbon Net Ecosystem Exchange (NEE) Daily L4 Global 9 km EASE-Grid                     & 1 day                                                                                       & 9000                                                                                       \\\\\n",
       "\t VNP09A1                                                                                     & VIIRS/S-NPP Surface Reflectance (SREF) 8-Day L3 Global 1 km SIN Grid                        & 8 day                                                                                       & 1000                                                                                       \\\\\n",
       "\t VNP09H1                                                                                     & VIIRS/S-NPP Surface Reflectance (SREF) 8-Day L3 Global 500m SIN Grid                        & 8 day                                                                                       &  500                                                                                       \\\\\n",
       "\t VNP13A1                                                                                     & VIIRS/S-NPP Vegetation Indices (NDVI/EVI) 16-Day L3 Global 500m SIN Grid                    & 16 day                                                                                      &  500                                                                                       \\\\\n",
       "\t VNP15A2H                                                                                    & VIIRS/S-NPP Leaf Area Index/FPAR (LAI/FPAR) 8-Day L4 Global 500 m SIN Grid                  & 8 day                                                                                       &  500                                                                                       \\\\\n",
       "\t VNP21A2                                                                                     & VIIRS/S-NPP Land Surface Temperature and Emissivity (LSTE) 8-Day L3 Global 1 km SIN Grid    & 8 day                                                                                       & 1000                                                                                       \\\\\n",
       "\\end{tabular}\n"
      ],
      "text/markdown": [
       "\n",
       "| product | description | frequency | resolution_meters |\n",
       "|---|---|---|---|\n",
       "| Daymet                                                                                      | Daily Surface Weather Data (Daymet) on a 1-km Grid for North America, Version 3             | 1 day                                                                                       | 1000                                                                                        |\n",
       "| MCD12Q1                                                                                     | MODIS/Terra+Aqua Land Cover Type (LC) Yearly L3 Global 500 m SIN Grid                       | 1 year                                                                                      |  500                                                                                        |\n",
       "| MCD12Q2                                                                                     | MODIS/Terra+Aqua Land Cover Dynamics (LCD) Yearly L3 Global 500 m SIN Grid                  | 1 year                                                                                      |  500                                                                                        |\n",
       "| MCD15A2H                                                                                    | MODIS/Terra+Aqua Leaf Area Index/FPAR (LAI/FPAR)  8-Day L4 Global 500 m SIN Grid            | 8 day                                                                                       |  500                                                                                        |\n",
       "| MCD15A3H                                                                                    | MODIS/Terra+Aqua Leaf Area Index/FPAR (LAI/FPAR) 4-Day L4 Global 500 m SIN Grid             | 4 day                                                                                       |  500                                                                                        |\n",
       "| MCD19A3                                                                                     | MODIS/Terra+Aqua BRDF Model Parameters (MAIAC) 8-Day L3 Global 1 km SIN Grid                | 8 day                                                                                       | 1000                                                                                        |\n",
       "| MCD64A1                                                                                     | MODIS/Terra+Aqua Burned Area (Burned Area) Monthly L3 Global 500 m SIN Grid                 | Monthly                                                                                     |  500                                                                                        |\n",
       "| MOD09A1                                                                                     | MODIS/Terra Surface Reflectance (SREF) 8-Day L3 Global 500m SIN Grid                        | 8 day                                                                                       |  500                                                                                        |\n",
       "| MOD11A2                                                                                     | MODIS/Terra Land Surface Temperature and Emissivity (LST) 8-Day L3 Global 1 km SIN Grid     | 8 day                                                                                       | 1000                                                                                        |\n",
       "| MOD13Q1                                                                                     | MODIS/Terra Vegetation Indices (NDVI/EVI) 16-Day L3 Global 250m SIN Grid                    | 16 day                                                                                      |  250                                                                                        |\n",
       "| MOD14A2                                                                                     | MODIS/Terra Thermal Anomalies/Fire (Fire) 8-Day L3 Global 1 km SIN Grid                     | 8 day                                                                                       | 1000                                                                                        |\n",
       "| MOD15A2H                                                                                    | MODIS/Terra Leaf Area Index/FPAR (LAI/FPAR) 8-Day L4 Global 500 m SIN Grid                  | 8 day                                                                                       |  500                                                                                        |\n",
       "| MOD16A2                                                                                     | MODIS/Terra Net Evapotranspiration (ET) 8-Day L4 Global 500 m SIN Grid                      | 8 day                                                                                       |  500                                                                                        |\n",
       "| MOD17A2H                                                                                    | MODIS/Terra Gross Primary Productivity (GPP) 8-Day L4 Global 500 m SIN Grid                 | 8 day                                                                                       |  500                                                                                        |\n",
       "| MOD17A3H                                                                                    | MODIS/Terra Net Primary Production (NPP) Yearly L4 Global 500 m SIN Grid                    | 1 year                                                                                      |  500                                                                                        |\n",
       "| MOD21A2                                                                                     | MODIS/Terra Land Surface Temperature/3-Band Emissivity (LSTE) 8-Day L3 Global 1 km SIN Grid | 8 day                                                                                       | 1000                                                                                        |\n",
       "| MOD44B                                                                                      | MODIS/Terra Vegetation Continuous Fields (VCF) Yearly L3 Global 250 m SIN Grid              | 1 year                                                                                      |  250                                                                                        |\n",
       "| MYD09A1                                                                                     | MODIS/Aqua Surface Reflectance (SREF) 8-Day L3 Global 500m SIN Grid                         | 8 day                                                                                       |  500                                                                                        |\n",
       "| MYD11A2                                                                                     | MODIS/Aqua Land Surface Temperature and Emissivity (LST) 8-Day L3 Global 1 km SIN Grid      | 8 day                                                                                       | 1000                                                                                        |\n",
       "| MYD13Q1                                                                                     | MODIS/Aqua Vegetation Indices (NDVI/EVI) 16-Day L3 Global 250m SIN Grid                     | 16 day                                                                                      |  250                                                                                        |\n",
       "| MYD14A2                                                                                     | MODIS/Aqua Thermal Anomalies/Fire (Fire) 8-Day L3 Global 1 km SIN Grid                      | 8 day                                                                                       | 1000                                                                                        |\n",
       "| MYD15A2H                                                                                    | MODIS/Aqua Leaf Area Index/FPAR (LAI/FPAR) 8-Day L4 Global 500 m SIN Grid                   | 8 day                                                                                       |  500                                                                                        |\n",
       "| MYD16A2                                                                                     | MODIS/Aqua Net Evapotranspiration (ET) 8-Day L4 Global 500 m SIN Grid                       | 8 day                                                                                       |  500                                                                                        |\n",
       "| MYD17A2H                                                                                    | MODIS/Aqua Gross Primary Productivity (GPP) 8-Day L4 Global 500 m SIN Grid                  | 8 day                                                                                       |  500                                                                                        |\n",
       "| MYD17A3H                                                                                    | MODIS/Aqua Net Primary Production (NPP) Yearly L4 Global 500 m SIN Grid                     | 1 year                                                                                      |  500                                                                                        |\n",
       "| MYD21A2                                                                                     | MODIS/Aqua Land Surface Temperature/3-Band Emissivity (LSTE) 8-Day L3 Global 1 km SIN Grid  | 8 day                                                                                       | 1000                                                                                        |\n",
       "| SPL4CMDL                                                                                    | SMAP Carbon Net Ecosystem Exchange (NEE) Daily L4 Global 9 km EASE-Grid                     | 1 day                                                                                       | 9000                                                                                        |\n",
       "| VNP09A1                                                                                     | VIIRS/S-NPP Surface Reflectance (SREF) 8-Day L3 Global 1 km SIN Grid                        | 8 day                                                                                       | 1000                                                                                        |\n",
       "| VNP09H1                                                                                     | VIIRS/S-NPP Surface Reflectance (SREF) 8-Day L3 Global 500m SIN Grid                        | 8 day                                                                                       |  500                                                                                        |\n",
       "| VNP13A1                                                                                     | VIIRS/S-NPP Vegetation Indices (NDVI/EVI) 16-Day L3 Global 500m SIN Grid                    | 16 day                                                                                      |  500                                                                                        |\n",
       "| VNP15A2H                                                                                    | VIIRS/S-NPP Leaf Area Index/FPAR (LAI/FPAR) 8-Day L4 Global 500 m SIN Grid                  | 8 day                                                                                       |  500                                                                                        |\n",
       "| VNP21A2                                                                                     | VIIRS/S-NPP Land Surface Temperature and Emissivity (LSTE) 8-Day L3 Global 1 km SIN Grid    | 8 day                                                                                       | 1000                                                                                        |\n",
       "\n"
      ],
      "text/plain": [
       "   product \n",
       "1  Daymet  \n",
       "2  MCD12Q1 \n",
       "3  MCD12Q2 \n",
       "4  MCD15A2H\n",
       "5  MCD15A3H\n",
       "6  MCD19A3 \n",
       "7  MCD64A1 \n",
       "8  MOD09A1 \n",
       "9  MOD11A2 \n",
       "10 MOD13Q1 \n",
       "11 MOD14A2 \n",
       "12 MOD15A2H\n",
       "13 MOD16A2 \n",
       "14 MOD17A2H\n",
       "15 MOD17A3H\n",
       "16 MOD21A2 \n",
       "17 MOD44B  \n",
       "18 MYD09A1 \n",
       "19 MYD11A2 \n",
       "20 MYD13Q1 \n",
       "21 MYD14A2 \n",
       "22 MYD15A2H\n",
       "23 MYD16A2 \n",
       "24 MYD17A2H\n",
       "25 MYD17A3H\n",
       "26 MYD21A2 \n",
       "27 SPL4CMDL\n",
       "28 VNP09A1 \n",
       "29 VNP09H1 \n",
       "30 VNP13A1 \n",
       "31 VNP15A2H\n",
       "32 VNP21A2 \n",
       "   description                                                                                \n",
       "1  Daily Surface Weather Data (Daymet) on a 1-km Grid for North America, Version 3            \n",
       "2  MODIS/Terra+Aqua Land Cover Type (LC) Yearly L3 Global 500 m SIN Grid                      \n",
       "3  MODIS/Terra+Aqua Land Cover Dynamics (LCD) Yearly L3 Global 500 m SIN Grid                 \n",
       "4  MODIS/Terra+Aqua Leaf Area Index/FPAR (LAI/FPAR)  8-Day L4 Global 500 m SIN Grid           \n",
       "5  MODIS/Terra+Aqua Leaf Area Index/FPAR (LAI/FPAR) 4-Day L4 Global 500 m SIN Grid            \n",
       "6  MODIS/Terra+Aqua BRDF Model Parameters (MAIAC) 8-Day L3 Global 1 km SIN Grid               \n",
       "7  MODIS/Terra+Aqua Burned Area (Burned Area) Monthly L3 Global 500 m SIN Grid                \n",
       "8  MODIS/Terra Surface Reflectance (SREF) 8-Day L3 Global 500m SIN Grid                       \n",
       "9  MODIS/Terra Land Surface Temperature and Emissivity (LST) 8-Day L3 Global 1 km SIN Grid    \n",
       "10 MODIS/Terra Vegetation Indices (NDVI/EVI) 16-Day L3 Global 250m SIN Grid                   \n",
       "11 MODIS/Terra Thermal Anomalies/Fire (Fire) 8-Day L3 Global 1 km SIN Grid                    \n",
       "12 MODIS/Terra Leaf Area Index/FPAR (LAI/FPAR) 8-Day L4 Global 500 m SIN Grid                 \n",
       "13 MODIS/Terra Net Evapotranspiration (ET) 8-Day L4 Global 500 m SIN Grid                     \n",
       "14 MODIS/Terra Gross Primary Productivity (GPP) 8-Day L4 Global 500 m SIN Grid                \n",
       "15 MODIS/Terra Net Primary Production (NPP) Yearly L4 Global 500 m SIN Grid                   \n",
       "16 MODIS/Terra Land Surface Temperature/3-Band Emissivity (LSTE) 8-Day L3 Global 1 km SIN Grid\n",
       "17 MODIS/Terra Vegetation Continuous Fields (VCF) Yearly L3 Global 250 m SIN Grid             \n",
       "18 MODIS/Aqua Surface Reflectance (SREF) 8-Day L3 Global 500m SIN Grid                        \n",
       "19 MODIS/Aqua Land Surface Temperature and Emissivity (LST) 8-Day L3 Global 1 km SIN Grid     \n",
       "20 MODIS/Aqua Vegetation Indices (NDVI/EVI) 16-Day L3 Global 250m SIN Grid                    \n",
       "21 MODIS/Aqua Thermal Anomalies/Fire (Fire) 8-Day L3 Global 1 km SIN Grid                     \n",
       "22 MODIS/Aqua Leaf Area Index/FPAR (LAI/FPAR) 8-Day L4 Global 500 m SIN Grid                  \n",
       "23 MODIS/Aqua Net Evapotranspiration (ET) 8-Day L4 Global 500 m SIN Grid                      \n",
       "24 MODIS/Aqua Gross Primary Productivity (GPP) 8-Day L4 Global 500 m SIN Grid                 \n",
       "25 MODIS/Aqua Net Primary Production (NPP) Yearly L4 Global 500 m SIN Grid                    \n",
       "26 MODIS/Aqua Land Surface Temperature/3-Band Emissivity (LSTE) 8-Day L3 Global 1 km SIN Grid \n",
       "27 SMAP Carbon Net Ecosystem Exchange (NEE) Daily L4 Global 9 km EASE-Grid                    \n",
       "28 VIIRS/S-NPP Surface Reflectance (SREF) 8-Day L3 Global 1 km SIN Grid                       \n",
       "29 VIIRS/S-NPP Surface Reflectance (SREF) 8-Day L3 Global 500m SIN Grid                       \n",
       "30 VIIRS/S-NPP Vegetation Indices (NDVI/EVI) 16-Day L3 Global 500m SIN Grid                   \n",
       "31 VIIRS/S-NPP Leaf Area Index/FPAR (LAI/FPAR) 8-Day L4 Global 500 m SIN Grid                 \n",
       "32 VIIRS/S-NPP Land Surface Temperature and Emissivity (LSTE) 8-Day L3 Global 1 km SIN Grid   \n",
       "   frequency resolution_meters\n",
       "1  1 day     1000             \n",
       "2  1 year     500             \n",
       "3  1 year     500             \n",
       "4  8 day      500             \n",
       "5  4 day      500             \n",
       "6  8 day     1000             \n",
       "7  Monthly    500             \n",
       "8  8 day      500             \n",
       "9  8 day     1000             \n",
       "10 16 day     250             \n",
       "11 8 day     1000             \n",
       "12 8 day      500             \n",
       "13 8 day      500             \n",
       "14 8 day      500             \n",
       "15 1 year     500             \n",
       "16 8 day     1000             \n",
       "17 1 year     250             \n",
       "18 8 day      500             \n",
       "19 8 day     1000             \n",
       "20 16 day     250             \n",
       "21 8 day     1000             \n",
       "22 8 day      500             \n",
       "23 8 day      500             \n",
       "24 8 day      500             \n",
       "25 1 year     500             \n",
       "26 8 day     1000             \n",
       "27 1 day     9000             \n",
       "28 8 day     1000             \n",
       "29 8 day      500             \n",
       "30 16 day     500             \n",
       "31 8 day      500             \n",
       "32 8 day     1000             "
      ]
     },
     "metadata": {},
     "output_type": "display_data"
    }
   ],
   "source": [
    "# available products\n",
    "products <- mt_products()\n",
    "print(paste('n. of products:', dim(products)[1]))\n",
    "products"
   ]
  },
  {
   "cell_type": "code",
   "execution_count": 12,
   "metadata": {},
   "outputs": [],
   "source": [
    "# select product\n",
    "product = 'MOD16A2'"
   ]
  },
  {
   "cell_type": "markdown",
   "metadata": {},
   "source": [
    "#### Listing bands"
   ]
  },
  {
   "cell_type": "code",
   "execution_count": 15,
   "metadata": {
    "scrolled": true
   },
   "outputs": [
    {
     "name": "stdout",
     "output_type": "stream",
     "text": [
      "[1] \"n. of bands: 5\"\n"
     ]
    },
    {
     "data": {
      "text/html": [
       "<table>\n",
       "<thead><tr><th scope=col>band</th><th scope=col>description</th><th scope=col>units</th><th scope=col>valid_range</th><th scope=col>fill_value</th><th scope=col>scale_factor</th><th scope=col>add_offset</th></tr></thead>\n",
       "<tbody>\n",
       "\t<tr><td>PET_500m                       </td><td>Potential evapotranspiration   </td><td>kg/m^2/8day                    </td><td>-32767 to 32700                </td><td>32767                          </td><td>0.1                            </td><td>0                              </td></tr>\n",
       "\t<tr><td>LE_500m                        </td><td>Latent heat flux (LE)          </td><td>J/m^2/day                      </td><td>-32767 to 32700                </td><td>32767                          </td><td>10000                          </td><td>0                              </td></tr>\n",
       "\t<tr><td>ET_QC_500m                     </td><td>QC for ET/LE                   </td><td>none                           </td><td>0 to 254                       </td><td>255                            </td><td>1                              </td><td>0                              </td></tr>\n",
       "\t<tr><td>PLE_500m                       </td><td>Potential latent heat flux (LE)</td><td>J/m^2/day                      </td><td>-32767 to 32700                </td><td>32767                          </td><td>10000                          </td><td>0                              </td></tr>\n",
       "\t<tr><td>ET_500m                        </td><td>Evapotranspiration             </td><td>kg/m^2/8day                    </td><td>-32767 to 32700                </td><td>32767                          </td><td>0.1                            </td><td>0                              </td></tr>\n",
       "</tbody>\n",
       "</table>\n"
      ],
      "text/latex": [
       "\\begin{tabular}{r|lllllll}\n",
       " band & description & units & valid\\_range & fill\\_value & scale\\_factor & add\\_offset\\\\\n",
       "\\hline\n",
       "\t PET\\_500m                      & Potential evapotranspiration    & kg/m\\textasciicircum{}2/8day   & -32767 to 32700                 & 32767                           & 0.1                             & 0                              \\\\\n",
       "\t LE\\_500m                       & Latent heat flux (LE)           & J/m\\textasciicircum{}2/day     & -32767 to 32700                 & 32767                           & 10000                           & 0                              \\\\\n",
       "\t ET\\_QC\\_500m                  & QC for ET/LE                    & none                            & 0 to 254                        & 255                             & 1                               & 0                              \\\\\n",
       "\t PLE\\_500m                      & Potential latent heat flux (LE) & J/m\\textasciicircum{}2/day     & -32767 to 32700                 & 32767                           & 10000                           & 0                              \\\\\n",
       "\t ET\\_500m                       & Evapotranspiration              & kg/m\\textasciicircum{}2/8day   & -32767 to 32700                 & 32767                           & 0.1                             & 0                              \\\\\n",
       "\\end{tabular}\n"
      ],
      "text/markdown": [
       "\n",
       "| band | description | units | valid_range | fill_value | scale_factor | add_offset |\n",
       "|---|---|---|---|---|---|---|\n",
       "| PET_500m                        | Potential evapotranspiration    | kg/m^2/8day                     | -32767 to 32700                 | 32767                           | 0.1                             | 0                               |\n",
       "| LE_500m                         | Latent heat flux (LE)           | J/m^2/day                       | -32767 to 32700                 | 32767                           | 10000                           | 0                               |\n",
       "| ET_QC_500m                      | QC for ET/LE                    | none                            | 0 to 254                        | 255                             | 1                               | 0                               |\n",
       "| PLE_500m                        | Potential latent heat flux (LE) | J/m^2/day                       | -32767 to 32700                 | 32767                           | 10000                           | 0                               |\n",
       "| ET_500m                         | Evapotranspiration              | kg/m^2/8day                     | -32767 to 32700                 | 32767                           | 0.1                             | 0                               |\n",
       "\n"
      ],
      "text/plain": [
       "  band       description                     units       valid_range    \n",
       "1 PET_500m   Potential evapotranspiration    kg/m^2/8day -32767 to 32700\n",
       "2 LE_500m    Latent heat flux (LE)           J/m^2/day   -32767 to 32700\n",
       "3 ET_QC_500m QC for ET/LE                    none        0 to 254       \n",
       "4 PLE_500m   Potential latent heat flux (LE) J/m^2/day   -32767 to 32700\n",
       "5 ET_500m    Evapotranspiration              kg/m^2/8day -32767 to 32700\n",
       "  fill_value scale_factor add_offset\n",
       "1 32767      0.1          0         \n",
       "2 32767      10000        0         \n",
       "3 255        1            0         \n",
       "4 32767      10000        0         \n",
       "5 32767      0.1          0         "
      ]
     },
     "metadata": {},
     "output_type": "display_data"
    }
   ],
   "source": [
    "# available bands for the selected product\n",
    "bands <- mt_bands(product = product)\n",
    "print(paste('n. of bands:', dim(bands)[1]))\n",
    "bands"
   ]
  },
  {
   "cell_type": "code",
   "execution_count": 16,
   "metadata": {},
   "outputs": [],
   "source": [
    "band = 'ET_500m'"
   ]
  },
  {
   "cell_type": "markdown",
   "metadata": {},
   "source": [
    "#### Listing dates"
   ]
  },
  {
   "cell_type": "code",
   "execution_count": 18,
   "metadata": {
    "scrolled": true
   },
   "outputs": [
    {
     "name": "stdout",
     "output_type": "stream",
     "text": [
      "[1] \"n. of dates: 862\"\n"
     ]
    },
    {
     "data": {
      "text/html": [
       "<table>\n",
       "<thead><tr><th scope=col>modis_date</th><th scope=col>calendar_date</th></tr></thead>\n",
       "<tbody>\n",
       "\t<tr><td>A2001001  </td><td>2001-01-01</td></tr>\n",
       "\t<tr><td>A2001009  </td><td>2001-01-09</td></tr>\n",
       "\t<tr><td>A2001017  </td><td>2001-01-17</td></tr>\n",
       "\t<tr><td>A2001025  </td><td>2001-01-25</td></tr>\n",
       "\t<tr><td>A2001033  </td><td>2001-02-02</td></tr>\n",
       "\t<tr><td>A2001041  </td><td>2001-02-10</td></tr>\n",
       "\t<tr><td>A2001049  </td><td>2001-02-18</td></tr>\n",
       "\t<tr><td>A2001057  </td><td>2001-02-26</td></tr>\n",
       "\t<tr><td>A2001065  </td><td>2001-03-06</td></tr>\n",
       "\t<tr><td>A2001073  </td><td>2001-03-14</td></tr>\n",
       "\t<tr><td>A2001081  </td><td>2001-03-22</td></tr>\n",
       "\t<tr><td>A2001089  </td><td>2001-03-30</td></tr>\n",
       "\t<tr><td>A2001097  </td><td>2001-04-07</td></tr>\n",
       "\t<tr><td>A2001105  </td><td>2001-04-15</td></tr>\n",
       "\t<tr><td>A2001113  </td><td>2001-04-23</td></tr>\n",
       "\t<tr><td>A2001121  </td><td>2001-05-01</td></tr>\n",
       "\t<tr><td>A2001129  </td><td>2001-05-09</td></tr>\n",
       "\t<tr><td>A2001137  </td><td>2001-05-17</td></tr>\n",
       "\t<tr><td>A2001145  </td><td>2001-05-25</td></tr>\n",
       "\t<tr><td>A2001153  </td><td>2001-06-02</td></tr>\n",
       "\t<tr><td>A2001161  </td><td>2001-06-10</td></tr>\n",
       "\t<tr><td>A2001169  </td><td>2001-06-18</td></tr>\n",
       "\t<tr><td>A2001185  </td><td>2001-07-04</td></tr>\n",
       "\t<tr><td>A2001193  </td><td>2001-07-12</td></tr>\n",
       "\t<tr><td>A2001201  </td><td>2001-07-20</td></tr>\n",
       "\t<tr><td>A2001209  </td><td>2001-07-28</td></tr>\n",
       "\t<tr><td>A2001217  </td><td>2001-08-05</td></tr>\n",
       "\t<tr><td>A2001225  </td><td>2001-08-13</td></tr>\n",
       "\t<tr><td>A2001233  </td><td>2001-08-21</td></tr>\n",
       "\t<tr><td>A2001241  </td><td>2001-08-29</td></tr>\n",
       "\t<tr><td>...</td><td>...</td></tr>\n",
       "\t<tr><td>A2019065  </td><td>2019-03-06</td></tr>\n",
       "\t<tr><td>A2019073  </td><td>2019-03-14</td></tr>\n",
       "\t<tr><td>A2019081  </td><td>2019-03-22</td></tr>\n",
       "\t<tr><td>A2019089  </td><td>2019-03-30</td></tr>\n",
       "\t<tr><td>A2019097  </td><td>2019-04-07</td></tr>\n",
       "\t<tr><td>A2019105  </td><td>2019-04-15</td></tr>\n",
       "\t<tr><td>A2019113  </td><td>2019-04-23</td></tr>\n",
       "\t<tr><td>A2019121  </td><td>2019-05-01</td></tr>\n",
       "\t<tr><td>A2019129  </td><td>2019-05-09</td></tr>\n",
       "\t<tr><td>A2019137  </td><td>2019-05-17</td></tr>\n",
       "\t<tr><td>A2019145  </td><td>2019-05-25</td></tr>\n",
       "\t<tr><td>A2019153  </td><td>2019-06-02</td></tr>\n",
       "\t<tr><td>A2019161  </td><td>2019-06-10</td></tr>\n",
       "\t<tr><td>A2019169  </td><td>2019-06-18</td></tr>\n",
       "\t<tr><td>A2019177  </td><td>2019-06-26</td></tr>\n",
       "\t<tr><td>A2019185  </td><td>2019-07-04</td></tr>\n",
       "\t<tr><td>A2019193  </td><td>2019-07-12</td></tr>\n",
       "\t<tr><td>A2019201  </td><td>2019-07-20</td></tr>\n",
       "\t<tr><td>A2019209  </td><td>2019-07-28</td></tr>\n",
       "\t<tr><td>A2019217  </td><td>2019-08-05</td></tr>\n",
       "\t<tr><td>A2019225  </td><td>2019-08-13</td></tr>\n",
       "\t<tr><td>A2019233  </td><td>2019-08-21</td></tr>\n",
       "\t<tr><td>A2019241  </td><td>2019-08-29</td></tr>\n",
       "\t<tr><td>A2019249  </td><td>2019-09-06</td></tr>\n",
       "\t<tr><td>A2019257  </td><td>2019-09-14</td></tr>\n",
       "\t<tr><td>A2019265  </td><td>2019-09-22</td></tr>\n",
       "\t<tr><td>A2019273  </td><td>2019-09-30</td></tr>\n",
       "\t<tr><td>A2019281  </td><td>2019-10-08</td></tr>\n",
       "\t<tr><td>A2019289  </td><td>2019-10-16</td></tr>\n",
       "\t<tr><td>A2019297  </td><td>2019-10-24</td></tr>\n",
       "</tbody>\n",
       "</table>\n"
      ],
      "text/latex": [
       "\\begin{tabular}{r|ll}\n",
       " modis\\_date & calendar\\_date\\\\\n",
       "\\hline\n",
       "\t A2001001   & 2001-01-01\\\\\n",
       "\t A2001009   & 2001-01-09\\\\\n",
       "\t A2001017   & 2001-01-17\\\\\n",
       "\t A2001025   & 2001-01-25\\\\\n",
       "\t A2001033   & 2001-02-02\\\\\n",
       "\t A2001041   & 2001-02-10\\\\\n",
       "\t A2001049   & 2001-02-18\\\\\n",
       "\t A2001057   & 2001-02-26\\\\\n",
       "\t A2001065   & 2001-03-06\\\\\n",
       "\t A2001073   & 2001-03-14\\\\\n",
       "\t A2001081   & 2001-03-22\\\\\n",
       "\t A2001089   & 2001-03-30\\\\\n",
       "\t A2001097   & 2001-04-07\\\\\n",
       "\t A2001105   & 2001-04-15\\\\\n",
       "\t A2001113   & 2001-04-23\\\\\n",
       "\t A2001121   & 2001-05-01\\\\\n",
       "\t A2001129   & 2001-05-09\\\\\n",
       "\t A2001137   & 2001-05-17\\\\\n",
       "\t A2001145   & 2001-05-25\\\\\n",
       "\t A2001153   & 2001-06-02\\\\\n",
       "\t A2001161   & 2001-06-10\\\\\n",
       "\t A2001169   & 2001-06-18\\\\\n",
       "\t A2001185   & 2001-07-04\\\\\n",
       "\t A2001193   & 2001-07-12\\\\\n",
       "\t A2001201   & 2001-07-20\\\\\n",
       "\t A2001209   & 2001-07-28\\\\\n",
       "\t A2001217   & 2001-08-05\\\\\n",
       "\t A2001225   & 2001-08-13\\\\\n",
       "\t A2001233   & 2001-08-21\\\\\n",
       "\t A2001241   & 2001-08-29\\\\\n",
       "\t ... & ...\\\\\n",
       "\t A2019065   & 2019-03-06\\\\\n",
       "\t A2019073   & 2019-03-14\\\\\n",
       "\t A2019081   & 2019-03-22\\\\\n",
       "\t A2019089   & 2019-03-30\\\\\n",
       "\t A2019097   & 2019-04-07\\\\\n",
       "\t A2019105   & 2019-04-15\\\\\n",
       "\t A2019113   & 2019-04-23\\\\\n",
       "\t A2019121   & 2019-05-01\\\\\n",
       "\t A2019129   & 2019-05-09\\\\\n",
       "\t A2019137   & 2019-05-17\\\\\n",
       "\t A2019145   & 2019-05-25\\\\\n",
       "\t A2019153   & 2019-06-02\\\\\n",
       "\t A2019161   & 2019-06-10\\\\\n",
       "\t A2019169   & 2019-06-18\\\\\n",
       "\t A2019177   & 2019-06-26\\\\\n",
       "\t A2019185   & 2019-07-04\\\\\n",
       "\t A2019193   & 2019-07-12\\\\\n",
       "\t A2019201   & 2019-07-20\\\\\n",
       "\t A2019209   & 2019-07-28\\\\\n",
       "\t A2019217   & 2019-08-05\\\\\n",
       "\t A2019225   & 2019-08-13\\\\\n",
       "\t A2019233   & 2019-08-21\\\\\n",
       "\t A2019241   & 2019-08-29\\\\\n",
       "\t A2019249   & 2019-09-06\\\\\n",
       "\t A2019257   & 2019-09-14\\\\\n",
       "\t A2019265   & 2019-09-22\\\\\n",
       "\t A2019273   & 2019-09-30\\\\\n",
       "\t A2019281   & 2019-10-08\\\\\n",
       "\t A2019289   & 2019-10-16\\\\\n",
       "\t A2019297   & 2019-10-24\\\\\n",
       "\\end{tabular}\n"
      ],
      "text/markdown": [
       "\n",
       "| modis_date | calendar_date |\n",
       "|---|---|\n",
       "| A2001001   | 2001-01-01 |\n",
       "| A2001009   | 2001-01-09 |\n",
       "| A2001017   | 2001-01-17 |\n",
       "| A2001025   | 2001-01-25 |\n",
       "| A2001033   | 2001-02-02 |\n",
       "| A2001041   | 2001-02-10 |\n",
       "| A2001049   | 2001-02-18 |\n",
       "| A2001057   | 2001-02-26 |\n",
       "| A2001065   | 2001-03-06 |\n",
       "| A2001073   | 2001-03-14 |\n",
       "| A2001081   | 2001-03-22 |\n",
       "| A2001089   | 2001-03-30 |\n",
       "| A2001097   | 2001-04-07 |\n",
       "| A2001105   | 2001-04-15 |\n",
       "| A2001113   | 2001-04-23 |\n",
       "| A2001121   | 2001-05-01 |\n",
       "| A2001129   | 2001-05-09 |\n",
       "| A2001137   | 2001-05-17 |\n",
       "| A2001145   | 2001-05-25 |\n",
       "| A2001153   | 2001-06-02 |\n",
       "| A2001161   | 2001-06-10 |\n",
       "| A2001169   | 2001-06-18 |\n",
       "| A2001185   | 2001-07-04 |\n",
       "| A2001193   | 2001-07-12 |\n",
       "| A2001201   | 2001-07-20 |\n",
       "| A2001209   | 2001-07-28 |\n",
       "| A2001217   | 2001-08-05 |\n",
       "| A2001225   | 2001-08-13 |\n",
       "| A2001233   | 2001-08-21 |\n",
       "| A2001241   | 2001-08-29 |\n",
       "| ... | ... |\n",
       "| A2019065   | 2019-03-06 |\n",
       "| A2019073   | 2019-03-14 |\n",
       "| A2019081   | 2019-03-22 |\n",
       "| A2019089   | 2019-03-30 |\n",
       "| A2019097   | 2019-04-07 |\n",
       "| A2019105   | 2019-04-15 |\n",
       "| A2019113   | 2019-04-23 |\n",
       "| A2019121   | 2019-05-01 |\n",
       "| A2019129   | 2019-05-09 |\n",
       "| A2019137   | 2019-05-17 |\n",
       "| A2019145   | 2019-05-25 |\n",
       "| A2019153   | 2019-06-02 |\n",
       "| A2019161   | 2019-06-10 |\n",
       "| A2019169   | 2019-06-18 |\n",
       "| A2019177   | 2019-06-26 |\n",
       "| A2019185   | 2019-07-04 |\n",
       "| A2019193   | 2019-07-12 |\n",
       "| A2019201   | 2019-07-20 |\n",
       "| A2019209   | 2019-07-28 |\n",
       "| A2019217   | 2019-08-05 |\n",
       "| A2019225   | 2019-08-13 |\n",
       "| A2019233   | 2019-08-21 |\n",
       "| A2019241   | 2019-08-29 |\n",
       "| A2019249   | 2019-09-06 |\n",
       "| A2019257   | 2019-09-14 |\n",
       "| A2019265   | 2019-09-22 |\n",
       "| A2019273   | 2019-09-30 |\n",
       "| A2019281   | 2019-10-08 |\n",
       "| A2019289   | 2019-10-16 |\n",
       "| A2019297   | 2019-10-24 |\n",
       "\n"
      ],
      "text/plain": [
       "    modis_date calendar_date\n",
       "1   A2001001   2001-01-01   \n",
       "2   A2001009   2001-01-09   \n",
       "3   A2001017   2001-01-17   \n",
       "4   A2001025   2001-01-25   \n",
       "5   A2001033   2001-02-02   \n",
       "6   A2001041   2001-02-10   \n",
       "7   A2001049   2001-02-18   \n",
       "8   A2001057   2001-02-26   \n",
       "9   A2001065   2001-03-06   \n",
       "10  A2001073   2001-03-14   \n",
       "11  A2001081   2001-03-22   \n",
       "12  A2001089   2001-03-30   \n",
       "13  A2001097   2001-04-07   \n",
       "14  A2001105   2001-04-15   \n",
       "15  A2001113   2001-04-23   \n",
       "16  A2001121   2001-05-01   \n",
       "17  A2001129   2001-05-09   \n",
       "18  A2001137   2001-05-17   \n",
       "19  A2001145   2001-05-25   \n",
       "20  A2001153   2001-06-02   \n",
       "21  A2001161   2001-06-10   \n",
       "22  A2001169   2001-06-18   \n",
       "23  A2001185   2001-07-04   \n",
       "24  A2001193   2001-07-12   \n",
       "25  A2001201   2001-07-20   \n",
       "26  A2001209   2001-07-28   \n",
       "27  A2001217   2001-08-05   \n",
       "28  A2001225   2001-08-13   \n",
       "29  A2001233   2001-08-21   \n",
       "30  A2001241   2001-08-29   \n",
       "... ...        ...          \n",
       "833 A2019065   2019-03-06   \n",
       "834 A2019073   2019-03-14   \n",
       "835 A2019081   2019-03-22   \n",
       "836 A2019089   2019-03-30   \n",
       "837 A2019097   2019-04-07   \n",
       "838 A2019105   2019-04-15   \n",
       "839 A2019113   2019-04-23   \n",
       "840 A2019121   2019-05-01   \n",
       "841 A2019129   2019-05-09   \n",
       "842 A2019137   2019-05-17   \n",
       "843 A2019145   2019-05-25   \n",
       "844 A2019153   2019-06-02   \n",
       "845 A2019161   2019-06-10   \n",
       "846 A2019169   2019-06-18   \n",
       "847 A2019177   2019-06-26   \n",
       "848 A2019185   2019-07-04   \n",
       "849 A2019193   2019-07-12   \n",
       "850 A2019201   2019-07-20   \n",
       "851 A2019209   2019-07-28   \n",
       "852 A2019217   2019-08-05   \n",
       "853 A2019225   2019-08-13   \n",
       "854 A2019233   2019-08-21   \n",
       "855 A2019241   2019-08-29   \n",
       "856 A2019249   2019-09-06   \n",
       "857 A2019257   2019-09-14   \n",
       "858 A2019265   2019-09-22   \n",
       "859 A2019273   2019-09-30   \n",
       "860 A2019281   2019-10-08   \n",
       "861 A2019289   2019-10-16   \n",
       "862 A2019297   2019-10-24   "
      ]
     },
     "metadata": {},
     "output_type": "display_data"
    }
   ],
   "source": [
    "# available dates for the selected product and site\n",
    "dates <- mt_dates(product = product, lat = lat, lon = lon)\n",
    "print(paste('n. of dates:', dim(dates)[1]))\n",
    "dates"
   ]
  },
  {
   "cell_type": "code",
   "execution_count": 24,
   "metadata": {
    "scrolled": true
   },
   "outputs": [
    {
     "data": {
      "text/html": [
       "'2019-10-24'"
      ],
      "text/latex": [
       "'2019-10-24'"
      ],
      "text/markdown": [
       "'2019-10-24'"
      ],
      "text/plain": [
       "[1] \"2019-10-24\""
      ]
     },
     "metadata": {},
     "output_type": "display_data"
    }
   ],
   "source": [
    "tail(dates$calendar_date, 1)"
   ]
  },
  {
   "cell_type": "code",
   "execution_count": 25,
   "metadata": {},
   "outputs": [],
   "source": [
    "start = dates$calendar_date[1]\n",
    "end = tail(dates$calendar_date, 1)"
   ]
  },
  {
   "cell_type": "markdown",
   "metadata": {},
   "source": [
    "#### Downloading MODIS time series"
   ]
  },
  {
   "cell_type": "code",
   "execution_count": 26,
   "metadata": {},
   "outputs": [
    {
     "name": "stdout",
     "output_type": "stream",
     "text": [
      "'data.frame':\t21550 obs. of  21 variables:\n",
      " $ xllcorner    : chr  \"-376209.94\" \"-376209.94\" \"-376209.94\" \"-376209.94\" ...\n",
      " $ yllcorner    : chr  \"4797139.90\" \"4797139.90\" \"4797139.90\" \"4797139.90\" ...\n",
      " $ cellsize     : chr  \"463.312716528\" \"463.312716528\" \"463.312716528\" \"463.312716528\" ...\n",
      " $ nrows        : int  5 5 5 5 5 5 5 5 5 5 ...\n",
      " $ ncols        : int  5 5 5 5 5 5 5 5 5 5 ...\n",
      " $ band         : chr  \"ET_500m\" \"ET_500m\" \"ET_500m\" \"ET_500m\" ...\n",
      " $ units        : chr  \"kg/m^2/8day\" \"kg/m^2/8day\" \"kg/m^2/8day\" \"kg/m^2/8day\" ...\n",
      " $ scale        : chr  \"0.1\" \"0.1\" \"0.1\" \"0.1\" ...\n",
      " $ latitude     : num  43.2 43.2 43.2 43.2 43.2 ...\n",
      " $ longitude    : num  -4.62 -4.62 -4.62 -4.62 -4.62 ...\n",
      " $ site         : chr  \"Potes\" \"Potes\" \"Potes\" \"Potes\" ...\n",
      " $ product      : chr  \"MOD16A2\" \"MOD16A2\" \"MOD16A2\" \"MOD16A2\" ...\n",
      " $ start        : chr  \"2001-01-01\" \"2001-01-01\" \"2001-01-01\" \"2001-01-01\" ...\n",
      " $ end          : chr  \"2019-10-24\" \"2019-10-24\" \"2019-10-24\" \"2019-10-24\" ...\n",
      " $ complete     : logi  TRUE TRUE TRUE TRUE TRUE TRUE ...\n",
      " $ modis_date   : chr  \"A2001001\" \"A2001009\" \"A2001017\" \"A2001025\" ...\n",
      " $ calendar_date: chr  \"2001-01-01\" \"2001-01-09\" \"2001-01-17\" \"2001-01-25\" ...\n",
      " $ tile         : chr  \"h17v04\" \"h17v04\" \"h17v04\" \"h17v04\" ...\n",
      " $ proc_date    : chr  \"2017068140650\" \"2017068153648\" \"2017068192348\" \"2017068215606\" ...\n",
      " $ pixel        : int  1 1 1 1 1 1 1 1 1 1 ...\n",
      " $ value        : int  33 43 41 32 32765 69 70 60 109 32765 ...\n",
      "NULL\n"
     ]
    }
   ],
   "source": [
    "# download data\n",
    "subset <- mt_subset(product = product,\n",
    "                    lat = lat,\n",
    "                    lon = lon,\n",
    "                    band = band,\n",
    "                    start = start,\n",
    "                    end = end,\n",
    "                    km_lr = 1,\n",
    "                    km_ab = 1,\n",
    "                    site_name = \"Potes\",\n",
    "                    internal = TRUE,\n",
    "                    progress = FALSE)\n",
    "print(str(subset))"
   ]
  },
  {
   "cell_type": "code",
   "execution_count": 28,
   "metadata": {},
   "outputs": [
    {
     "data": {
      "text/html": [
       "<table>\n",
       "<thead><tr><th></th><th scope=col>xllcorner</th><th scope=col>yllcorner</th><th scope=col>cellsize</th><th scope=col>nrows</th><th scope=col>ncols</th><th scope=col>band</th><th scope=col>units</th><th scope=col>scale</th><th scope=col>latitude</th><th scope=col>longitude</th><th scope=col>...</th><th scope=col>product</th><th scope=col>start</th><th scope=col>end</th><th scope=col>complete</th><th scope=col>modis_date</th><th scope=col>calendar_date</th><th scope=col>tile</th><th scope=col>proc_date</th><th scope=col>pixel</th><th scope=col>value</th></tr></thead>\n",
       "<tbody>\n",
       "\t<tr><th scope=row>1.1</th><td>-376209.94   </td><td>4797139.90   </td><td>463.312716528</td><td>5            </td><td>5            </td><td>ET_500m      </td><td>kg/m^2/8day  </td><td>0.1          </td><td>43.154       </td><td>-4.624       </td><td>...          </td><td>MOD16A2      </td><td>2001-01-01   </td><td>2019-10-24   </td><td>TRUE         </td><td>A2001001     </td><td>2001-01-01   </td><td>h17v04       </td><td>2017068140650</td><td>1            </td><td>   33        </td></tr>\n",
       "\t<tr><th scope=row>2.1</th><td>-376209.94   </td><td>4797139.90   </td><td>463.312716528</td><td>5            </td><td>5            </td><td>ET_500m      </td><td>kg/m^2/8day  </td><td>0.1          </td><td>43.154       </td><td>-4.624       </td><td>...          </td><td>MOD16A2      </td><td>2001-01-01   </td><td>2019-10-24   </td><td>TRUE         </td><td>A2001009     </td><td>2001-01-09   </td><td>h17v04       </td><td>2017068153648</td><td>1            </td><td>   43        </td></tr>\n",
       "\t<tr><th scope=row>3.1</th><td>-376209.94   </td><td>4797139.90   </td><td>463.312716528</td><td>5            </td><td>5            </td><td>ET_500m      </td><td>kg/m^2/8day  </td><td>0.1          </td><td>43.154       </td><td>-4.624       </td><td>...          </td><td>MOD16A2      </td><td>2001-01-01   </td><td>2019-10-24   </td><td>TRUE         </td><td>A2001017     </td><td>2001-01-17   </td><td>h17v04       </td><td>2017068192348</td><td>1            </td><td>   41        </td></tr>\n",
       "\t<tr><th scope=row>4.1</th><td>-376209.94   </td><td>4797139.90   </td><td>463.312716528</td><td>5            </td><td>5            </td><td>ET_500m      </td><td>kg/m^2/8day  </td><td>0.1          </td><td>43.154       </td><td>-4.624       </td><td>...          </td><td>MOD16A2      </td><td>2001-01-01   </td><td>2019-10-24   </td><td>TRUE         </td><td>A2001025     </td><td>2001-01-25   </td><td>h17v04       </td><td>2017068215606</td><td>1            </td><td>   32        </td></tr>\n",
       "\t<tr><th scope=row>5.1</th><td>-376209.94   </td><td>4797139.90   </td><td>463.312716528</td><td>5            </td><td>5            </td><td>ET_500m      </td><td>kg/m^2/8day  </td><td>0.1          </td><td>43.154       </td><td>-4.624       </td><td>...          </td><td>MOD16A2      </td><td>2001-01-01   </td><td>2019-10-24   </td><td>TRUE         </td><td>A2001033     </td><td>2001-02-02   </td><td>h17v04       </td><td>2017069011646</td><td>1            </td><td>32765        </td></tr>\n",
       "\t<tr><th scope=row>6.1</th><td>-376209.94   </td><td>4797139.90   </td><td>463.312716528</td><td>5            </td><td>5            </td><td>ET_500m      </td><td>kg/m^2/8day  </td><td>0.1          </td><td>43.154       </td><td>-4.624       </td><td>...          </td><td>MOD16A2      </td><td>2001-01-01   </td><td>2019-10-24   </td><td>TRUE         </td><td>A2001041     </td><td>2001-02-10   </td><td>h17v04       </td><td>2017069034419</td><td>1            </td><td>   69        </td></tr>\n",
       "</tbody>\n",
       "</table>\n"
      ],
      "text/latex": [
       "\\begin{tabular}{r|lllllllllllllllllllll}\n",
       "  & xllcorner & yllcorner & cellsize & nrows & ncols & band & units & scale & latitude & longitude & ... & product & start & end & complete & modis\\_date & calendar\\_date & tile & proc\\_date & pixel & value\\\\\n",
       "\\hline\n",
       "\t1.1 & -376209.94                    & 4797139.90                    & 463.312716528                 & 5                             & 5                             & ET\\_500m                     & kg/m\\textasciicircum{}2/8day & 0.1                           & 43.154                        & -4.624                        & ...                           & MOD16A2                       & 2001-01-01                    & 2019-10-24                    & TRUE                          & A2001001                      & 2001-01-01                    & h17v04                        & 2017068140650                 & 1                             &    33                        \\\\\n",
       "\t2.1 & -376209.94                    & 4797139.90                    & 463.312716528                 & 5                             & 5                             & ET\\_500m                     & kg/m\\textasciicircum{}2/8day & 0.1                           & 43.154                        & -4.624                        & ...                           & MOD16A2                       & 2001-01-01                    & 2019-10-24                    & TRUE                          & A2001009                      & 2001-01-09                    & h17v04                        & 2017068153648                 & 1                             &    43                        \\\\\n",
       "\t3.1 & -376209.94                    & 4797139.90                    & 463.312716528                 & 5                             & 5                             & ET\\_500m                     & kg/m\\textasciicircum{}2/8day & 0.1                           & 43.154                        & -4.624                        & ...                           & MOD16A2                       & 2001-01-01                    & 2019-10-24                    & TRUE                          & A2001017                      & 2001-01-17                    & h17v04                        & 2017068192348                 & 1                             &    41                        \\\\\n",
       "\t4.1 & -376209.94                    & 4797139.90                    & 463.312716528                 & 5                             & 5                             & ET\\_500m                     & kg/m\\textasciicircum{}2/8day & 0.1                           & 43.154                        & -4.624                        & ...                           & MOD16A2                       & 2001-01-01                    & 2019-10-24                    & TRUE                          & A2001025                      & 2001-01-25                    & h17v04                        & 2017068215606                 & 1                             &    32                        \\\\\n",
       "\t5.1 & -376209.94                    & 4797139.90                    & 463.312716528                 & 5                             & 5                             & ET\\_500m                     & kg/m\\textasciicircum{}2/8day & 0.1                           & 43.154                        & -4.624                        & ...                           & MOD16A2                       & 2001-01-01                    & 2019-10-24                    & TRUE                          & A2001033                      & 2001-02-02                    & h17v04                        & 2017069011646                 & 1                             & 32765                        \\\\\n",
       "\t6.1 & -376209.94                    & 4797139.90                    & 463.312716528                 & 5                             & 5                             & ET\\_500m                     & kg/m\\textasciicircum{}2/8day & 0.1                           & 43.154                        & -4.624                        & ...                           & MOD16A2                       & 2001-01-01                    & 2019-10-24                    & TRUE                          & A2001041                      & 2001-02-10                    & h17v04                        & 2017069034419                 & 1                             &    69                        \\\\\n",
       "\\end{tabular}\n"
      ],
      "text/markdown": [
       "\n",
       "| <!--/--> | xllcorner | yllcorner | cellsize | nrows | ncols | band | units | scale | latitude | longitude | ... | product | start | end | complete | modis_date | calendar_date | tile | proc_date | pixel | value |\n",
       "|---|---|---|---|---|---|---|---|---|---|---|---|---|---|---|---|---|---|---|---|---|---|\n",
       "| 1.1 | -376209.94    | 4797139.90    | 463.312716528 | 5             | 5             | ET_500m       | kg/m^2/8day   | 0.1           | 43.154        | -4.624        | ...           | MOD16A2       | 2001-01-01    | 2019-10-24    | TRUE          | A2001001      | 2001-01-01    | h17v04        | 2017068140650 | 1             |    33         |\n",
       "| 2.1 | -376209.94    | 4797139.90    | 463.312716528 | 5             | 5             | ET_500m       | kg/m^2/8day   | 0.1           | 43.154        | -4.624        | ...           | MOD16A2       | 2001-01-01    | 2019-10-24    | TRUE          | A2001009      | 2001-01-09    | h17v04        | 2017068153648 | 1             |    43         |\n",
       "| 3.1 | -376209.94    | 4797139.90    | 463.312716528 | 5             | 5             | ET_500m       | kg/m^2/8day   | 0.1           | 43.154        | -4.624        | ...           | MOD16A2       | 2001-01-01    | 2019-10-24    | TRUE          | A2001017      | 2001-01-17    | h17v04        | 2017068192348 | 1             |    41         |\n",
       "| 4.1 | -376209.94    | 4797139.90    | 463.312716528 | 5             | 5             | ET_500m       | kg/m^2/8day   | 0.1           | 43.154        | -4.624        | ...           | MOD16A2       | 2001-01-01    | 2019-10-24    | TRUE          | A2001025      | 2001-01-25    | h17v04        | 2017068215606 | 1             |    32         |\n",
       "| 5.1 | -376209.94    | 4797139.90    | 463.312716528 | 5             | 5             | ET_500m       | kg/m^2/8day   | 0.1           | 43.154        | -4.624        | ...           | MOD16A2       | 2001-01-01    | 2019-10-24    | TRUE          | A2001033      | 2001-02-02    | h17v04        | 2017069011646 | 1             | 32765         |\n",
       "| 6.1 | -376209.94    | 4797139.90    | 463.312716528 | 5             | 5             | ET_500m       | kg/m^2/8day   | 0.1           | 43.154        | -4.624        | ...           | MOD16A2       | 2001-01-01    | 2019-10-24    | TRUE          | A2001041      | 2001-02-10    | h17v04        | 2017069034419 | 1             |    69         |\n",
       "\n"
      ],
      "text/plain": [
       "    xllcorner  yllcorner  cellsize      nrows ncols band    units       scale\n",
       "1.1 -376209.94 4797139.90 463.312716528 5     5     ET_500m kg/m^2/8day 0.1  \n",
       "2.1 -376209.94 4797139.90 463.312716528 5     5     ET_500m kg/m^2/8day 0.1  \n",
       "3.1 -376209.94 4797139.90 463.312716528 5     5     ET_500m kg/m^2/8day 0.1  \n",
       "4.1 -376209.94 4797139.90 463.312716528 5     5     ET_500m kg/m^2/8day 0.1  \n",
       "5.1 -376209.94 4797139.90 463.312716528 5     5     ET_500m kg/m^2/8day 0.1  \n",
       "6.1 -376209.94 4797139.90 463.312716528 5     5     ET_500m kg/m^2/8day 0.1  \n",
       "    latitude longitude ... product start      end        complete modis_date\n",
       "1.1 43.154   -4.624    ... MOD16A2 2001-01-01 2019-10-24 TRUE     A2001001  \n",
       "2.1 43.154   -4.624    ... MOD16A2 2001-01-01 2019-10-24 TRUE     A2001009  \n",
       "3.1 43.154   -4.624    ... MOD16A2 2001-01-01 2019-10-24 TRUE     A2001017  \n",
       "4.1 43.154   -4.624    ... MOD16A2 2001-01-01 2019-10-24 TRUE     A2001025  \n",
       "5.1 43.154   -4.624    ... MOD16A2 2001-01-01 2019-10-24 TRUE     A2001033  \n",
       "6.1 43.154   -4.624    ... MOD16A2 2001-01-01 2019-10-24 TRUE     A2001041  \n",
       "    calendar_date tile   proc_date     pixel value\n",
       "1.1 2001-01-01    h17v04 2017068140650 1        33\n",
       "2.1 2001-01-09    h17v04 2017068153648 1        43\n",
       "3.1 2001-01-17    h17v04 2017068192348 1        41\n",
       "4.1 2001-01-25    h17v04 2017068215606 1        32\n",
       "5.1 2001-02-02    h17v04 2017069011646 1     32765\n",
       "6.1 2001-02-10    h17v04 2017069034419 1        69"
      ]
     },
     "metadata": {},
     "output_type": "display_data"
    }
   ],
   "source": [
    "head(subset)"
   ]
  },
  {
   "cell_type": "markdown",
   "metadata": {},
   "source": [
    "#### Batch downloading MODIS time series"
   ]
  },
  {
   "cell_type": "code",
   "execution_count": null,
   "metadata": {},
   "outputs": [],
   "source": [
    "# create data frame with a site_name, lat and lon column\n",
    "# holding the respective names of sites and their location\n",
    "df <- data.frame(\"site_name\" = paste(\"test\",1:2))\n",
    "df$lat <- lat\n",
    "df$lon <- lon\n",
    "  \n",
    "# test batch download\n",
    "subsets <- mt_batch_subset(df = df,\n",
    "                     product = \"MOD11A2\",\n",
    "                     band = \"LST_Day_1km\",\n",
    "                     internal = TRUE,\n",
    "                     start = \"2004-01-01\",\n",
    "                     end = \"2004-02-01\")\n",
    "\n",
    "print(str(subsets))"
   ]
  },
  {
   "cell_type": "code",
   "execution_count": null,
   "metadata": {},
   "outputs": [],
   "source": []
  }
 ],
 "metadata": {
  "kernelspec": {
   "display_name": "R",
   "language": "R",
   "name": "ir"
  },
  "language_info": {
   "codemirror_mode": "r",
   "file_extension": ".r",
   "mimetype": "text/x-r-source",
   "name": "R",
   "pygments_lexer": "r",
   "version": "3.6.1"
  },
  "varInspector": {
   "cols": {
    "lenName": 16,
    "lenType": 16,
    "lenVar": 40
   },
   "kernels_config": {
    "python": {
     "delete_cmd_postfix": "",
     "delete_cmd_prefix": "del ",
     "library": "var_list.py",
     "varRefreshCmd": "print(var_dic_list())"
    },
    "r": {
     "delete_cmd_postfix": ") ",
     "delete_cmd_prefix": "rm(",
     "library": "var_list.r",
     "varRefreshCmd": "cat(var_dic_list()) "
    }
   },
   "types_to_exclude": [
    "module",
    "function",
    "builtin_function_or_method",
    "instance",
    "_Feature"
   ],
   "window_display": false
  }
 },
 "nbformat": 4,
 "nbformat_minor": 2
}
