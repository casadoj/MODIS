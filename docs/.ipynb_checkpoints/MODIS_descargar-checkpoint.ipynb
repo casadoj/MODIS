{
 "cells": [
  {
   "cell_type": "markdown",
   "metadata": {},
   "source": [
    "_Autor:_    __Jesús Casado__ <br> _Revisión:_ __20/11/2019__ <br>\n",
    "\n",
    "__Introducción__<br>\n",
    "Código para descargar datos MODIS del [servidor USGS](https://e4ftl01.cr.usgs.gov/). En dicho enlace se pueden ver las misiones, productos y fechas disponibles.\n",
    "\n",
    "Para poder descargar datos del servidor, es necesario estar registrado en https://urs.earthdata.nasa.gov/.\n",
    "\n",
    "__Cosas que arreglar__ <br>\n",
    "\n",
    "***\n",
    "\n",
    "__Índice__<br>\n",
    "__[Evapotranspiración](#Evapotranspiración)__<br>\n",
    "__[FPAR/LAI](#FPAR/LAI)__<br>\n",
    "__[Índices de vegetación](#Índices-de-vegetación)__<br>\n",
    "__[Cobertura del suelo](#Cobertura-del-suelo)__<br>\n",
    "***"
   ]
  },
  {
   "cell_type": "code",
   "execution_count": 1,
   "metadata": {},
   "outputs": [],
   "source": [
    "import os\n",
    "import requests\n",
    "import urllib\n",
    "from http.cookiejar import CookieJar\n",
    "from bs4 import BeautifulSoup\n",
    "from datetime import datetime"
   ]
  },
  {
   "cell_type": "code",
   "execution_count": 2,
   "metadata": {},
   "outputs": [],
   "source": [
    "%run funciones_MODIS.ipynb"
   ]
  },
  {
   "cell_type": "code",
   "execution_count": 5,
   "metadata": {},
   "outputs": [],
   "source": [
    "# ruta donde guardar las descargas\n",
    "rutaMODIS = 'F:/OneDrive - Universidad de Cantabria/Cartografia/MODIS/'"
   ]
  },
  {
   "cell_type": "markdown",
   "metadata": {},
   "source": [
    "### Evapotranspiración"
   ]
  },
  {
   "cell_type": "code",
   "execution_count": 19,
   "metadata": {},
   "outputs": [
    {
     "name": "stdout",
     "output_type": "stream",
     "text": [
      "Fecha  797 de  797; archivo   1 de   1\r"
     ]
    }
   ],
   "source": [
    "# Evapotranspiración (8 días, 500 m) de Aqua\n",
    "descarga_MODIS('casadoj', 'Chomolungma1619', rutaMODIS, 'MYD16A2.006', tiles=['h17v04'])"
   ]
  },
  {
   "cell_type": "code",
   "execution_count": 6,
   "metadata": {},
   "outputs": [
    {
     "name": "stdout",
     "output_type": "stream",
     "text": [
      "Fecha  866 de  866; archivo   1 de   1\r"
     ]
    }
   ],
   "source": [
    "# Evapotranspiración (8 días, 500 m) de Terra\n",
    "descarga_MODIS('casadoj', 'Chomolungma1619', rutaMODIS, 'MOD16A2.006', tiles=['h17v04'])"
   ]
  },
  {
   "cell_type": "markdown",
   "metadata": {},
   "source": [
    "### FPAR/LAI"
   ]
  },
  {
   "cell_type": "code",
   "execution_count": 8,
   "metadata": {},
   "outputs": [
    {
     "name": "stdout",
     "output_type": "stream",
     "text": [
      "Fecha  905 de  905; archivo   1 de   1\r"
     ]
    }
   ],
   "source": [
    "# FPAR/LAI de Terra \n",
    "descarga_MODIS('casadoj', 'Chomolungma1619', rutaMODIS, 'MOD15A2H.006', tiles=['h17v04'])"
   ]
  },
  {
   "cell_type": "code",
   "execution_count": 9,
   "metadata": {},
   "outputs": [
    {
     "name": "stdout",
     "output_type": "stream",
     "text": [
      "Fecha  799 de  799; archivo   1 de   1\r"
     ]
    }
   ],
   "source": [
    "# FPAR/LAI de Aqua\n",
    "descarga_MODIS('casadoj', 'Chomolungma1619', rutaMODIS, 'MYD15A2H.006', tiles=['h17v04'])"
   ]
  },
  {
   "cell_type": "markdown",
   "metadata": {},
   "source": [
    "### Índices de vegetación"
   ]
  },
  {
   "cell_type": "code",
   "execution_count": 10,
   "metadata": {},
   "outputs": [
    {
     "name": "stdout",
     "output_type": "stream",
     "text": [
      "Fecha  453 de  453; archivo   1 de   1\r"
     ]
    }
   ],
   "source": [
    "# Vegetation indexes NDVI/EVI (16 días, 500m) de Terra ¡hay también a 250 m (MOD13Q1)!\n",
    "descarga_MODIS('casadoj', 'Chomolungma1619', rutaMODIS, 'MOD13A1.006', tiles=['h17v04'])"
   ]
  },
  {
   "cell_type": "code",
   "execution_count": 11,
   "metadata": {},
   "outputs": [
    {
     "name": "stdout",
     "output_type": "stream",
     "text": [
      "Fecha  399 de  399; archivo   1 de   1\r"
     ]
    }
   ],
   "source": [
    "# Vegetation indexes NDVI/EVI (16 días, 500m) de Aqua ¡hay también a 250 m (MYD13Q1)!\n",
    "descarga_MODIS('casadoj', 'Chomolungma1619', rutaMODIS, 'MYD13A1.006', tiles=['h17v04'])"
   ]
  },
  {
   "cell_type": "markdown",
   "metadata": {},
   "source": [
    "### Cobertura del suelo"
   ]
  },
  {
   "cell_type": "code",
   "execution_count": 12,
   "metadata": {},
   "outputs": [
    {
     "name": "stdout",
     "output_type": "stream",
     "text": [
      "Fecha   18 de   18; archivo   1 de   1\r"
     ]
    }
   ],
   "source": [
    "# Land cover type (anual, 500 m) combinado Aqua y Terra\n",
    "descarga_MODIS('casadoj', 'Chomolungma1619', rutaMODIS, 'MCD12Q1.006', tiles=['h17v04'])"
   ]
  },
  {
   "cell_type": "code",
   "execution_count": 13,
   "metadata": {},
   "outputs": [
    {
     "name": "stdout",
     "output_type": "stream",
     "text": [
      "Fecha   17 de   17; archivo   1 de   1\r"
     ]
    }
   ],
   "source": [
    "# Land cover dynamics (anual, 500 m) combinado Aqua y Terra\n",
    "descarga_MODIS('casadoj', 'Chomolungma1619', rutaMODIS, 'MCD12Q2.006', tiles=['h17v04'])"
   ]
  },
  {
   "cell_type": "code",
   "execution_count": null,
   "metadata": {},
   "outputs": [],
   "source": []
  }
 ],
 "metadata": {
  "kernelspec": {
   "display_name": "Python 3",
   "language": "python",
   "name": "python3"
  },
  "language_info": {
   "codemirror_mode": {
    "name": "ipython",
    "version": 3
   },
   "file_extension": ".py",
   "mimetype": "text/x-python",
   "name": "python",
   "nbconvert_exporter": "python",
   "pygments_lexer": "ipython3",
   "version": "3.7.3"
  },
  "varInspector": {
   "cols": {
    "lenName": 16,
    "lenType": 16,
    "lenVar": 40
   },
   "kernels_config": {
    "python": {
     "delete_cmd_postfix": "",
     "delete_cmd_prefix": "del ",
     "library": "var_list.py",
     "varRefreshCmd": "print(var_dic_list())"
    },
    "r": {
     "delete_cmd_postfix": ") ",
     "delete_cmd_prefix": "rm(",
     "library": "var_list.r",
     "varRefreshCmd": "cat(var_dic_list()) "
    }
   },
   "types_to_exclude": [
    "module",
    "function",
    "builtin_function_or_method",
    "instance",
    "_Feature"
   ],
   "window_display": false
  }
 },
 "nbformat": 4,
 "nbformat_minor": 4
}
